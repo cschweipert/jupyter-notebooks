{
 "cells": [
  {
   "cell_type": "markdown",
   "metadata": {
    "tags": []
   },
   "source": [
    "### Install packages"
   ]
  },
  {
   "cell_type": "code",
   "execution_count": null,
   "metadata": {
    "tags": []
   },
   "outputs": [],
   "source": [
    "!pip install -U pip\n",
    "!pip install -U setuptools wheel\n",
    "!pip install -U \"mxnet<2.0.0\" bokeh==2.0.1\n",
    "!pip install autogluon --no-cache-dir\n",
    "# Without --no-cache-dir, smaller aws instances may have trouble installing"
   ]
  },
  {
   "cell_type": "markdown",
   "metadata": {
    "tags": []
   },
   "source": [
    "### Setup Kaggle API Key"
   ]
  },
  {
   "cell_type": "code",
   "execution_count": null,
   "metadata": {
    "tags": []
   },
   "outputs": [],
   "source": [
    "# create the .kaggle directory and an empty kaggle.json file\n",
    "!mkdir -p /root/.kaggle\n",
    "!touch /root/.kaggle/kaggle.json\n",
    "!chmod 600 /root/.kaggle/kaggle.json"
   ]
  },
  {
   "cell_type": "code",
   "execution_count": null,
   "metadata": {
    "collapsed": true,
    "jupyter": {
     "outputs_hidden": true
    },
    "tags": []
   },
   "outputs": [],
   "source": [
    "import json\n",
    "kaggle_username = \"FILL_IN_USERNAME\"\n",
    "kaggle_key = \"FILL_IN_KEY\"\n",
    "\n",
    "with open(\"/root/.kaggle/kaggle.json\", \"w\") as f:\n",
    "    f.write(json.dumps({\"username\": kaggle_username, \"key\": kaggle_key}))"
   ]
  },
  {
   "cell_type": "code",
   "execution_count": null,
   "metadata": {
    "tags": []
   },
   "outputs": [],
   "source": [
    "!kaggle competitions download -c bike-sharing-demand\n",
    "!unzip -o bike-sharing-demand.zip"
   ]
  },
  {
   "cell_type": "code",
   "execution_count": 1,
   "metadata": {
    "tags": []
   },
   "outputs": [],
   "source": [
    "import pandas as pd\n",
    "from autogluon.tabular import TabularPredictor, TabularDataset"
   ]
  },
  {
   "cell_type": "code",
   "execution_count": 2,
   "metadata": {
    "tags": []
   },
   "outputs": [
    {
     "data": {
      "text/html": [
       "<div>\n",
       "<style scoped>\n",
       "    .dataframe tbody tr th:only-of-type {\n",
       "        vertical-align: middle;\n",
       "    }\n",
       "\n",
       "    .dataframe tbody tr th {\n",
       "        vertical-align: top;\n",
       "    }\n",
       "\n",
       "    .dataframe thead th {\n",
       "        text-align: right;\n",
       "    }\n",
       "</style>\n",
       "<table border=\"1\" class=\"dataframe\">\n",
       "  <thead>\n",
       "    <tr style=\"text-align: right;\">\n",
       "      <th></th>\n",
       "      <th>datetime</th>\n",
       "      <th>season</th>\n",
       "      <th>holiday</th>\n",
       "      <th>workingday</th>\n",
       "      <th>weather</th>\n",
       "      <th>temp</th>\n",
       "      <th>atemp</th>\n",
       "      <th>humidity</th>\n",
       "      <th>windspeed</th>\n",
       "      <th>casual</th>\n",
       "      <th>registered</th>\n",
       "      <th>count</th>\n",
       "    </tr>\n",
       "  </thead>\n",
       "  <tbody>\n",
       "    <tr>\n",
       "      <th>0</th>\n",
       "      <td>2011-01-01 00:00:00</td>\n",
       "      <td>1</td>\n",
       "      <td>0</td>\n",
       "      <td>0</td>\n",
       "      <td>1</td>\n",
       "      <td>9.84</td>\n",
       "      <td>14.395</td>\n",
       "      <td>81</td>\n",
       "      <td>0.0</td>\n",
       "      <td>3</td>\n",
       "      <td>13</td>\n",
       "      <td>16</td>\n",
       "    </tr>\n",
       "    <tr>\n",
       "      <th>1</th>\n",
       "      <td>2011-01-01 01:00:00</td>\n",
       "      <td>1</td>\n",
       "      <td>0</td>\n",
       "      <td>0</td>\n",
       "      <td>1</td>\n",
       "      <td>9.02</td>\n",
       "      <td>13.635</td>\n",
       "      <td>80</td>\n",
       "      <td>0.0</td>\n",
       "      <td>8</td>\n",
       "      <td>32</td>\n",
       "      <td>40</td>\n",
       "    </tr>\n",
       "    <tr>\n",
       "      <th>2</th>\n",
       "      <td>2011-01-01 02:00:00</td>\n",
       "      <td>1</td>\n",
       "      <td>0</td>\n",
       "      <td>0</td>\n",
       "      <td>1</td>\n",
       "      <td>9.02</td>\n",
       "      <td>13.635</td>\n",
       "      <td>80</td>\n",
       "      <td>0.0</td>\n",
       "      <td>5</td>\n",
       "      <td>27</td>\n",
       "      <td>32</td>\n",
       "    </tr>\n",
       "    <tr>\n",
       "      <th>3</th>\n",
       "      <td>2011-01-01 03:00:00</td>\n",
       "      <td>1</td>\n",
       "      <td>0</td>\n",
       "      <td>0</td>\n",
       "      <td>1</td>\n",
       "      <td>9.84</td>\n",
       "      <td>14.395</td>\n",
       "      <td>75</td>\n",
       "      <td>0.0</td>\n",
       "      <td>3</td>\n",
       "      <td>10</td>\n",
       "      <td>13</td>\n",
       "    </tr>\n",
       "    <tr>\n",
       "      <th>4</th>\n",
       "      <td>2011-01-01 04:00:00</td>\n",
       "      <td>1</td>\n",
       "      <td>0</td>\n",
       "      <td>0</td>\n",
       "      <td>1</td>\n",
       "      <td>9.84</td>\n",
       "      <td>14.395</td>\n",
       "      <td>75</td>\n",
       "      <td>0.0</td>\n",
       "      <td>0</td>\n",
       "      <td>1</td>\n",
       "      <td>1</td>\n",
       "    </tr>\n",
       "  </tbody>\n",
       "</table>\n",
       "</div>"
      ],
      "text/plain": [
       "             datetime  season  holiday  workingday  weather  temp   atemp  \\\n",
       "0 2011-01-01 00:00:00       1        0           0        1  9.84  14.395   \n",
       "1 2011-01-01 01:00:00       1        0           0        1  9.02  13.635   \n",
       "2 2011-01-01 02:00:00       1        0           0        1  9.02  13.635   \n",
       "3 2011-01-01 03:00:00       1        0           0        1  9.84  14.395   \n",
       "4 2011-01-01 04:00:00       1        0           0        1  9.84  14.395   \n",
       "\n",
       "   humidity  windspeed  casual  registered  count  \n",
       "0        81        0.0       3          13     16  \n",
       "1        80        0.0       8          32     40  \n",
       "2        80        0.0       5          27     32  \n",
       "3        75        0.0       3          10     13  \n",
       "4        75        0.0       0           1      1  "
      ]
     },
     "execution_count": 2,
     "metadata": {},
     "output_type": "execute_result"
    }
   ],
   "source": [
    "train = pd.read_csv(\"/bike-sharing-demand/train.csv\", parse_dates=[\"datetime\"])\n",
    "train.head()"
   ]
  },
  {
   "cell_type": "code",
   "execution_count": 3,
   "metadata": {
    "collapsed": true,
    "jupyter": {
     "outputs_hidden": true
    },
    "tags": []
   },
   "outputs": [
    {
     "data": {
      "text/plain": [
       "datetime      0\n",
       "season        0\n",
       "holiday       0\n",
       "workingday    0\n",
       "weather       0\n",
       "temp          0\n",
       "atemp         0\n",
       "humidity      0\n",
       "windspeed     0\n",
       "casual        0\n",
       "registered    0\n",
       "count         0\n",
       "dtype: int64"
      ]
     },
     "execution_count": 3,
     "metadata": {},
     "output_type": "execute_result"
    }
   ],
   "source": [
    "train.isnull().sum()"
   ]
  },
  {
   "cell_type": "code",
   "execution_count": 4,
   "metadata": {
    "collapsed": true,
    "jupyter": {
     "outputs_hidden": true
    },
    "tags": []
   },
   "outputs": [
    {
     "data": {
      "text/html": [
       "<div>\n",
       "<style scoped>\n",
       "    .dataframe tbody tr th:only-of-type {\n",
       "        vertical-align: middle;\n",
       "    }\n",
       "\n",
       "    .dataframe tbody tr th {\n",
       "        vertical-align: top;\n",
       "    }\n",
       "\n",
       "    .dataframe thead th {\n",
       "        text-align: right;\n",
       "    }\n",
       "</style>\n",
       "<table border=\"1\" class=\"dataframe\">\n",
       "  <thead>\n",
       "    <tr style=\"text-align: right;\">\n",
       "      <th></th>\n",
       "      <th>season</th>\n",
       "      <th>holiday</th>\n",
       "      <th>workingday</th>\n",
       "      <th>weather</th>\n",
       "      <th>temp</th>\n",
       "      <th>atemp</th>\n",
       "      <th>humidity</th>\n",
       "      <th>windspeed</th>\n",
       "      <th>casual</th>\n",
       "      <th>registered</th>\n",
       "      <th>count</th>\n",
       "    </tr>\n",
       "  </thead>\n",
       "  <tbody>\n",
       "    <tr>\n",
       "      <th>count</th>\n",
       "      <td>10886.000000</td>\n",
       "      <td>10886.000000</td>\n",
       "      <td>10886.000000</td>\n",
       "      <td>10886.000000</td>\n",
       "      <td>10886.00000</td>\n",
       "      <td>10886.000000</td>\n",
       "      <td>10886.000000</td>\n",
       "      <td>10886.000000</td>\n",
       "      <td>10886.000000</td>\n",
       "      <td>10886.000000</td>\n",
       "      <td>10886.000000</td>\n",
       "    </tr>\n",
       "    <tr>\n",
       "      <th>mean</th>\n",
       "      <td>2.506614</td>\n",
       "      <td>0.028569</td>\n",
       "      <td>0.680875</td>\n",
       "      <td>1.418427</td>\n",
       "      <td>20.23086</td>\n",
       "      <td>23.655084</td>\n",
       "      <td>61.886460</td>\n",
       "      <td>12.799395</td>\n",
       "      <td>36.021955</td>\n",
       "      <td>155.552177</td>\n",
       "      <td>191.574132</td>\n",
       "    </tr>\n",
       "    <tr>\n",
       "      <th>std</th>\n",
       "      <td>1.116174</td>\n",
       "      <td>0.166599</td>\n",
       "      <td>0.466159</td>\n",
       "      <td>0.633839</td>\n",
       "      <td>7.79159</td>\n",
       "      <td>8.474601</td>\n",
       "      <td>19.245033</td>\n",
       "      <td>8.164537</td>\n",
       "      <td>49.960477</td>\n",
       "      <td>151.039033</td>\n",
       "      <td>181.144454</td>\n",
       "    </tr>\n",
       "    <tr>\n",
       "      <th>min</th>\n",
       "      <td>1.000000</td>\n",
       "      <td>0.000000</td>\n",
       "      <td>0.000000</td>\n",
       "      <td>1.000000</td>\n",
       "      <td>0.82000</td>\n",
       "      <td>0.760000</td>\n",
       "      <td>0.000000</td>\n",
       "      <td>0.000000</td>\n",
       "      <td>0.000000</td>\n",
       "      <td>0.000000</td>\n",
       "      <td>1.000000</td>\n",
       "    </tr>\n",
       "    <tr>\n",
       "      <th>25%</th>\n",
       "      <td>2.000000</td>\n",
       "      <td>0.000000</td>\n",
       "      <td>0.000000</td>\n",
       "      <td>1.000000</td>\n",
       "      <td>13.94000</td>\n",
       "      <td>16.665000</td>\n",
       "      <td>47.000000</td>\n",
       "      <td>7.001500</td>\n",
       "      <td>4.000000</td>\n",
       "      <td>36.000000</td>\n",
       "      <td>42.000000</td>\n",
       "    </tr>\n",
       "    <tr>\n",
       "      <th>50%</th>\n",
       "      <td>3.000000</td>\n",
       "      <td>0.000000</td>\n",
       "      <td>1.000000</td>\n",
       "      <td>1.000000</td>\n",
       "      <td>20.50000</td>\n",
       "      <td>24.240000</td>\n",
       "      <td>62.000000</td>\n",
       "      <td>12.998000</td>\n",
       "      <td>17.000000</td>\n",
       "      <td>118.000000</td>\n",
       "      <td>145.000000</td>\n",
       "    </tr>\n",
       "    <tr>\n",
       "      <th>75%</th>\n",
       "      <td>4.000000</td>\n",
       "      <td>0.000000</td>\n",
       "      <td>1.000000</td>\n",
       "      <td>2.000000</td>\n",
       "      <td>26.24000</td>\n",
       "      <td>31.060000</td>\n",
       "      <td>77.000000</td>\n",
       "      <td>16.997900</td>\n",
       "      <td>49.000000</td>\n",
       "      <td>222.000000</td>\n",
       "      <td>284.000000</td>\n",
       "    </tr>\n",
       "    <tr>\n",
       "      <th>max</th>\n",
       "      <td>4.000000</td>\n",
       "      <td>1.000000</td>\n",
       "      <td>1.000000</td>\n",
       "      <td>4.000000</td>\n",
       "      <td>41.00000</td>\n",
       "      <td>45.455000</td>\n",
       "      <td>100.000000</td>\n",
       "      <td>56.996900</td>\n",
       "      <td>367.000000</td>\n",
       "      <td>886.000000</td>\n",
       "      <td>977.000000</td>\n",
       "    </tr>\n",
       "  </tbody>\n",
       "</table>\n",
       "</div>"
      ],
      "text/plain": [
       "             season       holiday    workingday       weather         temp  \\\n",
       "count  10886.000000  10886.000000  10886.000000  10886.000000  10886.00000   \n",
       "mean       2.506614      0.028569      0.680875      1.418427     20.23086   \n",
       "std        1.116174      0.166599      0.466159      0.633839      7.79159   \n",
       "min        1.000000      0.000000      0.000000      1.000000      0.82000   \n",
       "25%        2.000000      0.000000      0.000000      1.000000     13.94000   \n",
       "50%        3.000000      0.000000      1.000000      1.000000     20.50000   \n",
       "75%        4.000000      0.000000      1.000000      2.000000     26.24000   \n",
       "max        4.000000      1.000000      1.000000      4.000000     41.00000   \n",
       "\n",
       "              atemp      humidity     windspeed        casual    registered  \\\n",
       "count  10886.000000  10886.000000  10886.000000  10886.000000  10886.000000   \n",
       "mean      23.655084     61.886460     12.799395     36.021955    155.552177   \n",
       "std        8.474601     19.245033      8.164537     49.960477    151.039033   \n",
       "min        0.760000      0.000000      0.000000      0.000000      0.000000   \n",
       "25%       16.665000     47.000000      7.001500      4.000000     36.000000   \n",
       "50%       24.240000     62.000000     12.998000     17.000000    118.000000   \n",
       "75%       31.060000     77.000000     16.997900     49.000000    222.000000   \n",
       "max       45.455000    100.000000     56.996900    367.000000    886.000000   \n",
       "\n",
       "              count  \n",
       "count  10886.000000  \n",
       "mean     191.574132  \n",
       "std      181.144454  \n",
       "min        1.000000  \n",
       "25%       42.000000  \n",
       "50%      145.000000  \n",
       "75%      284.000000  \n",
       "max      977.000000  "
      ]
     },
     "execution_count": 4,
     "metadata": {},
     "output_type": "execute_result"
    }
   ],
   "source": [
    "train.describe()"
   ]
  },
  {
   "cell_type": "code",
   "execution_count": 5,
   "metadata": {
    "collapsed": true,
    "jupyter": {
     "outputs_hidden": true
    },
    "tags": []
   },
   "outputs": [
    {
     "data": {
      "text/plain": [
       "count    10886.000000\n",
       "mean       191.574132\n",
       "std        181.144454\n",
       "min          1.000000\n",
       "25%         42.000000\n",
       "50%        145.000000\n",
       "75%        284.000000\n",
       "max        977.000000\n",
       "Name: count, dtype: float64"
      ]
     },
     "execution_count": 5,
     "metadata": {},
     "output_type": "execute_result"
    }
   ],
   "source": [
    "label = \"count\"\n",
    "train[label].describe()"
   ]
  },
  {
   "cell_type": "code",
   "execution_count": 6,
   "metadata": {
    "tags": []
   },
   "outputs": [
    {
     "data": {
      "text/html": [
       "<div>\n",
       "<style scoped>\n",
       "    .dataframe tbody tr th:only-of-type {\n",
       "        vertical-align: middle;\n",
       "    }\n",
       "\n",
       "    .dataframe tbody tr th {\n",
       "        vertical-align: top;\n",
       "    }\n",
       "\n",
       "    .dataframe thead th {\n",
       "        text-align: right;\n",
       "    }\n",
       "</style>\n",
       "<table border=\"1\" class=\"dataframe\">\n",
       "  <thead>\n",
       "    <tr style=\"text-align: right;\">\n",
       "      <th></th>\n",
       "      <th>datetime</th>\n",
       "      <th>season</th>\n",
       "      <th>holiday</th>\n",
       "      <th>workingday</th>\n",
       "      <th>weather</th>\n",
       "      <th>temp</th>\n",
       "      <th>atemp</th>\n",
       "      <th>humidity</th>\n",
       "      <th>windspeed</th>\n",
       "    </tr>\n",
       "  </thead>\n",
       "  <tbody>\n",
       "    <tr>\n",
       "      <th>0</th>\n",
       "      <td>2011-01-20 00:00:00</td>\n",
       "      <td>1</td>\n",
       "      <td>0</td>\n",
       "      <td>1</td>\n",
       "      <td>1</td>\n",
       "      <td>10.66</td>\n",
       "      <td>11.365</td>\n",
       "      <td>56</td>\n",
       "      <td>26.0027</td>\n",
       "    </tr>\n",
       "    <tr>\n",
       "      <th>1</th>\n",
       "      <td>2011-01-20 01:00:00</td>\n",
       "      <td>1</td>\n",
       "      <td>0</td>\n",
       "      <td>1</td>\n",
       "      <td>1</td>\n",
       "      <td>10.66</td>\n",
       "      <td>13.635</td>\n",
       "      <td>56</td>\n",
       "      <td>0.0000</td>\n",
       "    </tr>\n",
       "    <tr>\n",
       "      <th>2</th>\n",
       "      <td>2011-01-20 02:00:00</td>\n",
       "      <td>1</td>\n",
       "      <td>0</td>\n",
       "      <td>1</td>\n",
       "      <td>1</td>\n",
       "      <td>10.66</td>\n",
       "      <td>13.635</td>\n",
       "      <td>56</td>\n",
       "      <td>0.0000</td>\n",
       "    </tr>\n",
       "    <tr>\n",
       "      <th>3</th>\n",
       "      <td>2011-01-20 03:00:00</td>\n",
       "      <td>1</td>\n",
       "      <td>0</td>\n",
       "      <td>1</td>\n",
       "      <td>1</td>\n",
       "      <td>10.66</td>\n",
       "      <td>12.880</td>\n",
       "      <td>56</td>\n",
       "      <td>11.0014</td>\n",
       "    </tr>\n",
       "    <tr>\n",
       "      <th>4</th>\n",
       "      <td>2011-01-20 04:00:00</td>\n",
       "      <td>1</td>\n",
       "      <td>0</td>\n",
       "      <td>1</td>\n",
       "      <td>1</td>\n",
       "      <td>10.66</td>\n",
       "      <td>12.880</td>\n",
       "      <td>56</td>\n",
       "      <td>11.0014</td>\n",
       "    </tr>\n",
       "  </tbody>\n",
       "</table>\n",
       "</div>"
      ],
      "text/plain": [
       "             datetime  season  holiday  workingday  weather   temp   atemp  \\\n",
       "0 2011-01-20 00:00:00       1        0           1        1  10.66  11.365   \n",
       "1 2011-01-20 01:00:00       1        0           1        1  10.66  13.635   \n",
       "2 2011-01-20 02:00:00       1        0           1        1  10.66  13.635   \n",
       "3 2011-01-20 03:00:00       1        0           1        1  10.66  12.880   \n",
       "4 2011-01-20 04:00:00       1        0           1        1  10.66  12.880   \n",
       "\n",
       "   humidity  windspeed  \n",
       "0        56    26.0027  \n",
       "1        56     0.0000  \n",
       "2        56     0.0000  \n",
       "3        56    11.0014  \n",
       "4        56    11.0014  "
      ]
     },
     "execution_count": 6,
     "metadata": {},
     "output_type": "execute_result"
    }
   ],
   "source": [
    "test = pd.read_csv(\"/bike-sharing-demand/test.csv\", parse_dates=[\"datetime\"])\n",
    "test.head()"
   ]
  },
  {
   "cell_type": "code",
   "execution_count": 7,
   "metadata": {
    "collapsed": true,
    "jupyter": {
     "outputs_hidden": true
    },
    "tags": []
   },
   "outputs": [
    {
     "data": {
      "text/plain": [
       "datetime      0\n",
       "season        0\n",
       "holiday       0\n",
       "workingday    0\n",
       "weather       0\n",
       "temp          0\n",
       "atemp         0\n",
       "humidity      0\n",
       "windspeed     0\n",
       "dtype: int64"
      ]
     },
     "execution_count": 7,
     "metadata": {},
     "output_type": "execute_result"
    }
   ],
   "source": [
    "test.isnull().sum()"
   ]
  },
  {
   "cell_type": "code",
   "execution_count": 8,
   "metadata": {
    "tags": []
   },
   "outputs": [
    {
     "data": {
      "text/html": [
       "<div>\n",
       "<style scoped>\n",
       "    .dataframe tbody tr th:only-of-type {\n",
       "        vertical-align: middle;\n",
       "    }\n",
       "\n",
       "    .dataframe tbody tr th {\n",
       "        vertical-align: top;\n",
       "    }\n",
       "\n",
       "    .dataframe thead th {\n",
       "        text-align: right;\n",
       "    }\n",
       "</style>\n",
       "<table border=\"1\" class=\"dataframe\">\n",
       "  <thead>\n",
       "    <tr style=\"text-align: right;\">\n",
       "      <th></th>\n",
       "      <th>datetime</th>\n",
       "      <th>count</th>\n",
       "    </tr>\n",
       "  </thead>\n",
       "  <tbody>\n",
       "    <tr>\n",
       "      <th>0</th>\n",
       "      <td>2011-01-20 00:00:00</td>\n",
       "      <td>0</td>\n",
       "    </tr>\n",
       "    <tr>\n",
       "      <th>1</th>\n",
       "      <td>2011-01-20 01:00:00</td>\n",
       "      <td>0</td>\n",
       "    </tr>\n",
       "    <tr>\n",
       "      <th>2</th>\n",
       "      <td>2011-01-20 02:00:00</td>\n",
       "      <td>0</td>\n",
       "    </tr>\n",
       "    <tr>\n",
       "      <th>3</th>\n",
       "      <td>2011-01-20 03:00:00</td>\n",
       "      <td>0</td>\n",
       "    </tr>\n",
       "    <tr>\n",
       "      <th>4</th>\n",
       "      <td>2011-01-20 04:00:00</td>\n",
       "      <td>0</td>\n",
       "    </tr>\n",
       "  </tbody>\n",
       "</table>\n",
       "</div>"
      ],
      "text/plain": [
       "             datetime  count\n",
       "0 2011-01-20 00:00:00      0\n",
       "1 2011-01-20 01:00:00      0\n",
       "2 2011-01-20 02:00:00      0\n",
       "3 2011-01-20 03:00:00      0\n",
       "4 2011-01-20 04:00:00      0"
      ]
     },
     "execution_count": 8,
     "metadata": {},
     "output_type": "execute_result"
    }
   ],
   "source": [
    "submission = pd.read_csv(\"/bike-sharing-demand/sampleSubmission.csv\", parse_dates=[\"datetime\"])\n",
    "submission.head()"
   ]
  },
  {
   "cell_type": "code",
   "execution_count": 9,
   "metadata": {
    "collapsed": true,
    "jupyter": {
     "outputs_hidden": true
    },
    "tags": []
   },
   "outputs": [
    {
     "name": "stderr",
     "output_type": "stream",
     "text": [
      "No path specified. Models will be saved in: \"AutogluonModels/ag-20230315_195150/\"\n",
      "Presets specified: ['best_quality']\n",
      "Stack configuration (auto_stack=True): num_stack_levels=1, num_bag_folds=8, num_bag_sets=20\n",
      "Beginning AutoGluon training ... Time limit = 600s\n",
      "AutoGluon will save models to \"AutogluonModels/ag-20230315_195150/\"\n",
      "AutoGluon Version:  0.7.0\n",
      "Python Version:     3.8.16\n",
      "Operating System:   Darwin\n",
      "Platform Machine:   arm64\n",
      "Platform Version:   Darwin Kernel Version 22.2.0: Fri Nov 11 02:03:51 PST 2022; root:xnu-8792.61.2~4/RELEASE_ARM64_T6000\n",
      "Train Data Rows:    10886\n",
      "Train Data Columns: 11\n",
      "Label Column: count\n",
      "Preprocessing data ...\n",
      "AutoGluon infers your prediction problem is: 'regression' (because dtype of label-column == int and many unique label-values observed).\n",
      "\tLabel info (max, min, mean, stddev): (977, 1, 191.57413, 181.14445)\n",
      "\tIf 'regression' is not the correct problem_type, please manually specify the problem_type parameter during predictor init (You may specify problem_type as one of: ['binary', 'multiclass', 'regression'])\n",
      "Using Feature Generators to preprocess the data ...\n",
      "Dropping user-specified ignored columns: ['casual', 'registered']\n",
      "Fitting AutoMLPipelineFeatureGenerator...\n",
      "\tAvailable Memory:                    7036.22 MB\n",
      "\tTrain Data (Original)  Memory Usage: 0.78 MB (0.0% of available memory)\n",
      "\tInferring data type of each feature based on column values. Set feature_metadata_in to manually specify special dtypes of the features.\n",
      "\tStage 1 Generators:\n",
      "\t\tFitting AsTypeFeatureGenerator...\n",
      "\t\t\tNote: Converting 2 features to boolean dtype as they only contain 2 unique values.\n",
      "\tStage 2 Generators:\n",
      "\t\tFitting FillNaFeatureGenerator...\n",
      "\tStage 3 Generators:\n",
      "\t\tFitting IdentityFeatureGenerator...\n",
      "\t\tFitting DatetimeFeatureGenerator...\n",
      "\tStage 4 Generators:\n",
      "\t\tFitting DropUniqueFeatureGenerator...\n",
      "\tTypes of features in original data (raw dtype, special dtypes):\n",
      "\t\t('datetime', []) : 1 | ['datetime']\n",
      "\t\t('float', [])    : 3 | ['temp', 'atemp', 'windspeed']\n",
      "\t\t('int', [])      : 5 | ['season', 'holiday', 'workingday', 'weather', 'humidity']\n",
      "\tTypes of features in processed data (raw dtype, special dtypes):\n",
      "\t\t('float', [])                : 3 | ['temp', 'atemp', 'windspeed']\n",
      "\t\t('int', [])                  : 3 | ['season', 'weather', 'humidity']\n",
      "\t\t('int', ['bool'])            : 2 | ['holiday', 'workingday']\n",
      "\t\t('int', ['datetime_as_int']) : 5 | ['datetime', 'datetime.year', 'datetime.month', 'datetime.day', 'datetime.dayofweek']\n",
      "\t0.1s = Fit runtime\n",
      "\t9 features in original data used to generate 13 features in processed data.\n",
      "\tTrain Data (Processed) Memory Usage: 0.98 MB (0.0% of available memory)\n",
      "Data preprocessing and feature engineering runtime = 0.09s ...\n",
      "AutoGluon will gauge predictive performance using evaluation metric: 'root_mean_squared_error'\n",
      "\tThis metric's sign has been flipped to adhere to being higher_is_better. The metric score can be multiplied by -1 to get the metric value.\n",
      "\tTo change this, specify the eval_metric parameter of Predictor()\n",
      "AutoGluon will fit 2 stack levels (L1 to L2) ...\n",
      "Fitting 11 L1 models ...\n",
      "Fitting model: KNeighborsUnif_BAG_L1 ... Training model for up to 399.84s of the 599.91s of remaining time.\n",
      "\t-101.5882\t = Validation score   (-root_mean_squared_error)\n",
      "\t0.01s\t = Training   runtime\n",
      "\t0.01s\t = Validation runtime\n",
      "Fitting model: KNeighborsDist_BAG_L1 ... Training model for up to 399.16s of the 599.23s of remaining time.\n",
      "\t-84.1464\t = Validation score   (-root_mean_squared_error)\n",
      "\t0.01s\t = Training   runtime\n",
      "\t0.01s\t = Validation runtime\n",
      "Fitting model: LightGBMXT_BAG_L1 ... Training model for up to 399.13s of the 599.2s of remaining time.\n",
      "\tWill use sequential fold fitting strategy because Darwin OS does not yet support parallel folding.\n",
      "\tFitting 8 child models (S1F1 - S1F8) | Fitting with SequentialLocalFoldFittingStrategy\n"
     ]
    },
    {
     "name": "stdout",
     "output_type": "stream",
     "text": [
      "[1000]\tvalid_set's rmse: 131.684\n",
      "[2000]\tvalid_set's rmse: 130.67\n",
      "[3000]\tvalid_set's rmse: 130.626\n",
      "[1000]\tvalid_set's rmse: 135.592\n",
      "[1000]\tvalid_set's rmse: 133.481\n",
      "[2000]\tvalid_set's rmse: 132.323\n",
      "[3000]\tvalid_set's rmse: 131.618\n",
      "[4000]\tvalid_set's rmse: 131.443\n",
      "[5000]\tvalid_set's rmse: 131.265\n",
      "[6000]\tvalid_set's rmse: 131.277\n",
      "[7000]\tvalid_set's rmse: 131.443\n",
      "[1000]\tvalid_set's rmse: 128.503\n",
      "[2000]\tvalid_set's rmse: 127.654\n",
      "[3000]\tvalid_set's rmse: 127.227\n",
      "[4000]\tvalid_set's rmse: 127.105\n",
      "[1000]\tvalid_set's rmse: 134.135\n",
      "[2000]\tvalid_set's rmse: 132.272\n",
      "[3000]\tvalid_set's rmse: 131.286\n",
      "[4000]\tvalid_set's rmse: 130.752\n",
      "[5000]\tvalid_set's rmse: 130.363\n",
      "[6000]\tvalid_set's rmse: 130.509\n",
      "[1000]\tvalid_set's rmse: 136.168\n",
      "[2000]\tvalid_set's rmse: 135.138\n",
      "[3000]\tvalid_set's rmse: 135.029\n",
      "[1000]\tvalid_set's rmse: 134.061\n",
      "[2000]\tvalid_set's rmse: 133.034\n",
      "[3000]\tvalid_set's rmse: 132.182\n",
      "[4000]\tvalid_set's rmse: 131.997\n",
      "[5000]\tvalid_set's rmse: 131.643\n",
      "[6000]\tvalid_set's rmse: 131.504\n",
      "[7000]\tvalid_set's rmse: 131.574\n",
      "[1000]\tvalid_set's rmse: 132.912\n",
      "[2000]\tvalid_set's rmse: 131.703\n",
      "[3000]\tvalid_set's rmse: 131.117\n",
      "[4000]\tvalid_set's rmse: 130.82\n",
      "[5000]\tvalid_set's rmse: 130.673\n",
      "[6000]\tvalid_set's rmse: 130.708\n"
     ]
    },
    {
     "name": "stderr",
     "output_type": "stream",
     "text": [
      "\t-131.4609\t = Validation score   (-root_mean_squared_error)\n",
      "\t141.37s\t = Training   runtime\n",
      "\t0.41s\t = Validation runtime\n",
      "Fitting model: LightGBM_BAG_L1 ... Training model for up to 256.28s of the 456.35s of remaining time.\n",
      "\tFitting 8 child models (S1F1 - S1F8) | Fitting with SequentialLocalFoldFittingStrategy\n"
     ]
    },
    {
     "name": "stdout",
     "output_type": "stream",
     "text": [
      "[1000]\tvalid_set's rmse: 130.818\n",
      "[1000]\tvalid_set's rmse: 133.204\n",
      "[1000]\tvalid_set's rmse: 130.928\n",
      "[1000]\tvalid_set's rmse: 126.846\n",
      "[1000]\tvalid_set's rmse: 131.426\n",
      "[1000]\tvalid_set's rmse: 133.655\n",
      "[1000]\tvalid_set's rmse: 132.155\n",
      "[1000]\tvalid_set's rmse: 130.62\n"
     ]
    },
    {
     "name": "stderr",
     "output_type": "stream",
     "text": [
      "\t-131.0542\t = Validation score   (-root_mean_squared_error)\n",
      "\t34.65s\t = Training   runtime\n",
      "\t0.09s\t = Validation runtime\n",
      "Fitting model: RandomForestMSE_BAG_L1 ... Training model for up to 221.22s of the 421.29s of remaining time.\n",
      "\t-116.5439\t = Validation score   (-root_mean_squared_error)\n",
      "\t1.38s\t = Training   runtime\n",
      "\t0.26s\t = Validation runtime\n",
      "Fitting model: CatBoost_BAG_L1 ... Training model for up to 219.39s of the 419.46s of remaining time.\n",
      "\tFitting 8 child models (S1F1 - S1F8) | Fitting with SequentialLocalFoldFittingStrategy\n",
      "\tRan out of time, early stopping on iteration 6342.\n",
      "\tRan out of time, early stopping on iteration 6515.\n",
      "\tRan out of time, early stopping on iteration 6632.\n",
      "\t-130.5163\t = Validation score   (-root_mean_squared_error)\n",
      "\t145.97s\t = Training   runtime\n",
      "\t0.02s\t = Validation runtime\n",
      "Fitting model: ExtraTreesMSE_BAG_L1 ... Training model for up to 73.35s of the 273.42s of remaining time.\n",
      "\t-124.5878\t = Validation score   (-root_mean_squared_error)\n",
      "\t0.57s\t = Training   runtime\n",
      "\t0.27s\t = Validation runtime\n",
      "Fitting model: NeuralNetFastAI_BAG_L1 ... Training model for up to 72.35s of the 272.42s of remaining time.\n",
      "\tFitting 8 child models (S1F1 - S1F8) | Fitting with SequentialLocalFoldFittingStrategy\n",
      "\t-135.8069\t = Validation score   (-root_mean_squared_error)\n",
      "\t48.88s\t = Training   runtime\n",
      "\t0.09s\t = Validation runtime\n",
      "Fitting model: XGBoost_BAG_L1 ... Training model for up to 23.3s of the 223.37s of remaining time.\n",
      "\tFitting 8 child models (S1F1 - S1F8) | Fitting with SequentialLocalFoldFittingStrategy\n",
      "\t-131.6324\t = Validation score   (-root_mean_squared_error)\n",
      "\t20.87s\t = Training   runtime\n",
      "\t0.05s\t = Validation runtime\n",
      "Fitting model: NeuralNetTorch_BAG_L1 ... Training model for up to 2.3s of the 202.37s of remaining time.\n",
      "\tFitting 8 child models (S1F1 - S1F8) | Fitting with SequentialLocalFoldFittingStrategy\n",
      "\tNot enough time to train first epoch. (Time Required: 0.28s, Time Left: 0.19s)\n",
      "\tTime limit exceeded... Skipping NeuralNetTorch_BAG_L1.\n",
      "Fitting model: LightGBMLarge_BAG_L1 ... Training model for up to 2.23s of the 202.31s of remaining time.\n",
      "\tFitting 8 child models (S1F1 - S1F8) | Fitting with SequentialLocalFoldFittingStrategy\n",
      "\tRan out of time, early stopping on iteration 10. Best iteration is:\n",
      "\t[10]\tvalid_set's rmse: 162.47\n",
      "\tRan out of time, early stopping on iteration 11. Best iteration is:\n",
      "\t[11]\tvalid_set's rmse: 167.1\n",
      "\tRan out of time, early stopping on iteration 9. Best iteration is:\n",
      "\t[9]\tvalid_set's rmse: 169.374\n",
      "\tRan out of time, early stopping on iteration 12. Best iteration is:\n",
      "\t[12]\tvalid_set's rmse: 155.09\n",
      "\tRan out of time, early stopping on iteration 13. Best iteration is:\n",
      "\t[13]\tvalid_set's rmse: 156.148\n",
      "\tRan out of time, early stopping on iteration 12. Best iteration is:\n",
      "\t[12]\tvalid_set's rmse: 160.691\n",
      "\tRan out of time, early stopping on iteration 12. Best iteration is:\n",
      "\t[12]\tvalid_set's rmse: 160.414\n",
      "\tRan out of time, early stopping on iteration 19. Best iteration is:\n",
      "\t[19]\tvalid_set's rmse: 151.711\n",
      "\t-160.4735\t = Validation score   (-root_mean_squared_error)\n",
      "\t2.13s\t = Training   runtime\n",
      "\t0.01s\t = Validation runtime\n",
      "Completed 1/20 k-fold bagging repeats ...\n",
      "Fitting model: WeightedEnsemble_L2 ... Training model for up to 360.0s of the 200.13s of remaining time.\n",
      "\t-84.1464\t = Validation score   (-root_mean_squared_error)\n",
      "\t0.3s\t = Training   runtime\n",
      "\t0.0s\t = Validation runtime\n",
      "Fitting 9 L2 models ...\n",
      "Fitting model: LightGBMXT_BAG_L2 ... Training model for up to 199.82s of the 199.81s of remaining time.\n",
      "\tFitting 8 child models (S1F1 - S1F8) | Fitting with SequentialLocalFoldFittingStrategy\n"
     ]
    },
    {
     "name": "stdout",
     "output_type": "stream",
     "text": [
      "[1000]\tvalid_set's rmse: 59.8826\n",
      "[2000]\tvalid_set's rmse: 58.8233\n",
      "[1000]\tvalid_set's rmse: 60.0021\n",
      "[2000]\tvalid_set's rmse: 59.0459\n",
      "[1000]\tvalid_set's rmse: 62.8742\n",
      "[2000]\tvalid_set's rmse: 61.5991\n",
      "[1000]\tvalid_set's rmse: 64.421\n",
      "[2000]\tvalid_set's rmse: 62.6877\n",
      "[1000]\tvalid_set's rmse: 58.5712\n",
      "[2000]\tvalid_set's rmse: 57.6807\n",
      "[1000]\tvalid_set's rmse: 62.7947\n",
      "[2000]\tvalid_set's rmse: 61.6058\n",
      "[1000]\tvalid_set's rmse: 63.0031\n",
      "[2000]\tvalid_set's rmse: 61.9254\n",
      "[3000]\tvalid_set's rmse: 61.8673\n",
      "[4000]\tvalid_set's rmse: 61.9065\n",
      "[1000]\tvalid_set's rmse: 57.8321\n",
      "[2000]\tvalid_set's rmse: 57.6018\n"
     ]
    },
    {
     "name": "stderr",
     "output_type": "stream",
     "text": [
      "\t-60.0789\t = Validation score   (-root_mean_squared_error)\n",
      "\t77.06s\t = Training   runtime\n",
      "\t0.22s\t = Validation runtime\n",
      "Fitting model: LightGBM_BAG_L2 ... Training model for up to 121.93s of the 121.93s of remaining time.\n",
      "\tFitting 8 child models (S1F1 - S1F8) | Fitting with SequentialLocalFoldFittingStrategy\n",
      "\t-54.8506\t = Validation score   (-root_mean_squared_error)\n",
      "\t16.8s\t = Training   runtime\n",
      "\t0.04s\t = Validation runtime\n",
      "Fitting model: RandomForestMSE_BAG_L2 ... Training model for up to 105.01s of the 105.01s of remaining time.\n",
      "\t-53.2098\t = Validation score   (-root_mean_squared_error)\n",
      "\t3.74s\t = Training   runtime\n",
      "\t0.29s\t = Validation runtime\n",
      "Fitting model: CatBoost_BAG_L2 ... Training model for up to 100.85s of the 100.84s of remaining time.\n",
      "\tFitting 8 child models (S1F1 - S1F8) | Fitting with SequentialLocalFoldFittingStrategy\n",
      "\t-55.5571\t = Validation score   (-root_mean_squared_error)\n",
      "\t35.08s\t = Training   runtime\n",
      "\t0.02s\t = Validation runtime\n",
      "Fitting model: ExtraTreesMSE_BAG_L2 ... Training model for up to 65.72s of the 65.72s of remaining time.\n",
      "\t-53.7628\t = Validation score   (-root_mean_squared_error)\n",
      "\t1.09s\t = Training   runtime\n",
      "\t0.29s\t = Validation runtime\n",
      "Fitting model: NeuralNetFastAI_BAG_L2 ... Training model for up to 64.21s of the 64.2s of remaining time.\n",
      "\tFitting 8 child models (S1F1 - S1F8) | Fitting with SequentialLocalFoldFittingStrategy\n",
      "\t-51.791\t = Validation score   (-root_mean_squared_error)\n",
      "\t46.51s\t = Training   runtime\n",
      "\t0.08s\t = Validation runtime\n",
      "Fitting model: XGBoost_BAG_L2 ... Training model for up to 17.52s of the 17.52s of remaining time.\n",
      "\tFitting 8 child models (S1F1 - S1F8) | Fitting with SequentialLocalFoldFittingStrategy\n",
      "\t-54.7807\t = Validation score   (-root_mean_squared_error)\n",
      "\t15.48s\t = Training   runtime\n",
      "\t0.03s\t = Validation runtime\n",
      "Fitting model: NeuralNetTorch_BAG_L2 ... Training model for up to 1.94s of the 1.93s of remaining time.\n",
      "\tFitting 8 child models (S1F1 - S1F8) | Fitting with SequentialLocalFoldFittingStrategy\n",
      "\tNot enough time to train first epoch. (Time Required: 0.18s, Time Left: 0.13s)\n",
      "\tTime limit exceeded... Skipping NeuralNetTorch_BAG_L2.\n",
      "Fitting model: LightGBMLarge_BAG_L2 ... Training model for up to 1.85s of the 1.84s of remaining time.\n",
      "\tFitting 8 child models (S1F1 - S1F8) | Fitting with SequentialLocalFoldFittingStrategy\n",
      "\tRan out of time, early stopping on iteration 6. Best iteration is:\n",
      "\t[6]\tvalid_set's rmse: 153.599\n",
      "\tRan out of time, early stopping on iteration 7. Best iteration is:\n",
      "\t[7]\tvalid_set's rmse: 153.294\n",
      "\tRan out of time, early stopping on iteration 7. Best iteration is:\n",
      "\t[7]\tvalid_set's rmse: 153.118\n",
      "\tRan out of time, early stopping on iteration 9. Best iteration is:\n",
      "\t[9]\tvalid_set's rmse: 150.734\n",
      "\tRan out of time, early stopping on iteration 8. Best iteration is:\n",
      "\t[8]\tvalid_set's rmse: 145.313\n",
      "\tRan out of time, early stopping on iteration 6. Best iteration is:\n",
      "\t[6]\tvalid_set's rmse: 156.461\n",
      "\tRan out of time, early stopping on iteration 10. Best iteration is:\n",
      "\t[10]\tvalid_set's rmse: 137.769\n",
      "\tRan out of time, early stopping on iteration 9. Best iteration is:\n",
      "\t[9]\tvalid_set's rmse: 138.14\n",
      "\t-148.7117\t = Validation score   (-root_mean_squared_error)\n",
      "\t1.78s\t = Training   runtime\n",
      "\t0.01s\t = Validation runtime\n",
      "Completed 1/20 k-fold bagging repeats ...\n",
      "Fitting model: WeightedEnsemble_L3 ... Training model for up to 360.0s of the 0.02s of remaining time.\n",
      "\t-50.6566\t = Validation score   (-root_mean_squared_error)\n",
      "\t0.22s\t = Training   runtime\n",
      "\t0.0s\t = Validation runtime\n",
      "AutoGluon training complete, total runtime = 600.21s ... Best model: \"WeightedEnsemble_L3\"\n",
      "TabularPredictor saved. To load, use: predictor = TabularPredictor.load(\"AutogluonModels/ag-20230315_195150/\")\n"
     ]
    }
   ],
   "source": [
    "# Train multiple models\n",
    "predictor = TabularPredictor(\n",
    "    label=\"count\", \n",
    "    learner_kwargs={\"ignored_columns\": [\"casual\", \"registered\"]}, \n",
    "    eval_metric=\"root_mean_squared_error\").fit(train, time_limit=600, presets=\"best_quality\")"
   ]
  },
  {
   "cell_type": "markdown",
   "metadata": {
    "tags": []
   },
   "source": [
    "### Review AutoGluon's training run with ranking of models that did the best."
   ]
  },
  {
   "cell_type": "code",
   "execution_count": 10,
   "metadata": {
    "collapsed": true,
    "jupyter": {
     "outputs_hidden": true
    },
    "tags": []
   },
   "outputs": [
    {
     "name": "stdout",
     "output_type": "stream",
     "text": [
      "*** Summary of fit() ***\n",
      "Estimated performance of each model:\n",
      "                     model   score_val  pred_time_val    fit_time  pred_time_val_marginal  fit_time_marginal  stack_level  can_infer  fit_order\n",
      "0      WeightedEnsemble_L3  -50.656566       1.876720  447.396203                0.000395           0.219581            3       True         20\n",
      "1   NeuralNetFastAI_BAG_L2  -51.791022       1.300405  442.348044                0.077905          46.513812            2       True         17\n",
      "2   RandomForestMSE_BAG_L2  -53.209784       1.511695  399.576741                0.289195           3.742508            2       True         14\n",
      "3     ExtraTreesMSE_BAG_L2  -53.762812       1.509225  396.920301                0.286725           1.086069            2       True         16\n",
      "4           XGBoost_BAG_L2  -54.780719       1.255514  411.315229                0.033015          15.480997            2       True         18\n",
      "5          LightGBM_BAG_L2  -54.850588       1.262080  412.636946                0.039580          16.802714            2       True         13\n",
      "6          CatBoost_BAG_L2  -55.557106       1.238014  430.909740                0.015514          35.075507            2       True         15\n",
      "7        LightGBMXT_BAG_L2  -60.078868       1.444733  472.891846                0.222233          77.057613            2       True         12\n",
      "8    KNeighborsDist_BAG_L1  -84.146423       0.007767    0.006962                0.007767           0.006962            1       True          2\n",
      "9      WeightedEnsemble_L2  -84.146423       0.008027    0.309589                0.000260           0.302627            2       True         11\n",
      "10   KNeighborsUnif_BAG_L1 -101.588176       0.008955    0.008454                0.008955           0.008454            1       True          1\n",
      "11  RandomForestMSE_BAG_L1 -116.543896       0.260922    1.375265                0.260922           1.375265            1       True          5\n",
      "12    ExtraTreesMSE_BAG_L1 -124.587823       0.268690    0.569101                0.268690           0.569101            1       True          7\n",
      "13         CatBoost_BAG_L1 -130.516349       0.022329  145.968007                0.022329         145.968007            1       True          6\n",
      "14         LightGBM_BAG_L1 -131.054162       0.092920   34.648414                0.092920          34.648414            1       True          4\n",
      "15       LightGBMXT_BAG_L1 -131.460909       0.414849  141.373801                0.414849         141.373801            1       True          3\n",
      "16          XGBoost_BAG_L1 -131.632367       0.048721   20.865808                0.048721          20.865808            1       True          9\n",
      "17  NeuralNetFastAI_BAG_L1 -135.806943       0.087962   48.884377                0.087962          48.884377            1       True          8\n",
      "18    LightGBMLarge_BAG_L2 -148.711727       1.233472  397.612231                0.010972           1.777998            2       True         19\n",
      "19    LightGBMLarge_BAG_L1 -160.473546       0.009385    2.134044                0.009385           2.134044            1       True         10\n",
      "Number of models trained: 20\n",
      "Types of models trained:\n",
      "{'WeightedEnsembleModel', 'StackerEnsembleModel_XGBoost', 'StackerEnsembleModel_NNFastAiTabular', 'StackerEnsembleModel_KNN', 'StackerEnsembleModel_LGB', 'StackerEnsembleModel_XT', 'StackerEnsembleModel_RF', 'StackerEnsembleModel_CatBoost'}\n",
      "Bagging used: True  (with 8 folds)\n",
      "Multi-layer stack-ensembling used: True  (with 3 levels)\n",
      "Feature Metadata (Processed):\n",
      "(raw dtype, special dtypes):\n",
      "('float', [])                : 3 | ['temp', 'atemp', 'windspeed']\n",
      "('int', [])                  : 3 | ['season', 'weather', 'humidity']\n",
      "('int', ['bool'])            : 2 | ['holiday', 'workingday']\n",
      "('int', ['datetime_as_int']) : 5 | ['datetime', 'datetime.year', 'datetime.month', 'datetime.day', 'datetime.dayofweek']\n",
      "*** End of fit() summary ***\n"
     ]
    },
    {
     "name": "stderr",
     "output_type": "stream",
     "text": [
      "/Users/christina/.pyenv/versions/3.8.16/envs/venv/lib/python3.8/site-packages/autogluon/core/utils/plots.py:138: UserWarning: AutoGluon summary plots cannot be created because bokeh is not installed. To see plots, please do: \"pip install bokeh==2.0.1\"\n",
      "  warnings.warn('AutoGluon summary plots cannot be created because bokeh is not installed. To see plots, please do: \"pip install bokeh==2.0.1\"')\n"
     ]
    },
    {
     "data": {
      "text/plain": [
       "{'model_types': {'KNeighborsUnif_BAG_L1': 'StackerEnsembleModel_KNN',\n",
       "  'KNeighborsDist_BAG_L1': 'StackerEnsembleModel_KNN',\n",
       "  'LightGBMXT_BAG_L1': 'StackerEnsembleModel_LGB',\n",
       "  'LightGBM_BAG_L1': 'StackerEnsembleModel_LGB',\n",
       "  'RandomForestMSE_BAG_L1': 'StackerEnsembleModel_RF',\n",
       "  'CatBoost_BAG_L1': 'StackerEnsembleModel_CatBoost',\n",
       "  'ExtraTreesMSE_BAG_L1': 'StackerEnsembleModel_XT',\n",
       "  'NeuralNetFastAI_BAG_L1': 'StackerEnsembleModel_NNFastAiTabular',\n",
       "  'XGBoost_BAG_L1': 'StackerEnsembleModel_XGBoost',\n",
       "  'LightGBMLarge_BAG_L1': 'StackerEnsembleModel_LGB',\n",
       "  'WeightedEnsemble_L2': 'WeightedEnsembleModel',\n",
       "  'LightGBMXT_BAG_L2': 'StackerEnsembleModel_LGB',\n",
       "  'LightGBM_BAG_L2': 'StackerEnsembleModel_LGB',\n",
       "  'RandomForestMSE_BAG_L2': 'StackerEnsembleModel_RF',\n",
       "  'CatBoost_BAG_L2': 'StackerEnsembleModel_CatBoost',\n",
       "  'ExtraTreesMSE_BAG_L2': 'StackerEnsembleModel_XT',\n",
       "  'NeuralNetFastAI_BAG_L2': 'StackerEnsembleModel_NNFastAiTabular',\n",
       "  'XGBoost_BAG_L2': 'StackerEnsembleModel_XGBoost',\n",
       "  'LightGBMLarge_BAG_L2': 'StackerEnsembleModel_LGB',\n",
       "  'WeightedEnsemble_L3': 'WeightedEnsembleModel'},\n",
       " 'model_performance': {'KNeighborsUnif_BAG_L1': -101.58817625927213,\n",
       "  'KNeighborsDist_BAG_L1': -84.14642264302962,\n",
       "  'LightGBMXT_BAG_L1': -131.46090891834504,\n",
       "  'LightGBM_BAG_L1': -131.054161598899,\n",
       "  'RandomForestMSE_BAG_L1': -116.54389626190594,\n",
       "  'CatBoost_BAG_L1': -130.5163488113882,\n",
       "  'ExtraTreesMSE_BAG_L1': -124.58782321399028,\n",
       "  'NeuralNetFastAI_BAG_L1': -135.80694298339552,\n",
       "  'XGBoost_BAG_L1': -131.63236675349717,\n",
       "  'LightGBMLarge_BAG_L1': -160.47354552401632,\n",
       "  'WeightedEnsemble_L2': -84.14642264302962,\n",
       "  'LightGBMXT_BAG_L2': -60.078867706079954,\n",
       "  'LightGBM_BAG_L2': -54.8505875223038,\n",
       "  'RandomForestMSE_BAG_L2': -53.20978400118386,\n",
       "  'CatBoost_BAG_L2': -55.55710616775734,\n",
       "  'ExtraTreesMSE_BAG_L2': -53.7628120755813,\n",
       "  'NeuralNetFastAI_BAG_L2': -51.79102165258899,\n",
       "  'XGBoost_BAG_L2': -54.78071926771096,\n",
       "  'LightGBMLarge_BAG_L2': -148.71172684747395,\n",
       "  'WeightedEnsemble_L3': -50.656565834503645},\n",
       " 'model_best': 'WeightedEnsemble_L3',\n",
       " 'model_paths': {'KNeighborsUnif_BAG_L1': 'AutogluonModels/ag-20230315_195150/models/KNeighborsUnif_BAG_L1/',\n",
       "  'KNeighborsDist_BAG_L1': 'AutogluonModels/ag-20230315_195150/models/KNeighborsDist_BAG_L1/',\n",
       "  'LightGBMXT_BAG_L1': 'AutogluonModels/ag-20230315_195150/models/LightGBMXT_BAG_L1/',\n",
       "  'LightGBM_BAG_L1': 'AutogluonModels/ag-20230315_195150/models/LightGBM_BAG_L1/',\n",
       "  'RandomForestMSE_BAG_L1': 'AutogluonModels/ag-20230315_195150/models/RandomForestMSE_BAG_L1/',\n",
       "  'CatBoost_BAG_L1': 'AutogluonModels/ag-20230315_195150/models/CatBoost_BAG_L1/',\n",
       "  'ExtraTreesMSE_BAG_L1': 'AutogluonModels/ag-20230315_195150/models/ExtraTreesMSE_BAG_L1/',\n",
       "  'NeuralNetFastAI_BAG_L1': 'AutogluonModels/ag-20230315_195150/models/NeuralNetFastAI_BAG_L1/',\n",
       "  'XGBoost_BAG_L1': 'AutogluonModels/ag-20230315_195150/models/XGBoost_BAG_L1/',\n",
       "  'LightGBMLarge_BAG_L1': 'AutogluonModels/ag-20230315_195150/models/LightGBMLarge_BAG_L1/',\n",
       "  'WeightedEnsemble_L2': 'AutogluonModels/ag-20230315_195150/models/WeightedEnsemble_L2/',\n",
       "  'LightGBMXT_BAG_L2': 'AutogluonModels/ag-20230315_195150/models/LightGBMXT_BAG_L2/',\n",
       "  'LightGBM_BAG_L2': 'AutogluonModels/ag-20230315_195150/models/LightGBM_BAG_L2/',\n",
       "  'RandomForestMSE_BAG_L2': 'AutogluonModels/ag-20230315_195150/models/RandomForestMSE_BAG_L2/',\n",
       "  'CatBoost_BAG_L2': 'AutogluonModels/ag-20230315_195150/models/CatBoost_BAG_L2/',\n",
       "  'ExtraTreesMSE_BAG_L2': 'AutogluonModels/ag-20230315_195150/models/ExtraTreesMSE_BAG_L2/',\n",
       "  'NeuralNetFastAI_BAG_L2': 'AutogluonModels/ag-20230315_195150/models/NeuralNetFastAI_BAG_L2/',\n",
       "  'XGBoost_BAG_L2': 'AutogluonModels/ag-20230315_195150/models/XGBoost_BAG_L2/',\n",
       "  'LightGBMLarge_BAG_L2': 'AutogluonModels/ag-20230315_195150/models/LightGBMLarge_BAG_L2/',\n",
       "  'WeightedEnsemble_L3': 'AutogluonModels/ag-20230315_195150/models/WeightedEnsemble_L3/'},\n",
       " 'model_fit_times': {'KNeighborsUnif_BAG_L1': 0.008454322814941406,\n",
       "  'KNeighborsDist_BAG_L1': 0.006961822509765625,\n",
       "  'LightGBMXT_BAG_L1': 141.37380075454712,\n",
       "  'LightGBM_BAG_L1': 34.64841365814209,\n",
       "  'RandomForestMSE_BAG_L1': 1.3752648830413818,\n",
       "  'CatBoost_BAG_L1': 145.96800708770752,\n",
       "  'ExtraTreesMSE_BAG_L1': 0.5691008567810059,\n",
       "  'NeuralNetFastAI_BAG_L1': 48.884377002716064,\n",
       "  'XGBoost_BAG_L1': 20.86580801010132,\n",
       "  'LightGBMLarge_BAG_L1': 2.1340441703796387,\n",
       "  'WeightedEnsemble_L2': 0.3026270866394043,\n",
       "  'LightGBMXT_BAG_L2': 77.05761337280273,\n",
       "  'LightGBM_BAG_L2': 16.802713871002197,\n",
       "  'RandomForestMSE_BAG_L2': 3.7425081729888916,\n",
       "  'CatBoost_BAG_L2': 35.075507402420044,\n",
       "  'ExtraTreesMSE_BAG_L2': 1.086068868637085,\n",
       "  'NeuralNetFastAI_BAG_L2': 46.51381182670593,\n",
       "  'XGBoost_BAG_L2': 15.48099660873413,\n",
       "  'LightGBMLarge_BAG_L2': 1.7779982089996338,\n",
       "  'WeightedEnsemble_L3': 0.21958112716674805},\n",
       " 'model_pred_times': {'KNeighborsUnif_BAG_L1': 0.008954763412475586,\n",
       "  'KNeighborsDist_BAG_L1': 0.0077669620513916016,\n",
       "  'LightGBMXT_BAG_L1': 0.41484856605529785,\n",
       "  'LightGBM_BAG_L1': 0.09292030334472656,\n",
       "  'RandomForestMSE_BAG_L1': 0.2609219551086426,\n",
       "  'CatBoost_BAG_L1': 0.022328615188598633,\n",
       "  'ExtraTreesMSE_BAG_L1': 0.2686901092529297,\n",
       "  'NeuralNetFastAI_BAG_L1': 0.08796215057373047,\n",
       "  'XGBoost_BAG_L1': 0.0487213134765625,\n",
       "  'LightGBMLarge_BAG_L1': 0.009385108947753906,\n",
       "  'WeightedEnsemble_L2': 0.0002598762512207031,\n",
       "  'LightGBMXT_BAG_L2': 0.22223305702209473,\n",
       "  'LightGBM_BAG_L2': 0.039580345153808594,\n",
       "  'RandomForestMSE_BAG_L2': 0.28919482231140137,\n",
       "  'CatBoost_BAG_L2': 0.015514135360717773,\n",
       "  'ExtraTreesMSE_BAG_L2': 0.2867250442504883,\n",
       "  'NeuralNetFastAI_BAG_L2': 0.07790541648864746,\n",
       "  'XGBoost_BAG_L2': 0.033014535903930664,\n",
       "  'LightGBMLarge_BAG_L2': 0.010972023010253906,\n",
       "  'WeightedEnsemble_L3': 0.00039505958557128906},\n",
       " 'num_bag_folds': 8,\n",
       " 'max_stack_level': 3,\n",
       " 'model_hyperparams': {'KNeighborsUnif_BAG_L1': {'use_orig_features': True,\n",
       "   'max_base_models': 25,\n",
       "   'max_base_models_per_type': 5,\n",
       "   'save_bag_folds': True,\n",
       "   'use_child_oof': True},\n",
       "  'KNeighborsDist_BAG_L1': {'use_orig_features': True,\n",
       "   'max_base_models': 25,\n",
       "   'max_base_models_per_type': 5,\n",
       "   'save_bag_folds': True,\n",
       "   'use_child_oof': True},\n",
       "  'LightGBMXT_BAG_L1': {'use_orig_features': True,\n",
       "   'max_base_models': 25,\n",
       "   'max_base_models_per_type': 5,\n",
       "   'save_bag_folds': True},\n",
       "  'LightGBM_BAG_L1': {'use_orig_features': True,\n",
       "   'max_base_models': 25,\n",
       "   'max_base_models_per_type': 5,\n",
       "   'save_bag_folds': True},\n",
       "  'RandomForestMSE_BAG_L1': {'use_orig_features': True,\n",
       "   'max_base_models': 25,\n",
       "   'max_base_models_per_type': 5,\n",
       "   'save_bag_folds': True,\n",
       "   'use_child_oof': True},\n",
       "  'CatBoost_BAG_L1': {'use_orig_features': True,\n",
       "   'max_base_models': 25,\n",
       "   'max_base_models_per_type': 5,\n",
       "   'save_bag_folds': True},\n",
       "  'ExtraTreesMSE_BAG_L1': {'use_orig_features': True,\n",
       "   'max_base_models': 25,\n",
       "   'max_base_models_per_type': 5,\n",
       "   'save_bag_folds': True,\n",
       "   'use_child_oof': True},\n",
       "  'NeuralNetFastAI_BAG_L1': {'use_orig_features': True,\n",
       "   'max_base_models': 25,\n",
       "   'max_base_models_per_type': 5,\n",
       "   'save_bag_folds': True},\n",
       "  'XGBoost_BAG_L1': {'use_orig_features': True,\n",
       "   'max_base_models': 25,\n",
       "   'max_base_models_per_type': 5,\n",
       "   'save_bag_folds': True},\n",
       "  'LightGBMLarge_BAG_L1': {'use_orig_features': True,\n",
       "   'max_base_models': 25,\n",
       "   'max_base_models_per_type': 5,\n",
       "   'save_bag_folds': True},\n",
       "  'WeightedEnsemble_L2': {'use_orig_features': False,\n",
       "   'max_base_models': 25,\n",
       "   'max_base_models_per_type': 5,\n",
       "   'save_bag_folds': True},\n",
       "  'LightGBMXT_BAG_L2': {'use_orig_features': True,\n",
       "   'max_base_models': 25,\n",
       "   'max_base_models_per_type': 5,\n",
       "   'save_bag_folds': True},\n",
       "  'LightGBM_BAG_L2': {'use_orig_features': True,\n",
       "   'max_base_models': 25,\n",
       "   'max_base_models_per_type': 5,\n",
       "   'save_bag_folds': True},\n",
       "  'RandomForestMSE_BAG_L2': {'use_orig_features': True,\n",
       "   'max_base_models': 25,\n",
       "   'max_base_models_per_type': 5,\n",
       "   'save_bag_folds': True,\n",
       "   'use_child_oof': True},\n",
       "  'CatBoost_BAG_L2': {'use_orig_features': True,\n",
       "   'max_base_models': 25,\n",
       "   'max_base_models_per_type': 5,\n",
       "   'save_bag_folds': True},\n",
       "  'ExtraTreesMSE_BAG_L2': {'use_orig_features': True,\n",
       "   'max_base_models': 25,\n",
       "   'max_base_models_per_type': 5,\n",
       "   'save_bag_folds': True,\n",
       "   'use_child_oof': True},\n",
       "  'NeuralNetFastAI_BAG_L2': {'use_orig_features': True,\n",
       "   'max_base_models': 25,\n",
       "   'max_base_models_per_type': 5,\n",
       "   'save_bag_folds': True},\n",
       "  'XGBoost_BAG_L2': {'use_orig_features': True,\n",
       "   'max_base_models': 25,\n",
       "   'max_base_models_per_type': 5,\n",
       "   'save_bag_folds': True},\n",
       "  'LightGBMLarge_BAG_L2': {'use_orig_features': True,\n",
       "   'max_base_models': 25,\n",
       "   'max_base_models_per_type': 5,\n",
       "   'save_bag_folds': True},\n",
       "  'WeightedEnsemble_L3': {'use_orig_features': False,\n",
       "   'max_base_models': 25,\n",
       "   'max_base_models_per_type': 5,\n",
       "   'save_bag_folds': True}},\n",
       " 'leaderboard':                      model   score_val  pred_time_val    fit_time  \\\n",
       " 0      WeightedEnsemble_L3  -50.656566       1.876720  447.396203   \n",
       " 1   NeuralNetFastAI_BAG_L2  -51.791022       1.300405  442.348044   \n",
       " 2   RandomForestMSE_BAG_L2  -53.209784       1.511695  399.576741   \n",
       " 3     ExtraTreesMSE_BAG_L2  -53.762812       1.509225  396.920301   \n",
       " 4           XGBoost_BAG_L2  -54.780719       1.255514  411.315229   \n",
       " 5          LightGBM_BAG_L2  -54.850588       1.262080  412.636946   \n",
       " 6          CatBoost_BAG_L2  -55.557106       1.238014  430.909740   \n",
       " 7        LightGBMXT_BAG_L2  -60.078868       1.444733  472.891846   \n",
       " 8    KNeighborsDist_BAG_L1  -84.146423       0.007767    0.006962   \n",
       " 9      WeightedEnsemble_L2  -84.146423       0.008027    0.309589   \n",
       " 10   KNeighborsUnif_BAG_L1 -101.588176       0.008955    0.008454   \n",
       " 11  RandomForestMSE_BAG_L1 -116.543896       0.260922    1.375265   \n",
       " 12    ExtraTreesMSE_BAG_L1 -124.587823       0.268690    0.569101   \n",
       " 13         CatBoost_BAG_L1 -130.516349       0.022329  145.968007   \n",
       " 14         LightGBM_BAG_L1 -131.054162       0.092920   34.648414   \n",
       " 15       LightGBMXT_BAG_L1 -131.460909       0.414849  141.373801   \n",
       " 16          XGBoost_BAG_L1 -131.632367       0.048721   20.865808   \n",
       " 17  NeuralNetFastAI_BAG_L1 -135.806943       0.087962   48.884377   \n",
       " 18    LightGBMLarge_BAG_L2 -148.711727       1.233472  397.612231   \n",
       " 19    LightGBMLarge_BAG_L1 -160.473546       0.009385    2.134044   \n",
       " \n",
       "     pred_time_val_marginal  fit_time_marginal  stack_level  can_infer  \\\n",
       " 0                 0.000395           0.219581            3       True   \n",
       " 1                 0.077905          46.513812            2       True   \n",
       " 2                 0.289195           3.742508            2       True   \n",
       " 3                 0.286725           1.086069            2       True   \n",
       " 4                 0.033015          15.480997            2       True   \n",
       " 5                 0.039580          16.802714            2       True   \n",
       " 6                 0.015514          35.075507            2       True   \n",
       " 7                 0.222233          77.057613            2       True   \n",
       " 8                 0.007767           0.006962            1       True   \n",
       " 9                 0.000260           0.302627            2       True   \n",
       " 10                0.008955           0.008454            1       True   \n",
       " 11                0.260922           1.375265            1       True   \n",
       " 12                0.268690           0.569101            1       True   \n",
       " 13                0.022329         145.968007            1       True   \n",
       " 14                0.092920          34.648414            1       True   \n",
       " 15                0.414849         141.373801            1       True   \n",
       " 16                0.048721          20.865808            1       True   \n",
       " 17                0.087962          48.884377            1       True   \n",
       " 18                0.010972           1.777998            2       True   \n",
       " 19                0.009385           2.134044            1       True   \n",
       " \n",
       "     fit_order  \n",
       " 0          20  \n",
       " 1          17  \n",
       " 2          14  \n",
       " 3          16  \n",
       " 4          18  \n",
       " 5          13  \n",
       " 6          15  \n",
       " 7          12  \n",
       " 8           2  \n",
       " 9          11  \n",
       " 10          1  \n",
       " 11          5  \n",
       " 12          7  \n",
       " 13          6  \n",
       " 14          4  \n",
       " 15          3  \n",
       " 16          9  \n",
       " 17          8  \n",
       " 18         19  \n",
       " 19         10  }"
      ]
     },
     "execution_count": 10,
     "metadata": {},
     "output_type": "execute_result"
    }
   ],
   "source": [
    "predictor.fit_summary()"
   ]
  },
  {
   "cell_type": "code",
   "execution_count": 11,
   "metadata": {
    "tags": []
   },
   "outputs": [
    {
     "data": {
      "text/plain": [
       "-50.656565834503645"
      ]
     },
     "execution_count": 11,
     "metadata": {},
     "output_type": "execute_result"
    },
    {
     "data": {
      "image/png": "[encoded data removed]",
      "text/plain": [
       "<Figure size 640x480 with 1 Axes>"
      ]
     },
     "metadata": {},
     "output_type": "display_data"
    }
   ],
   "source": [
    "predictor.leaderboard(silent=True).plot(kind=\"bar\", x=\"model\", y=\"score_val\")"
   ]
  },
  {
   "cell_type": "code",
   "execution_count": 34,
   "metadata": {
    "tags": []
   },
   "outputs": [
    {
     "data": {
      "text/plain": [
       "-50.656565834503645"
      ]
     },
     "execution_count": 34,
     "metadata": {},
     "output_type": "execute_result"
    }
   ],
   "source": [
    "initial_best_model_score = predictor.leaderboard(silent=True).score_val[0]\n",
    "initial_best_model_score"
   ]
  },
  {
   "cell_type": "code",
   "execution_count": 35,
   "metadata": {
    "tags": []
   },
   "outputs": [
    {
     "data": {
      "text/plain": [
       "'WeightedEnsemble_L3'"
      ]
     },
     "execution_count": 35,
     "metadata": {},
     "output_type": "execute_result"
    }
   ],
   "source": [
    "initial_best_model = predictor.leaderboard(silent=True).model[0]\n",
    "initial_best_model"
   ]
  },
  {
   "cell_type": "code",
   "execution_count": 13,
   "metadata": {
    "collapsed": true,
    "jupyter": {
     "outputs_hidden": true
    },
    "tags": []
   },
   "outputs": [
    {
     "name": "stderr",
     "output_type": "stream",
     "text": [
      "Computing feature importance via permutation shuffling for 9 features using 5000 rows with 5 shuffle sets...\n",
      "[W ParallelNative.cpp:229] Warning: Cannot set number of intraop threads after parallel work has started or after set_num_threads call when using native parallel backend (function set_num_threads)\n",
      "[W ParallelNative.cpp:229] Warning: Cannot set number of intraop threads after parallel work has started or after set_num_threads call when using native parallel backend (function set_num_threads)\n",
      "[W ParallelNative.cpp:229] Warning: Cannot set number of intraop threads after parallel work has started or after set_num_threads call when using native parallel backend (function set_num_threads)\n",
      "[W ParallelNative.cpp:229] Warning: Cannot set number of intraop threads after parallel work has started or after set_num_threads call when using native parallel backend (function set_num_threads)\n",
      "[W ParallelNative.cpp:229] Warning: Cannot set number of intraop threads after parallel work has started or after set_num_threads call when using native parallel backend (function set_num_threads)\n",
      "[W ParallelNative.cpp:229] Warning: Cannot set number of intraop threads after parallel work has started or after set_num_threads call when using native parallel backend (function set_num_threads)\n",
      "[W ParallelNative.cpp:229] Warning: Cannot set number of intraop threads after parallel work has started or after set_num_threads call when using native parallel backend (function set_num_threads)\n",
      "[W ParallelNative.cpp:229] Warning: Cannot set number of intraop threads after parallel work has started or after set_num_threads call when using native parallel backend (function set_num_threads)\n",
      "[W ParallelNative.cpp:229] Warning: Cannot set number of intraop threads after parallel work has started or after set_num_threads call when using native parallel backend (function set_num_threads)\n",
      "[W ParallelNative.cpp:229] Warning: Cannot set number of intraop threads after parallel work has started or after set_num_threads call when using native parallel backend (function set_num_threads)\n",
      "[W ParallelNative.cpp:229] Warning: Cannot set number of intraop threads after parallel work has started or after set_num_threads call when using native parallel backend (function set_num_threads)\n",
      "[W ParallelNative.cpp:229] Warning: Cannot set number of intraop threads after parallel work has started or after set_num_threads call when using native parallel backend (function set_num_threads)\n",
      "[W ParallelNative.cpp:229] Warning: Cannot set number of intraop threads after parallel work has started or after set_num_threads call when using native parallel backend (function set_num_threads)\n",
      "[W ParallelNative.cpp:229] Warning: Cannot set number of intraop threads after parallel work has started or after set_num_threads call when using native parallel backend (function set_num_threads)\n",
      "[W ParallelNative.cpp:229] Warning: Cannot set number of intraop threads after parallel work has started or after set_num_threads call when using native parallel backend (function set_num_threads)\n",
      "[W ParallelNative.cpp:229] Warning: Cannot set number of intraop threads after parallel work has started or after set_num_threads call when using native parallel backend (function set_num_threads)\n",
      "\t183.23s\t= Expected runtime (36.65s per shuffle set)\n",
      "[W ParallelNative.cpp:229] Warning: Cannot set number of intraop threads after parallel work has started or after set_num_threads call when using native parallel backend (function set_num_threads)\n",
      "[W ParallelNative.cpp:229] Warning: Cannot set number of intraop threads after parallel work has started or after set_num_threads call when using native parallel backend (function set_num_threads)\n",
      "[W ParallelNative.cpp:229] Warning: Cannot set number of intraop threads after parallel work has started or after set_num_threads call when using native parallel backend (function set_num_threads)\n",
      "[W ParallelNative.cpp:229] Warning: Cannot set number of intraop threads after parallel work has started or after set_num_threads call when using native parallel backend (function set_num_threads)\n",
      "[W ParallelNative.cpp:229] Warning: Cannot set number of intraop threads after parallel work has started or after set_num_threads call when using native parallel backend (function set_num_threads)\n",
      "[W ParallelNative.cpp:229] Warning: Cannot set number of intraop threads after parallel work has started or after set_num_threads call when using native parallel backend (function set_num_threads)\n",
      "[W ParallelNative.cpp:229] Warning: Cannot set number of intraop threads after parallel work has started or after set_num_threads call when using native parallel backend (function set_num_threads)\n",
      "[W ParallelNative.cpp:229] Warning: Cannot set number of intraop threads after parallel work has started or after set_num_threads call when using native parallel backend (function set_num_threads)\n",
      "[W ParallelNative.cpp:229] Warning: Cannot set number of intraop threads after parallel work has started or after set_num_threads call when using native parallel backend (function set_num_threads)\n",
      "[W ParallelNative.cpp:229] Warning: Cannot set number of intraop threads after parallel work has started or after set_num_threads call when using native parallel backend (function set_num_threads)\n",
      "[W ParallelNative.cpp:229] Warning: Cannot set number of intraop threads after parallel work has started or after set_num_threads call when using native parallel backend (function set_num_threads)\n",
      "[W ParallelNative.cpp:229] Warning: Cannot set number of intraop threads after parallel work has started or after set_num_threads call when using native parallel backend (function set_num_threads)\n",
      "[W ParallelNative.cpp:229] Warning: Cannot set number of intraop threads after parallel work has started or after set_num_threads call when using native parallel backend (function set_num_threads)\n",
      "[W ParallelNative.cpp:229] Warning: Cannot set number of intraop threads after parallel work has started or after set_num_threads call when using native parallel backend (function set_num_threads)\n",
      "[W ParallelNative.cpp:229] Warning: Cannot set number of intraop threads after parallel work has started or after set_num_threads call when using native parallel backend (function set_num_threads)\n",
      "[W ParallelNative.cpp:229] Warning: Cannot set number of intraop threads after parallel work has started or after set_num_threads call when using native parallel backend (function set_num_threads)\n",
      "[W ParallelNative.cpp:229] Warning: Cannot set number of intraop threads after parallel work has started or after set_num_threads call when using native parallel backend (function set_num_threads)\n",
      "[W ParallelNative.cpp:229] Warning: Cannot set number of intraop threads after parallel work has started or after set_num_threads call when using native parallel backend (function set_num_threads)\n",
      "[W ParallelNative.cpp:229] Warning: Cannot set number of intraop threads after parallel work has started or after set_num_threads call when using native parallel backend (function set_num_threads)\n",
      "[W ParallelNative.cpp:229] Warning: Cannot set number of intraop threads after parallel work has started or after set_num_threads call when using native parallel backend (function set_num_threads)\n",
      "[W ParallelNative.cpp:229] Warning: Cannot set number of intraop threads after parallel work has started or after set_num_threads call when using native parallel backend (function set_num_threads)\n",
      "[W ParallelNative.cpp:229] Warning: Cannot set number of intraop threads after parallel work has started or after set_num_threads call when using native parallel backend (function set_num_threads)\n",
      "[W ParallelNative.cpp:229] Warning: Cannot set number of intraop threads after parallel work has started or after set_num_threads call when using native parallel backend (function set_num_threads)\n",
      "[W ParallelNative.cpp:229] Warning: Cannot set number of intraop threads after parallel work has started or after set_num_threads call when using native parallel backend (function set_num_threads)\n",
      "[W ParallelNative.cpp:229] Warning: Cannot set number of intraop threads after parallel work has started or after set_num_threads call when using native parallel backend (function set_num_threads)\n",
      "[W ParallelNative.cpp:229] Warning: Cannot set number of intraop threads after parallel work has started or after set_num_threads call when using native parallel backend (function set_num_threads)\n",
      "[W ParallelNative.cpp:229] Warning: Cannot set number of intraop threads after parallel work has started or after set_num_threads call when using native parallel backend (function set_num_threads)\n",
      "[W ParallelNative.cpp:229] Warning: Cannot set number of intraop threads after parallel work has started or after set_num_threads call when using native parallel backend (function set_num_threads)\n",
      "[W ParallelNative.cpp:229] Warning: Cannot set number of intraop threads after parallel work has started or after set_num_threads call when using native parallel backend (function set_num_threads)\n",
      "[W ParallelNative.cpp:229] Warning: Cannot set number of intraop threads after parallel work has started or after set_num_threads call when using native parallel backend (function set_num_threads)\n",
      "[W ParallelNative.cpp:229] Warning: Cannot set number of intraop threads after parallel work has started or after set_num_threads call when using native parallel backend (function set_num_threads)\n",
      "[W ParallelNative.cpp:229] Warning: Cannot set number of intraop threads after parallel work has started or after set_num_threads call when using native parallel backend (function set_num_threads)\n",
      "[W ParallelNative.cpp:229] Warning: Cannot set number of intraop threads after parallel work has started or after set_num_threads call when using native parallel backend (function set_num_threads)\n",
      "[W ParallelNative.cpp:229] Warning: Cannot set number of intraop threads after parallel work has started or after set_num_threads call when using native parallel backend (function set_num_threads)\n",
      "[W ParallelNative.cpp:229] Warning: Cannot set number of intraop threads after parallel work has started or after set_num_threads call when using native parallel backend (function set_num_threads)\n",
      "[W ParallelNative.cpp:229] Warning: Cannot set number of intraop threads after parallel work has started or after set_num_threads call when using native parallel backend (function set_num_threads)\n",
      "[W ParallelNative.cpp:229] Warning: Cannot set number of intraop threads after parallel work has started or after set_num_threads call when using native parallel backend (function set_num_threads)\n",
      "[W ParallelNative.cpp:229] Warning: Cannot set number of intraop threads after parallel work has started or after set_num_threads call when using native parallel backend (function set_num_threads)\n",
      "[W ParallelNative.cpp:229] Warning: Cannot set number of intraop threads after parallel work has started or after set_num_threads call when using native parallel backend (function set_num_threads)\n",
      "[W ParallelNative.cpp:229] Warning: Cannot set number of intraop threads after parallel work has started or after set_num_threads call when using native parallel backend (function set_num_threads)\n",
      "[W ParallelNative.cpp:229] Warning: Cannot set number of intraop threads after parallel work has started or after set_num_threads call when using native parallel backend (function set_num_threads)\n",
      "[W ParallelNative.cpp:229] Warning: Cannot set number of intraop threads after parallel work has started or after set_num_threads call when using native parallel backend (function set_num_threads)\n",
      "[W ParallelNative.cpp:229] Warning: Cannot set number of intraop threads after parallel work has started or after set_num_threads call when using native parallel backend (function set_num_threads)\n",
      "[W ParallelNative.cpp:229] Warning: Cannot set number of intraop threads after parallel work has started or after set_num_threads call when using native parallel backend (function set_num_threads)\n",
      "[W ParallelNative.cpp:229] Warning: Cannot set number of intraop threads after parallel work has started or after set_num_threads call when using native parallel backend (function set_num_threads)\n",
      "[W ParallelNative.cpp:229] Warning: Cannot set number of intraop threads after parallel work has started or after set_num_threads call when using native parallel backend (function set_num_threads)\n",
      "[W ParallelNative.cpp:229] Warning: Cannot set number of intraop threads after parallel work has started or after set_num_threads call when using native parallel backend (function set_num_threads)\n",
      "[W ParallelNative.cpp:229] Warning: Cannot set number of intraop threads after parallel work has started or after set_num_threads call when using native parallel backend (function set_num_threads)\n",
      "[W ParallelNative.cpp:229] Warning: Cannot set number of intraop threads after parallel work has started or after set_num_threads call when using native parallel backend (function set_num_threads)\n",
      "[W ParallelNative.cpp:229] Warning: Cannot set number of intraop threads after parallel work has started or after set_num_threads call when using native parallel backend (function set_num_threads)\n",
      "[W ParallelNative.cpp:229] Warning: Cannot set number of intraop threads after parallel work has started or after set_num_threads call when using native parallel backend (function set_num_threads)\n",
      "[W ParallelNative.cpp:229] Warning: Cannot set number of intraop threads after parallel work has started or after set_num_threads call when using native parallel backend (function set_num_threads)\n",
      "[W ParallelNative.cpp:229] Warning: Cannot set number of intraop threads after parallel work has started or after set_num_threads call when using native parallel backend (function set_num_threads)\n",
      "[W ParallelNative.cpp:229] Warning: Cannot set number of intraop threads after parallel work has started or after set_num_threads call when using native parallel backend (function set_num_threads)\n",
      "[W ParallelNative.cpp:229] Warning: Cannot set number of intraop threads after parallel work has started or after set_num_threads call when using native parallel backend (function set_num_threads)\n",
      "[W ParallelNative.cpp:229] Warning: Cannot set number of intraop threads after parallel work has started or after set_num_threads call when using native parallel backend (function set_num_threads)\n",
      "[W ParallelNative.cpp:229] Warning: Cannot set number of intraop threads after parallel work has started or after set_num_threads call when using native parallel backend (function set_num_threads)\n",
      "[W ParallelNative.cpp:229] Warning: Cannot set number of intraop threads after parallel work has started or after set_num_threads call when using native parallel backend (function set_num_threads)\n",
      "[W ParallelNative.cpp:229] Warning: Cannot set number of intraop threads after parallel work has started or after set_num_threads call when using native parallel backend (function set_num_threads)\n",
      "[W ParallelNative.cpp:229] Warning: Cannot set number of intraop threads after parallel work has started or after set_num_threads call when using native parallel backend (function set_num_threads)\n",
      "[W ParallelNative.cpp:229] Warning: Cannot set number of intraop threads after parallel work has started or after set_num_threads call when using native parallel backend (function set_num_threads)\n",
      "[W ParallelNative.cpp:229] Warning: Cannot set number of intraop threads after parallel work has started or after set_num_threads call when using native parallel backend (function set_num_threads)\n",
      "[W ParallelNative.cpp:229] Warning: Cannot set number of intraop threads after parallel work has started or after set_num_threads call when using native parallel backend (function set_num_threads)\n",
      "[W ParallelNative.cpp:229] Warning: Cannot set number of intraop threads after parallel work has started or after set_num_threads call when using native parallel backend (function set_num_threads)\n",
      "[W ParallelNative.cpp:229] Warning: Cannot set number of intraop threads after parallel work has started or after set_num_threads call when using native parallel backend (function set_num_threads)\n",
      "[W ParallelNative.cpp:229] Warning: Cannot set number of intraop threads after parallel work has started or after set_num_threads call when using native parallel backend (function set_num_threads)\n",
      "[W ParallelNative.cpp:229] Warning: Cannot set number of intraop threads after parallel work has started or after set_num_threads call when using native parallel backend (function set_num_threads)\n",
      "[W ParallelNative.cpp:229] Warning: Cannot set number of intraop threads after parallel work has started or after set_num_threads call when using native parallel backend (function set_num_threads)\n",
      "[W ParallelNative.cpp:229] Warning: Cannot set number of intraop threads after parallel work has started or after set_num_threads call when using native parallel backend (function set_num_threads)\n",
      "[W ParallelNative.cpp:229] Warning: Cannot set number of intraop threads after parallel work has started or after set_num_threads call when using native parallel backend (function set_num_threads)\n",
      "[W ParallelNative.cpp:229] Warning: Cannot set number of intraop threads after parallel work has started or after set_num_threads call when using native parallel backend (function set_num_threads)\n",
      "[W ParallelNative.cpp:229] Warning: Cannot set number of intraop threads after parallel work has started or after set_num_threads call when using native parallel backend (function set_num_threads)\n",
      "[W ParallelNative.cpp:229] Warning: Cannot set number of intraop threads after parallel work has started or after set_num_threads call when using native parallel backend (function set_num_threads)\n",
      "[W ParallelNative.cpp:229] Warning: Cannot set number of intraop threads after parallel work has started or after set_num_threads call when using native parallel backend (function set_num_threads)\n",
      "[W ParallelNative.cpp:229] Warning: Cannot set number of intraop threads after parallel work has started or after set_num_threads call when using native parallel backend (function set_num_threads)\n",
      "[W ParallelNative.cpp:229] Warning: Cannot set number of intraop threads after parallel work has started or after set_num_threads call when using native parallel backend (function set_num_threads)\n",
      "[W ParallelNative.cpp:229] Warning: Cannot set number of intraop threads after parallel work has started or after set_num_threads call when using native parallel backend (function set_num_threads)\n",
      "[W ParallelNative.cpp:229] Warning: Cannot set number of intraop threads after parallel work has started or after set_num_threads call when using native parallel backend (function set_num_threads)\n",
      "[W ParallelNative.cpp:229] Warning: Cannot set number of intraop threads after parallel work has started or after set_num_threads call when using native parallel backend (function set_num_threads)\n",
      "[W ParallelNative.cpp:229] Warning: Cannot set number of intraop threads after parallel work has started or after set_num_threads call when using native parallel backend (function set_num_threads)\n",
      "[W ParallelNative.cpp:229] Warning: Cannot set number of intraop threads after parallel work has started or after set_num_threads call when using native parallel backend (function set_num_threads)\n",
      "[W ParallelNative.cpp:229] Warning: Cannot set number of intraop threads after parallel work has started or after set_num_threads call when using native parallel backend (function set_num_threads)\n",
      "[W ParallelNative.cpp:229] Warning: Cannot set number of intraop threads after parallel work has started or after set_num_threads call when using native parallel backend (function set_num_threads)\n",
      "[W ParallelNative.cpp:229] Warning: Cannot set number of intraop threads after parallel work has started or after set_num_threads call when using native parallel backend (function set_num_threads)\n",
      "[W ParallelNative.cpp:229] Warning: Cannot set number of intraop threads after parallel work has started or after set_num_threads call when using native parallel backend (function set_num_threads)\n",
      "[W ParallelNative.cpp:229] Warning: Cannot set number of intraop threads after parallel work has started or after set_num_threads call when using native parallel backend (function set_num_threads)\n",
      "[W ParallelNative.cpp:229] Warning: Cannot set number of intraop threads after parallel work has started or after set_num_threads call when using native parallel backend (function set_num_threads)\n",
      "[W ParallelNative.cpp:229] Warning: Cannot set number of intraop threads after parallel work has started or after set_num_threads call when using native parallel backend (function set_num_threads)\n",
      "[W ParallelNative.cpp:229] Warning: Cannot set number of intraop threads after parallel work has started or after set_num_threads call when using native parallel backend (function set_num_threads)\n",
      "[W ParallelNative.cpp:229] Warning: Cannot set number of intraop threads after parallel work has started or after set_num_threads call when using native parallel backend (function set_num_threads)\n",
      "[W ParallelNative.cpp:229] Warning: Cannot set number of intraop threads after parallel work has started or after set_num_threads call when using native parallel backend (function set_num_threads)\n",
      "[W ParallelNative.cpp:229] Warning: Cannot set number of intraop threads after parallel work has started or after set_num_threads call when using native parallel backend (function set_num_threads)\n",
      "[W ParallelNative.cpp:229] Warning: Cannot set number of intraop threads after parallel work has started or after set_num_threads call when using native parallel backend (function set_num_threads)\n",
      "[W ParallelNative.cpp:229] Warning: Cannot set number of intraop threads after parallel work has started or after set_num_threads call when using native parallel backend (function set_num_threads)\n",
      "[W ParallelNative.cpp:229] Warning: Cannot set number of intraop threads after parallel work has started or after set_num_threads call when using native parallel backend (function set_num_threads)\n",
      "[W ParallelNative.cpp:229] Warning: Cannot set number of intraop threads after parallel work has started or after set_num_threads call when using native parallel backend (function set_num_threads)\n",
      "[W ParallelNative.cpp:229] Warning: Cannot set number of intraop threads after parallel work has started or after set_num_threads call when using native parallel backend (function set_num_threads)\n",
      "[W ParallelNative.cpp:229] Warning: Cannot set number of intraop threads after parallel work has started or after set_num_threads call when using native parallel backend (function set_num_threads)\n",
      "[W ParallelNative.cpp:229] Warning: Cannot set number of intraop threads after parallel work has started or after set_num_threads call when using native parallel backend (function set_num_threads)\n",
      "[W ParallelNative.cpp:229] Warning: Cannot set number of intraop threads after parallel work has started or after set_num_threads call when using native parallel backend (function set_num_threads)\n",
      "[W ParallelNative.cpp:229] Warning: Cannot set number of intraop threads after parallel work has started or after set_num_threads call when using native parallel backend (function set_num_threads)\n",
      "[W ParallelNative.cpp:229] Warning: Cannot set number of intraop threads after parallel work has started or after set_num_threads call when using native parallel backend (function set_num_threads)\n",
      "[W ParallelNative.cpp:229] Warning: Cannot set number of intraop threads after parallel work has started or after set_num_threads call when using native parallel backend (function set_num_threads)\n",
      "[W ParallelNative.cpp:229] Warning: Cannot set number of intraop threads after parallel work has started or after set_num_threads call when using native parallel backend (function set_num_threads)\n",
      "[W ParallelNative.cpp:229] Warning: Cannot set number of intraop threads after parallel work has started or after set_num_threads call when using native parallel backend (function set_num_threads)\n",
      "[W ParallelNative.cpp:229] Warning: Cannot set number of intraop threads after parallel work has started or after set_num_threads call when using native parallel backend (function set_num_threads)\n",
      "[W ParallelNative.cpp:229] Warning: Cannot set number of intraop threads after parallel work has started or after set_num_threads call when using native parallel backend (function set_num_threads)\n",
      "[W ParallelNative.cpp:229] Warning: Cannot set number of intraop threads after parallel work has started or after set_num_threads call when using native parallel backend (function set_num_threads)\n",
      "[W ParallelNative.cpp:229] Warning: Cannot set number of intraop threads after parallel work has started or after set_num_threads call when using native parallel backend (function set_num_threads)\n",
      "[W ParallelNative.cpp:229] Warning: Cannot set number of intraop threads after parallel work has started or after set_num_threads call when using native parallel backend (function set_num_threads)\n",
      "[W ParallelNative.cpp:229] Warning: Cannot set number of intraop threads after parallel work has started or after set_num_threads call when using native parallel backend (function set_num_threads)\n",
      "[W ParallelNative.cpp:229] Warning: Cannot set number of intraop threads after parallel work has started or after set_num_threads call when using native parallel backend (function set_num_threads)\n",
      "[W ParallelNative.cpp:229] Warning: Cannot set number of intraop threads after parallel work has started or after set_num_threads call when using native parallel backend (function set_num_threads)\n",
      "[W ParallelNative.cpp:229] Warning: Cannot set number of intraop threads after parallel work has started or after set_num_threads call when using native parallel backend (function set_num_threads)\n",
      "[W ParallelNative.cpp:229] Warning: Cannot set number of intraop threads after parallel work has started or after set_num_threads call when using native parallel backend (function set_num_threads)\n",
      "[W ParallelNative.cpp:229] Warning: Cannot set number of intraop threads after parallel work has started or after set_num_threads call when using native parallel backend (function set_num_threads)\n",
      "[W ParallelNative.cpp:229] Warning: Cannot set number of intraop threads after parallel work has started or after set_num_threads call when using native parallel backend (function set_num_threads)\n",
      "[W ParallelNative.cpp:229] Warning: Cannot set number of intraop threads after parallel work has started or after set_num_threads call when using native parallel backend (function set_num_threads)\n",
      "[W ParallelNative.cpp:229] Warning: Cannot set number of intraop threads after parallel work has started or after set_num_threads call when using native parallel backend (function set_num_threads)\n",
      "[W ParallelNative.cpp:229] Warning: Cannot set number of intraop threads after parallel work has started or after set_num_threads call when using native parallel backend (function set_num_threads)\n",
      "[W ParallelNative.cpp:229] Warning: Cannot set number of intraop threads after parallel work has started or after set_num_threads call when using native parallel backend (function set_num_threads)\n",
      "[W ParallelNative.cpp:229] Warning: Cannot set number of intraop threads after parallel work has started or after set_num_threads call when using native parallel backend (function set_num_threads)\n",
      "[W ParallelNative.cpp:229] Warning: Cannot set number of intraop threads after parallel work has started or after set_num_threads call when using native parallel backend (function set_num_threads)\n",
      "[W ParallelNative.cpp:229] Warning: Cannot set number of intraop threads after parallel work has started or after set_num_threads call when using native parallel backend (function set_num_threads)\n",
      "[W ParallelNative.cpp:229] Warning: Cannot set number of intraop threads after parallel work has started or after set_num_threads call when using native parallel backend (function set_num_threads)\n",
      "[W ParallelNative.cpp:229] Warning: Cannot set number of intraop threads after parallel work has started or after set_num_threads call when using native parallel backend (function set_num_threads)\n",
      "[W ParallelNative.cpp:229] Warning: Cannot set number of intraop threads after parallel work has started or after set_num_threads call when using native parallel backend (function set_num_threads)\n",
      "[W ParallelNative.cpp:229] Warning: Cannot set number of intraop threads after parallel work has started or after set_num_threads call when using native parallel backend (function set_num_threads)\n",
      "[W ParallelNative.cpp:229] Warning: Cannot set number of intraop threads after parallel work has started or after set_num_threads call when using native parallel backend (function set_num_threads)\n",
      "[W ParallelNative.cpp:229] Warning: Cannot set number of intraop threads after parallel work has started or after set_num_threads call when using native parallel backend (function set_num_threads)\n",
      "[W ParallelNative.cpp:229] Warning: Cannot set number of intraop threads after parallel work has started or after set_num_threads call when using native parallel backend (function set_num_threads)\n",
      "[W ParallelNative.cpp:229] Warning: Cannot set number of intraop threads after parallel work has started or after set_num_threads call when using native parallel backend (function set_num_threads)\n",
      "[W ParallelNative.cpp:229] Warning: Cannot set number of intraop threads after parallel work has started or after set_num_threads call when using native parallel backend (function set_num_threads)\n",
      "[W ParallelNative.cpp:229] Warning: Cannot set number of intraop threads after parallel work has started or after set_num_threads call when using native parallel backend (function set_num_threads)\n",
      "[W ParallelNative.cpp:229] Warning: Cannot set number of intraop threads after parallel work has started or after set_num_threads call when using native parallel backend (function set_num_threads)\n",
      "[W ParallelNative.cpp:229] Warning: Cannot set number of intraop threads after parallel work has started or after set_num_threads call when using native parallel backend (function set_num_threads)\n",
      "[W ParallelNative.cpp:229] Warning: Cannot set number of intraop threads after parallel work has started or after set_num_threads call when using native parallel backend (function set_num_threads)\n",
      "[W ParallelNative.cpp:229] Warning: Cannot set number of intraop threads after parallel work has started or after set_num_threads call when using native parallel backend (function set_num_threads)\n",
      "[W ParallelNative.cpp:229] Warning: Cannot set number of intraop threads after parallel work has started or after set_num_threads call when using native parallel backend (function set_num_threads)\n",
      "[W ParallelNative.cpp:229] Warning: Cannot set number of intraop threads after parallel work has started or after set_num_threads call when using native parallel backend (function set_num_threads)\n",
      "[W ParallelNative.cpp:229] Warning: Cannot set number of intraop threads after parallel work has started or after set_num_threads call when using native parallel backend (function set_num_threads)\n",
      "[W ParallelNative.cpp:229] Warning: Cannot set number of intraop threads after parallel work has started or after set_num_threads call when using native parallel backend (function set_num_threads)\n",
      "[W ParallelNative.cpp:229] Warning: Cannot set number of intraop threads after parallel work has started or after set_num_threads call when using native parallel backend (function set_num_threads)\n",
      "[W ParallelNative.cpp:229] Warning: Cannot set number of intraop threads after parallel work has started or after set_num_threads call when using native parallel backend (function set_num_threads)\n",
      "\t134.81s\t= Actual runtime (Completed 5 of 5 shuffle sets)\n"
     ]
    },
    {
     "data": {
      "text/html": [
       "<div>\n",
       "<style scoped>\n",
       "    .dataframe tbody tr th:only-of-type {\n",
       "        vertical-align: middle;\n",
       "    }\n",
       "\n",
       "    .dataframe tbody tr th {\n",
       "        vertical-align: top;\n",
       "    }\n",
       "\n",
       "    .dataframe thead th {\n",
       "        text-align: right;\n",
       "    }\n",
       "</style>\n",
       "<table border=\"1\" class=\"dataframe\">\n",
       "  <thead>\n",
       "    <tr style=\"text-align: right;\">\n",
       "      <th></th>\n",
       "      <th>importance</th>\n",
       "      <th>stddev</th>\n",
       "      <th>p_value</th>\n",
       "      <th>n</th>\n",
       "      <th>p99_high</th>\n",
       "      <th>p99_low</th>\n",
       "    </tr>\n",
       "  </thead>\n",
       "  <tbody>\n",
       "    <tr>\n",
       "      <th>datetime</th>\n",
       "      <td>178.399087</td>\n",
       "      <td>7.728187</td>\n",
       "      <td>4.215367e-07</td>\n",
       "      <td>5</td>\n",
       "      <td>194.311532</td>\n",
       "      <td>162.486643</td>\n",
       "    </tr>\n",
       "    <tr>\n",
       "      <th>holiday</th>\n",
       "      <td>-0.145944</td>\n",
       "      <td>0.027156</td>\n",
       "      <td>9.998626e-01</td>\n",
       "      <td>5</td>\n",
       "      <td>-0.090029</td>\n",
       "      <td>-0.201858</td>\n",
       "    </tr>\n",
       "    <tr>\n",
       "      <th>season</th>\n",
       "      <td>-0.746015</td>\n",
       "      <td>0.158910</td>\n",
       "      <td>9.997672e-01</td>\n",
       "      <td>5</td>\n",
       "      <td>-0.418818</td>\n",
       "      <td>-1.073213</td>\n",
       "    </tr>\n",
       "    <tr>\n",
       "      <th>weather</th>\n",
       "      <td>-1.304814</td>\n",
       "      <td>0.286026</td>\n",
       "      <td>9.997398e-01</td>\n",
       "      <td>5</td>\n",
       "      <td>-0.715881</td>\n",
       "      <td>-1.893746</td>\n",
       "    </tr>\n",
       "    <tr>\n",
       "      <th>atemp</th>\n",
       "      <td>-2.746261</td>\n",
       "      <td>0.485692</td>\n",
       "      <td>9.998873e-01</td>\n",
       "      <td>5</td>\n",
       "      <td>-1.746213</td>\n",
       "      <td>-3.746309</td>\n",
       "    </tr>\n",
       "    <tr>\n",
       "      <th>windspeed</th>\n",
       "      <td>-4.258928</td>\n",
       "      <td>0.370264</td>\n",
       "      <td>9.999932e-01</td>\n",
       "      <td>5</td>\n",
       "      <td>-3.496549</td>\n",
       "      <td>-5.021307</td>\n",
       "    </tr>\n",
       "    <tr>\n",
       "      <th>temp</th>\n",
       "      <td>-4.563552</td>\n",
       "      <td>0.498037</td>\n",
       "      <td>9.999832e-01</td>\n",
       "      <td>5</td>\n",
       "      <td>-3.538086</td>\n",
       "      <td>-5.589017</td>\n",
       "    </tr>\n",
       "    <tr>\n",
       "      <th>humidity</th>\n",
       "      <td>-4.976030</td>\n",
       "      <td>0.433769</td>\n",
       "      <td>9.999931e-01</td>\n",
       "      <td>5</td>\n",
       "      <td>-4.082893</td>\n",
       "      <td>-5.869167</td>\n",
       "    </tr>\n",
       "    <tr>\n",
       "      <th>workingday</th>\n",
       "      <td>-6.297909</td>\n",
       "      <td>0.661144</td>\n",
       "      <td>9.999856e-01</td>\n",
       "      <td>5</td>\n",
       "      <td>-4.936604</td>\n",
       "      <td>-7.659214</td>\n",
       "    </tr>\n",
       "  </tbody>\n",
       "</table>\n",
       "</div>"
      ],
      "text/plain": [
       "            importance    stddev       p_value  n    p99_high     p99_low\n",
       "datetime    178.399087  7.728187  4.215367e-07  5  194.311532  162.486643\n",
       "holiday      -0.145944  0.027156  9.998626e-01  5   -0.090029   -0.201858\n",
       "season       -0.746015  0.158910  9.997672e-01  5   -0.418818   -1.073213\n",
       "weather      -1.304814  0.286026  9.997398e-01  5   -0.715881   -1.893746\n",
       "atemp        -2.746261  0.485692  9.998873e-01  5   -1.746213   -3.746309\n",
       "windspeed    -4.258928  0.370264  9.999932e-01  5   -3.496549   -5.021307\n",
       "temp         -4.563552  0.498037  9.999832e-01  5   -3.538086   -5.589017\n",
       "humidity     -4.976030  0.433769  9.999931e-01  5   -4.082893   -5.869167\n",
       "workingday   -6.297909  0.661144  9.999856e-01  5   -4.936604   -7.659214"
      ]
     },
     "execution_count": 13,
     "metadata": {},
     "output_type": "execute_result"
    }
   ],
   "source": [
    "predictor.feature_importance(data=train)"
   ]
  },
  {
   "cell_type": "markdown",
   "metadata": {
    "tags": []
   },
   "source": [
    "### Create predictions from test dataset"
   ]
  },
  {
   "cell_type": "code",
   "execution_count": 25,
   "metadata": {
    "tags": []
   },
   "outputs": [
    {
     "data": {
      "text/plain": [
       "0    25.243507\n",
       "1    39.236584\n",
       "2    43.756599\n",
       "3    46.845642\n",
       "4    49.248672\n",
       "Name: count, dtype: float32"
      ]
     },
     "execution_count": 25,
     "metadata": {},
     "output_type": "execute_result"
    }
   ],
   "source": [
    "predictions = predictor.predict(test)\n",
    "predictions.head()"
   ]
  },
  {
   "cell_type": "code",
   "execution_count": 26,
   "metadata": {
    "tags": []
   },
   "outputs": [
    {
     "data": {
      "text/plain": [
       "count    6493.000000\n",
       "mean       99.180191\n",
       "std        88.254120\n",
       "min        -0.940082\n",
       "25%        20.459064\n",
       "50%        65.177330\n",
       "75%       166.824005\n",
       "max       354.987976\n",
       "Name: count, dtype: float64"
      ]
     },
     "execution_count": 26,
     "metadata": {},
     "output_type": "execute_result"
    }
   ],
   "source": [
    "predictions.describe()"
   ]
  },
  {
   "cell_type": "markdown",
   "metadata": {
    "tags": []
   },
   "source": [
    "#### NOTE: Kaggle will reject the submission if we don't set everything to be > 0."
   ]
  },
  {
   "cell_type": "code",
   "execution_count": 27,
   "metadata": {
    "tags": []
   },
   "outputs": [
    {
     "data": {
      "text/plain": [
       "6"
      ]
     },
     "execution_count": 27,
     "metadata": {},
     "output_type": "execute_result"
    }
   ],
   "source": [
    "predictions[predictions < 0].count()"
   ]
  },
  {
   "cell_type": "code",
   "execution_count": 17,
   "metadata": {
    "tags": []
   },
   "outputs": [],
   "source": [
    "predictions[predictions < 0] = 0"
   ]
  },
  {
   "cell_type": "markdown",
   "metadata": {
    "tags": []
   },
   "source": [
    "### Set predictions to submission dataframe, save, and submit"
   ]
  },
  {
   "cell_type": "code",
   "execution_count": 18,
   "metadata": {
    "tags": []
   },
   "outputs": [],
   "source": [
    "submission[\"count\"] = predictions\n",
    "submission.to_csv(\"submission.csv\", index=False)"
   ]
  },
  {
   "cell_type": "code",
   "execution_count": 19,
   "metadata": {
    "tags": []
   },
   "outputs": [
    {
     "name": "stdout",
     "output_type": "stream",
     "text": [
      "100%|█████████████████████████████████████████| 188k/188k [00:01<00:00, 131kB/s]\n",
      "Successfully submitted to Bike Sharing Demand"
     ]
    }
   ],
   "source": [
    "!kaggle competitions submit -c bike-sharing-demand -f submission.csv -m \"first raw submission\""
   ]
  },
  {
   "cell_type": "code",
   "execution_count": 20,
   "metadata": {
    "tags": []
   },
   "outputs": [],
   "source": [
    "!chmod 600 /Users/christina/.kaggle/kaggle.json"
   ]
  },
  {
   "cell_type": "markdown",
   "metadata": {
    "tags": []
   },
   "source": [
    "#### View submission via the command line or in the web browser under the competition's page - `My Submissions`"
   ]
  },
  {
   "cell_type": "code",
   "execution_count": 21,
   "metadata": {
    "tags": []
   },
   "outputs": [
    {
     "name": "stdout",
     "output_type": "stream",
     "text": [
      "fileName                     date                 description                        status    publicScore  privateScore  \n",
      "---------------------------  -------------------  ---------------------------------  --------  -----------  ------------  \n",
      "submission.csv               2023-03-15 20:07:22  first raw submission               complete  1.82268      1.82268       \n",
      "submission_new_hpo.csv       2023-03-08 00:18:14  new features with hyperparameters  complete  0.57948      0.57948       \n",
      "submission_new_features.csv  2023-03-08 00:16:26  new features                       complete  0.49657      0.49657       \n",
      "submission_new_hpo.csv       2023-03-07 23:23:12  new features with hyperparameters  complete  0.57948      0.57948       \n"
     ]
    }
   ],
   "source": [
    "!kaggle competitions submissions -c bike-sharing-demand | tail -n +1 | head -n 6"
   ]
  },
  {
   "cell_type": "markdown",
   "metadata": {
    "tags": []
   },
   "source": [
    "#### Initial score of 1.79873"
   ]
  },
  {
   "cell_type": "code",
   "execution_count": 80,
   "metadata": {
    "collapsed": true,
    "jupyter": {
     "outputs_hidden": true
    },
    "tags": []
   },
   "outputs": [
    {
     "data": {
      "text/plain": [
       "array([[<Axes: title={'center': 'datetime'}>,\n",
       "        <Axes: title={'center': 'season'}>,\n",
       "        <Axes: title={'center': 'holiday'}>],\n",
       "       [<Axes: title={'center': 'workingday'}>,\n",
       "        <Axes: title={'center': 'weather'}>,\n",
       "        <Axes: title={'center': 'temp'}>],\n",
       "       [<Axes: title={'center': 'atemp'}>,\n",
       "        <Axes: title={'center': 'humidity'}>,\n",
       "        <Axes: title={'center': 'windspeed'}>],\n",
       "       [<Axes: title={'center': 'casual'}>,\n",
       "        <Axes: title={'center': 'registered'}>,\n",
       "        <Axes: title={'center': 'count'}>]], dtype=object)"
      ]
     },
     "execution_count": 80,
     "metadata": {},
     "output_type": "execute_result"
    },
    {
     "data": {
      "image/png": "[encoded data removed]",
      "text/plain": [
       "<Figure size 1500x1500 with 12 Axes>"
      ]
     },
     "metadata": {},
     "output_type": "display_data"
    }
   ],
   "source": [
    "train.hist(figsize=(15, 15))"
   ]
  },
  {
   "cell_type": "code",
   "execution_count": 28,
   "metadata": {
    "tags": []
   },
   "outputs": [
    {
     "name": "stderr",
     "output_type": "stream",
     "text": [
      "Fitting DatetimeFeatureGenerator...\n",
      "\tInferring data type of each feature based on column values. Set feature_metadata_in to manually specify special dtypes of the features.\n",
      "Fitting DatetimeFeatureGenerator...\n",
      "\tInferring data type of each feature based on column values. Set feature_metadata_in to manually specify special dtypes of the features.\n"
     ]
    },
    {
     "data": {
      "text/html": [
       "<div>\n",
       "<style scoped>\n",
       "    .dataframe tbody tr th:only-of-type {\n",
       "        vertical-align: middle;\n",
       "    }\n",
       "\n",
       "    .dataframe tbody tr th {\n",
       "        vertical-align: top;\n",
       "    }\n",
       "\n",
       "    .dataframe thead th {\n",
       "        text-align: right;\n",
       "    }\n",
       "</style>\n",
       "<table border=\"1\" class=\"dataframe\">\n",
       "  <thead>\n",
       "    <tr style=\"text-align: right;\">\n",
       "      <th></th>\n",
       "      <th>season</th>\n",
       "      <th>holiday</th>\n",
       "      <th>workingday</th>\n",
       "      <th>weather</th>\n",
       "      <th>temp</th>\n",
       "      <th>atemp</th>\n",
       "      <th>humidity</th>\n",
       "      <th>windspeed</th>\n",
       "      <th>casual</th>\n",
       "      <th>registered</th>\n",
       "      <th>count</th>\n",
       "      <th>datetime.month</th>\n",
       "      <th>datetime.day</th>\n",
       "      <th>datetime.hour</th>\n",
       "      <th>year</th>\n",
       "    </tr>\n",
       "  </thead>\n",
       "  <tbody>\n",
       "    <tr>\n",
       "      <th>0</th>\n",
       "      <td>1</td>\n",
       "      <td>0</td>\n",
       "      <td>0</td>\n",
       "      <td>1</td>\n",
       "      <td>9.84</td>\n",
       "      <td>14.395</td>\n",
       "      <td>81</td>\n",
       "      <td>0.0</td>\n",
       "      <td>3</td>\n",
       "      <td>13</td>\n",
       "      <td>16</td>\n",
       "      <td>1</td>\n",
       "      <td>1</td>\n",
       "      <td>0</td>\n",
       "      <td>2011</td>\n",
       "    </tr>\n",
       "    <tr>\n",
       "      <th>1</th>\n",
       "      <td>1</td>\n",
       "      <td>0</td>\n",
       "      <td>0</td>\n",
       "      <td>1</td>\n",
       "      <td>9.02</td>\n",
       "      <td>13.635</td>\n",
       "      <td>80</td>\n",
       "      <td>0.0</td>\n",
       "      <td>8</td>\n",
       "      <td>32</td>\n",
       "      <td>40</td>\n",
       "      <td>1</td>\n",
       "      <td>1</td>\n",
       "      <td>1</td>\n",
       "      <td>2011</td>\n",
       "    </tr>\n",
       "    <tr>\n",
       "      <th>2</th>\n",
       "      <td>1</td>\n",
       "      <td>0</td>\n",
       "      <td>0</td>\n",
       "      <td>1</td>\n",
       "      <td>9.02</td>\n",
       "      <td>13.635</td>\n",
       "      <td>80</td>\n",
       "      <td>0.0</td>\n",
       "      <td>5</td>\n",
       "      <td>27</td>\n",
       "      <td>32</td>\n",
       "      <td>1</td>\n",
       "      <td>1</td>\n",
       "      <td>2</td>\n",
       "      <td>2011</td>\n",
       "    </tr>\n",
       "    <tr>\n",
       "      <th>3</th>\n",
       "      <td>1</td>\n",
       "      <td>0</td>\n",
       "      <td>0</td>\n",
       "      <td>1</td>\n",
       "      <td>9.84</td>\n",
       "      <td>14.395</td>\n",
       "      <td>75</td>\n",
       "      <td>0.0</td>\n",
       "      <td>3</td>\n",
       "      <td>10</td>\n",
       "      <td>13</td>\n",
       "      <td>1</td>\n",
       "      <td>1</td>\n",
       "      <td>3</td>\n",
       "      <td>2011</td>\n",
       "    </tr>\n",
       "    <tr>\n",
       "      <th>4</th>\n",
       "      <td>1</td>\n",
       "      <td>0</td>\n",
       "      <td>0</td>\n",
       "      <td>1</td>\n",
       "      <td>9.84</td>\n",
       "      <td>14.395</td>\n",
       "      <td>75</td>\n",
       "      <td>0.0</td>\n",
       "      <td>0</td>\n",
       "      <td>1</td>\n",
       "      <td>1</td>\n",
       "      <td>1</td>\n",
       "      <td>1</td>\n",
       "      <td>4</td>\n",
       "      <td>2011</td>\n",
       "    </tr>\n",
       "  </tbody>\n",
       "</table>\n",
       "</div>"
      ],
      "text/plain": [
       "   season  holiday  workingday  weather  temp   atemp  humidity  windspeed  \\\n",
       "0       1        0           0        1  9.84  14.395        81        0.0   \n",
       "1       1        0           0        1  9.02  13.635        80        0.0   \n",
       "2       1        0           0        1  9.02  13.635        80        0.0   \n",
       "3       1        0           0        1  9.84  14.395        75        0.0   \n",
       "4       1        0           0        1  9.84  14.395        75        0.0   \n",
       "\n",
       "   casual  registered  count  datetime.month  datetime.day  datetime.hour  \\\n",
       "0       3          13     16               1             1              0   \n",
       "1       8          32     40               1             1              1   \n",
       "2       5          27     32               1             1              2   \n",
       "3       3          10     13               1             1              3   \n",
       "4       0           1      1               1             1              4   \n",
       "\n",
       "   year  \n",
       "0  2011  \n",
       "1  2011  \n",
       "2  2011  \n",
       "3  2011  \n",
       "4  2011  "
      ]
     },
     "execution_count": 28,
     "metadata": {},
     "output_type": "execute_result"
    }
   ],
   "source": [
    "# New features I\n",
    "from autogluon.features.generators import DatetimeFeatureGenerator\n",
    "\n",
    "train_time_gen = DatetimeFeatureGenerator([\"month\", \"day\", \"hour\"])\n",
    "test_time_gen = DatetimeFeatureGenerator([\"month\", \"day\", \"hour\"])\n",
    "\n",
    "train_time_feat = train_time_gen.fit_transform(train)\n",
    "test_time_feat = test_time_gen.fit_transform(test)\n",
    "\n",
    "train_new_feat = pd.concat([train, train_time_feat], axis=1)\n",
    "test_new_feat = pd.concat([test, test_time_feat], axis=1)\n",
    "\n",
    "train_new_feat[\"year\"] = train[\"datetime\"].dt.year\n",
    "test_new_feat[\"year\"] = test[\"datetime\"].dt.year\n",
    "\n",
    "train_new_feat = train_new_feat.drop(\"datetime\", axis=1)\n",
    "test_new_feat = test_new_feat.drop(\"datetime\", axis=1)\n",
    "\n",
    "train_new_feat.head()"
   ]
  },
  {
   "cell_type": "code",
   "execution_count": 29,
   "metadata": {
    "tags": []
   },
   "outputs": [
    {
     "data": {
      "text/html": [
       "<div>\n",
       "<style scoped>\n",
       "    .dataframe tbody tr th:only-of-type {\n",
       "        vertical-align: middle;\n",
       "    }\n",
       "\n",
       "    .dataframe tbody tr th {\n",
       "        vertical-align: top;\n",
       "    }\n",
       "\n",
       "    .dataframe thead th {\n",
       "        text-align: right;\n",
       "    }\n",
       "</style>\n",
       "<table border=\"1\" class=\"dataframe\">\n",
       "  <thead>\n",
       "    <tr style=\"text-align: right;\">\n",
       "      <th></th>\n",
       "      <th>season</th>\n",
       "      <th>holiday</th>\n",
       "      <th>workingday</th>\n",
       "      <th>weather</th>\n",
       "      <th>temp</th>\n",
       "      <th>atemp</th>\n",
       "      <th>humidity</th>\n",
       "      <th>windspeed</th>\n",
       "      <th>datetime.month</th>\n",
       "      <th>datetime.day</th>\n",
       "      <th>datetime.hour</th>\n",
       "      <th>year</th>\n",
       "    </tr>\n",
       "  </thead>\n",
       "  <tbody>\n",
       "    <tr>\n",
       "      <th>0</th>\n",
       "      <td>1</td>\n",
       "      <td>0</td>\n",
       "      <td>1</td>\n",
       "      <td>1</td>\n",
       "      <td>10.66</td>\n",
       "      <td>11.365</td>\n",
       "      <td>56</td>\n",
       "      <td>26.0027</td>\n",
       "      <td>1</td>\n",
       "      <td>20</td>\n",
       "      <td>0</td>\n",
       "      <td>2011</td>\n",
       "    </tr>\n",
       "    <tr>\n",
       "      <th>1</th>\n",
       "      <td>1</td>\n",
       "      <td>0</td>\n",
       "      <td>1</td>\n",
       "      <td>1</td>\n",
       "      <td>10.66</td>\n",
       "      <td>13.635</td>\n",
       "      <td>56</td>\n",
       "      <td>0.0000</td>\n",
       "      <td>1</td>\n",
       "      <td>20</td>\n",
       "      <td>1</td>\n",
       "      <td>2011</td>\n",
       "    </tr>\n",
       "    <tr>\n",
       "      <th>2</th>\n",
       "      <td>1</td>\n",
       "      <td>0</td>\n",
       "      <td>1</td>\n",
       "      <td>1</td>\n",
       "      <td>10.66</td>\n",
       "      <td>13.635</td>\n",
       "      <td>56</td>\n",
       "      <td>0.0000</td>\n",
       "      <td>1</td>\n",
       "      <td>20</td>\n",
       "      <td>2</td>\n",
       "      <td>2011</td>\n",
       "    </tr>\n",
       "    <tr>\n",
       "      <th>3</th>\n",
       "      <td>1</td>\n",
       "      <td>0</td>\n",
       "      <td>1</td>\n",
       "      <td>1</td>\n",
       "      <td>10.66</td>\n",
       "      <td>12.880</td>\n",
       "      <td>56</td>\n",
       "      <td>11.0014</td>\n",
       "      <td>1</td>\n",
       "      <td>20</td>\n",
       "      <td>3</td>\n",
       "      <td>2011</td>\n",
       "    </tr>\n",
       "    <tr>\n",
       "      <th>4</th>\n",
       "      <td>1</td>\n",
       "      <td>0</td>\n",
       "      <td>1</td>\n",
       "      <td>1</td>\n",
       "      <td>10.66</td>\n",
       "      <td>12.880</td>\n",
       "      <td>56</td>\n",
       "      <td>11.0014</td>\n",
       "      <td>1</td>\n",
       "      <td>20</td>\n",
       "      <td>4</td>\n",
       "      <td>2011</td>\n",
       "    </tr>\n",
       "  </tbody>\n",
       "</table>\n",
       "</div>"
      ],
      "text/plain": [
       "   season  holiday  workingday  weather   temp   atemp  humidity  windspeed  \\\n",
       "0       1        0           1        1  10.66  11.365        56    26.0027   \n",
       "1       1        0           1        1  10.66  13.635        56     0.0000   \n",
       "2       1        0           1        1  10.66  13.635        56     0.0000   \n",
       "3       1        0           1        1  10.66  12.880        56    11.0014   \n",
       "4       1        0           1        1  10.66  12.880        56    11.0014   \n",
       "\n",
       "   datetime.month  datetime.day  datetime.hour  year  \n",
       "0               1            20              0  2011  \n",
       "1               1            20              1  2011  \n",
       "2               1            20              2  2011  \n",
       "3               1            20              3  2011  \n",
       "4               1            20              4  2011  "
      ]
     },
     "execution_count": 29,
     "metadata": {},
     "output_type": "execute_result"
    }
   ],
   "source": [
    "test_new_feat.head()"
   ]
  },
  {
   "cell_type": "markdown",
   "metadata": {
    "jupyter": {
     "source_hidden": true
    },
    "tags": []
   },
   "source": [
    "## Make category types for these so models know they are not just numbers\n",
    "* AutoGluon originally sees these as ints, but in reality they are int representations of a category.\n",
    "* Setting the dtype to category will classify these as categories in AutoGluon."
   ]
  },
  {
   "cell_type": "code",
   "execution_count": 30,
   "metadata": {
    "tags": []
   },
   "outputs": [],
   "source": [
    "# Transform applicable features into categories II\n",
    "train_new_feat[\"season\"] = train_new_feat[\"season\"].astype(\"category\")\n",
    "train_new_feat[\"weather\"] = train_new_feat[\"weather\"].astype(\"category\")\n",
    "train_new_feat[\"year\"] = train_new_feat[\"year\"].astype(\"category\")\n",
    "train_new_feat[\"holiday\"] = train_new_feat[\"holiday\"].astype(\"category\")\n",
    "train_new_feat[\"workingday\"] = train_new_feat[\"workingday\"].astype(\"category\")\n",
    "\n",
    "test_new_feat[\"season\"] = test_new_feat[\"season\"].astype(\"category\")\n",
    "test_new_feat[\"weather\"] = test_new_feat[\"season\"].astype(\"category\")\n",
    "test_new_feat[\"year\"] = test_new_feat[\"year\"].astype(\"category\")\n",
    "test_new_feat[\"holiday\"] = test_new_feat[\"holiday\"].astype(\"category\")\n",
    "test_new_feat[\"workingday\"] = test_new_feat[\"workingday\"].astype(\"category\")"
   ]
  },
  {
   "cell_type": "code",
   "execution_count": 31,
   "metadata": {
    "tags": []
   },
   "outputs": [
    {
     "data": {
      "text/html": [
       "<div>\n",
       "<style scoped>\n",
       "    .dataframe tbody tr th:only-of-type {\n",
       "        vertical-align: middle;\n",
       "    }\n",
       "\n",
       "    .dataframe tbody tr th {\n",
       "        vertical-align: top;\n",
       "    }\n",
       "\n",
       "    .dataframe thead th {\n",
       "        text-align: right;\n",
       "    }\n",
       "</style>\n",
       "<table border=\"1\" class=\"dataframe\">\n",
       "  <thead>\n",
       "    <tr style=\"text-align: right;\">\n",
       "      <th></th>\n",
       "      <th>season</th>\n",
       "      <th>holiday</th>\n",
       "      <th>workingday</th>\n",
       "      <th>weather</th>\n",
       "      <th>temp</th>\n",
       "      <th>atemp</th>\n",
       "      <th>humidity</th>\n",
       "      <th>windspeed</th>\n",
       "      <th>casual</th>\n",
       "      <th>registered</th>\n",
       "      <th>count</th>\n",
       "      <th>datetime.month</th>\n",
       "      <th>datetime.day</th>\n",
       "      <th>datetime.hour</th>\n",
       "      <th>year</th>\n",
       "    </tr>\n",
       "  </thead>\n",
       "  <tbody>\n",
       "    <tr>\n",
       "      <th>0</th>\n",
       "      <td>1</td>\n",
       "      <td>0</td>\n",
       "      <td>0</td>\n",
       "      <td>1</td>\n",
       "      <td>9.84</td>\n",
       "      <td>14.395</td>\n",
       "      <td>81</td>\n",
       "      <td>0.0</td>\n",
       "      <td>3</td>\n",
       "      <td>13</td>\n",
       "      <td>16</td>\n",
       "      <td>1</td>\n",
       "      <td>1</td>\n",
       "      <td>0</td>\n",
       "      <td>2011</td>\n",
       "    </tr>\n",
       "    <tr>\n",
       "      <th>1</th>\n",
       "      <td>1</td>\n",
       "      <td>0</td>\n",
       "      <td>0</td>\n",
       "      <td>1</td>\n",
       "      <td>9.02</td>\n",
       "      <td>13.635</td>\n",
       "      <td>80</td>\n",
       "      <td>0.0</td>\n",
       "      <td>8</td>\n",
       "      <td>32</td>\n",
       "      <td>40</td>\n",
       "      <td>1</td>\n",
       "      <td>1</td>\n",
       "      <td>1</td>\n",
       "      <td>2011</td>\n",
       "    </tr>\n",
       "    <tr>\n",
       "      <th>2</th>\n",
       "      <td>1</td>\n",
       "      <td>0</td>\n",
       "      <td>0</td>\n",
       "      <td>1</td>\n",
       "      <td>9.02</td>\n",
       "      <td>13.635</td>\n",
       "      <td>80</td>\n",
       "      <td>0.0</td>\n",
       "      <td>5</td>\n",
       "      <td>27</td>\n",
       "      <td>32</td>\n",
       "      <td>1</td>\n",
       "      <td>1</td>\n",
       "      <td>2</td>\n",
       "      <td>2011</td>\n",
       "    </tr>\n",
       "    <tr>\n",
       "      <th>3</th>\n",
       "      <td>1</td>\n",
       "      <td>0</td>\n",
       "      <td>0</td>\n",
       "      <td>1</td>\n",
       "      <td>9.84</td>\n",
       "      <td>14.395</td>\n",
       "      <td>75</td>\n",
       "      <td>0.0</td>\n",
       "      <td>3</td>\n",
       "      <td>10</td>\n",
       "      <td>13</td>\n",
       "      <td>1</td>\n",
       "      <td>1</td>\n",
       "      <td>3</td>\n",
       "      <td>2011</td>\n",
       "    </tr>\n",
       "    <tr>\n",
       "      <th>4</th>\n",
       "      <td>1</td>\n",
       "      <td>0</td>\n",
       "      <td>0</td>\n",
       "      <td>1</td>\n",
       "      <td>9.84</td>\n",
       "      <td>14.395</td>\n",
       "      <td>75</td>\n",
       "      <td>0.0</td>\n",
       "      <td>0</td>\n",
       "      <td>1</td>\n",
       "      <td>1</td>\n",
       "      <td>1</td>\n",
       "      <td>1</td>\n",
       "      <td>4</td>\n",
       "      <td>2011</td>\n",
       "    </tr>\n",
       "  </tbody>\n",
       "</table>\n",
       "</div>"
      ],
      "text/plain": [
       "  season holiday workingday weather  temp   atemp  humidity  windspeed  \\\n",
       "0      1       0          0       1  9.84  14.395        81        0.0   \n",
       "1      1       0          0       1  9.02  13.635        80        0.0   \n",
       "2      1       0          0       1  9.02  13.635        80        0.0   \n",
       "3      1       0          0       1  9.84  14.395        75        0.0   \n",
       "4      1       0          0       1  9.84  14.395        75        0.0   \n",
       "\n",
       "   casual  registered  count  datetime.month  datetime.day  datetime.hour  \\\n",
       "0       3          13     16               1             1              0   \n",
       "1       8          32     40               1             1              1   \n",
       "2       5          27     32               1             1              2   \n",
       "3       3          10     13               1             1              3   \n",
       "4       0           1      1               1             1              4   \n",
       "\n",
       "   year  \n",
       "0  2011  \n",
       "1  2011  \n",
       "2  2011  \n",
       "3  2011  \n",
       "4  2011  "
      ]
     },
     "execution_count": 31,
     "metadata": {},
     "output_type": "execute_result"
    }
   ],
   "source": [
    "train_new_feat.head()"
   ]
  },
  {
   "cell_type": "code",
   "execution_count": 32,
   "metadata": {
    "collapsed": true,
    "jupyter": {
     "outputs_hidden": true
    },
    "tags": []
   },
   "outputs": [
    {
     "data": {
      "text/plain": [
       "array([[<Axes: title={'center': 'temp'}>,\n",
       "        <Axes: title={'center': 'atemp'}>,\n",
       "        <Axes: title={'center': 'humidity'}>],\n",
       "       [<Axes: title={'center': 'windspeed'}>,\n",
       "        <Axes: title={'center': 'casual'}>,\n",
       "        <Axes: title={'center': 'registered'}>],\n",
       "       [<Axes: title={'center': 'count'}>,\n",
       "        <Axes: title={'center': 'datetime.month'}>,\n",
       "        <Axes: title={'center': 'datetime.day'}>],\n",
       "       [<Axes: title={'center': 'datetime.hour'}>, <Axes: >, <Axes: >]],\n",
       "      dtype=object)"
      ]
     },
     "execution_count": 32,
     "metadata": {},
     "output_type": "execute_result"
    },
    {
     "data": {
      "image/png": "[encoded data removed]",
      "text/plain": [
       "<Figure size 1500x1500 with 12 Axes>"
      ]
     },
     "metadata": {},
     "output_type": "display_data"
    }
   ],
   "source": [
    "train_new_feat.hist(figsize=(15, 15))"
   ]
  },
  {
   "cell_type": "code",
   "execution_count": 33,
   "metadata": {
    "collapsed": true,
    "jupyter": {
     "outputs_hidden": true
    },
    "tags": []
   },
   "outputs": [
    {
     "name": "stderr",
     "output_type": "stream",
     "text": [
      "No path specified. Models will be saved in: \"AutogluonModels/ag-20230315_201158/\"\n",
      "Presets specified: ['best_quality']\n",
      "Stack configuration (auto_stack=True): num_stack_levels=1, num_bag_folds=8, num_bag_sets=20\n",
      "Beginning AutoGluon training ... Time limit = 600s\n",
      "AutoGluon will save models to \"AutogluonModels/ag-20230315_201158/\"\n",
      "AutoGluon Version:  0.7.0\n",
      "Python Version:     3.8.16\n",
      "Operating System:   Darwin\n",
      "Platform Machine:   arm64\n",
      "Platform Version:   Darwin Kernel Version 22.2.0: Fri Nov 11 02:03:51 PST 2022; root:xnu-8792.61.2~4/RELEASE_ARM64_T6000\n",
      "Train Data Rows:    10886\n",
      "Train Data Columns: 14\n",
      "Label Column: count\n",
      "Preprocessing data ...\n",
      "AutoGluon infers your prediction problem is: 'regression' (because dtype of label-column == int and many unique label-values observed).\n",
      "\tLabel info (max, min, mean, stddev): (977, 1, 191.57413, 181.14445)\n",
      "\tIf 'regression' is not the correct problem_type, please manually specify the problem_type parameter during predictor init (You may specify problem_type as one of: ['binary', 'multiclass', 'regression'])\n",
      "Using Feature Generators to preprocess the data ...\n",
      "Dropping user-specified ignored columns: ['casual', 'registered']\n",
      "Fitting AutoMLPipelineFeatureGenerator...\n",
      "\tAvailable Memory:                    8180.93 MB\n",
      "\tTrain Data (Original)  Memory Usage: 0.66 MB (0.0% of available memory)\n",
      "\tInferring data type of each feature based on column values. Set feature_metadata_in to manually specify special dtypes of the features.\n",
      "\tStage 1 Generators:\n",
      "\t\tFitting AsTypeFeatureGenerator...\n",
      "\t\t\tNote: Converting 3 features to boolean dtype as they only contain 2 unique values.\n",
      "\tStage 2 Generators:\n",
      "\t\tFitting FillNaFeatureGenerator...\n",
      "\tStage 3 Generators:\n",
      "\t\tFitting IdentityFeatureGenerator...\n",
      "\t\tFitting CategoryFeatureGenerator...\n",
      "\t\t\tFitting CategoryMemoryMinimizeFeatureGenerator...\n",
      "\tStage 4 Generators:\n",
      "\t\tFitting DropUniqueFeatureGenerator...\n",
      "\tTypes of features in original data (raw dtype, special dtypes):\n",
      "\t\t('category', []) : 5 | ['season', 'holiday', 'workingday', 'weather', 'year']\n",
      "\t\t('float', [])    : 3 | ['temp', 'atemp', 'windspeed']\n",
      "\t\t('int', [])      : 4 | ['humidity', 'datetime.month', 'datetime.day', 'datetime.hour']\n",
      "\tTypes of features in processed data (raw dtype, special dtypes):\n",
      "\t\t('category', [])  : 2 | ['season', 'weather']\n",
      "\t\t('float', [])     : 3 | ['temp', 'atemp', 'windspeed']\n",
      "\t\t('int', [])       : 4 | ['humidity', 'datetime.month', 'datetime.day', 'datetime.hour']\n",
      "\t\t('int', ['bool']) : 3 | ['holiday', 'workingday', 'year']\n",
      "\t0.0s = Fit runtime\n",
      "\t12 features in original data used to generate 12 features in processed data.\n",
      "\tTrain Data (Processed) Memory Usage: 0.67 MB (0.0% of available memory)\n",
      "Data preprocessing and feature engineering runtime = 0.06s ...\n",
      "AutoGluon will gauge predictive performance using evaluation metric: 'root_mean_squared_error'\n",
      "\tThis metric's sign has been flipped to adhere to being higher_is_better. The metric score can be multiplied by -1 to get the metric value.\n",
      "\tTo change this, specify the eval_metric parameter of Predictor()\n",
      "AutoGluon will fit 2 stack levels (L1 to L2) ...\n",
      "Fitting 11 L1 models ...\n",
      "Fitting model: KNeighborsUnif_BAG_L1 ... Training model for up to 399.86s of the 599.94s of remaining time.\n",
      "\t-123.918\t = Validation score   (-root_mean_squared_error)\n",
      "\t0.01s\t = Training   runtime\n",
      "\t0.05s\t = Validation runtime\n",
      "Fitting model: KNeighborsDist_BAG_L1 ... Training model for up to 399.78s of the 599.86s of remaining time.\n",
      "\t-119.3625\t = Validation score   (-root_mean_squared_error)\n",
      "\t0.01s\t = Training   runtime\n",
      "\t0.04s\t = Validation runtime\n",
      "Fitting model: LightGBMXT_BAG_L1 ... Training model for up to 399.72s of the 599.8s of remaining time.\n",
      "\tFitting 8 child models (S1F1 - S1F8) | Fitting with SequentialLocalFoldFittingStrategy\n"
     ]
    },
    {
     "name": "stdout",
     "output_type": "stream",
     "text": [
      "[1000]\tvalid_set's rmse: 38.1831\n",
      "[2000]\tvalid_set's rmse: 36.3534\n",
      "[3000]\tvalid_set's rmse: 35.9682\n",
      "[4000]\tvalid_set's rmse: 35.9153\n",
      "[5000]\tvalid_set's rmse: 35.8803\n"
     ]
    },
    {
     "name": "stderr",
     "output_type": "stream",
     "text": [
      "\tRan out of time, early stopping on iteration 5219. Best iteration is:\n",
      "\t[4506]\tvalid_set's rmse: 35.8476\n"
     ]
    },
    {
     "name": "stdout",
     "output_type": "stream",
     "text": [
      "[1000]\tvalid_set's rmse: 40.2132\n",
      "[2000]\tvalid_set's rmse: 38.568\n",
      "[3000]\tvalid_set's rmse: 37.959\n",
      "[4000]\tvalid_set's rmse: 37.6747\n",
      "[5000]\tvalid_set's rmse: 37.4856\n",
      "[6000]\tvalid_set's rmse: 37.3\n",
      "[7000]\tvalid_set's rmse: 37.1938\n",
      "[8000]\tvalid_set's rmse: 37.1756\n"
     ]
    },
    {
     "name": "stderr",
     "output_type": "stream",
     "text": [
      "\tRan out of time, early stopping on iteration 8173. Best iteration is:\n",
      "\t[7760]\tvalid_set's rmse: 37.1607\n"
     ]
    },
    {
     "name": "stdout",
     "output_type": "stream",
     "text": [
      "[1000]\tvalid_set's rmse: 38.8445\n",
      "[2000]\tvalid_set's rmse: 37.4841\n",
      "[3000]\tvalid_set's rmse: 37.2293\n",
      "[4000]\tvalid_set's rmse: 37.0479\n",
      "[5000]\tvalid_set's rmse: 36.9205\n",
      "[6000]\tvalid_set's rmse: 36.8023\n",
      "[7000]\tvalid_set's rmse: 36.7757\n",
      "[8000]\tvalid_set's rmse: 36.7345\n",
      "[9000]\tvalid_set's rmse: 36.7168\n",
      "[10000]\tvalid_set's rmse: 36.6887\n",
      "[1000]\tvalid_set's rmse: 39.9399\n",
      "[2000]\tvalid_set's rmse: 38.5815\n",
      "[3000]\tvalid_set's rmse: 38.2467\n",
      "[4000]\tvalid_set's rmse: 38.0437\n",
      "[5000]\tvalid_set's rmse: 37.9804\n",
      "[6000]\tvalid_set's rmse: 38.0078\n",
      "[1000]\tvalid_set's rmse: 41.8714\n",
      "[2000]\tvalid_set's rmse: 40.1642\n",
      "[3000]\tvalid_set's rmse: 39.6496\n",
      "[4000]\tvalid_set's rmse: 39.4988\n",
      "[5000]\tvalid_set's rmse: 39.449\n",
      "[6000]\tvalid_set's rmse: 39.4147\n",
      "[7000]\tvalid_set's rmse: 39.3967\n",
      "[8000]\tvalid_set's rmse: 39.4487\n",
      "[1000]\tvalid_set's rmse: 38.9347\n",
      "[2000]\tvalid_set's rmse: 36.8248\n",
      "[3000]\tvalid_set's rmse: 36.1627\n",
      "[4000]\tvalid_set's rmse: 35.8347\n",
      "[5000]\tvalid_set's rmse: 35.6252\n",
      "[6000]\tvalid_set's rmse: 35.4707\n",
      "[7000]\tvalid_set's rmse: 35.4301\n",
      "[8000]\tvalid_set's rmse: 35.3753\n",
      "[9000]\tvalid_set's rmse: 35.386\n",
      "[10000]\tvalid_set's rmse: 35.3758\n",
      "[1000]\tvalid_set's rmse: 41.8211\n",
      "[2000]\tvalid_set's rmse: 40.758\n",
      "[3000]\tvalid_set's rmse: 40.3867\n",
      "[4000]\tvalid_set's rmse: 40.225\n",
      "[5000]\tvalid_set's rmse: 40.1708\n",
      "[6000]\tvalid_set's rmse: 40.1376\n",
      "[7000]\tvalid_set's rmse: 40.1109\n",
      "[8000]\tvalid_set's rmse: 40.1932\n",
      "[1000]\tvalid_set's rmse: 37.6985\n",
      "[2000]\tvalid_set's rmse: 35.6055\n",
      "[3000]\tvalid_set's rmse: 35.2335\n",
      "[4000]\tvalid_set's rmse: 35.0066\n",
      "[5000]\tvalid_set's rmse: 35.021\n",
      "[6000]\tvalid_set's rmse: 34.9537\n",
      "[7000]\tvalid_set's rmse: 34.9478\n",
      "[8000]\tvalid_set's rmse: 35.0128\n"
     ]
    },
    {
     "name": "stderr",
     "output_type": "stream",
     "text": [
      "\t-37.2123\t = Validation score   (-root_mean_squared_error)\n",
      "\t338.26s\t = Training   runtime\n",
      "\t1.02s\t = Validation runtime\n",
      "Fitting model: LightGBM_BAG_L1 ... Training model for up to 58.35s of the 258.43s of remaining time.\n",
      "\tFitting 8 child models (S1F1 - S1F8) | Fitting with SequentialLocalFoldFittingStrategy\n"
     ]
    },
    {
     "name": "stdout",
     "output_type": "stream",
     "text": [
      "[1000]\tvalid_set's rmse: 36.6982\n"
     ]
    },
    {
     "name": "stderr",
     "output_type": "stream",
     "text": [
      "\tRan out of time, early stopping on iteration 1552. Best iteration is:\n",
      "\t[1489]\tvalid_set's rmse: 36.4247\n"
     ]
    },
    {
     "name": "stdout",
     "output_type": "stream",
     "text": [
      "[1000]\tvalid_set's rmse: 37.4772\n"
     ]
    },
    {
     "name": "stderr",
     "output_type": "stream",
     "text": [
      "\tRan out of time, early stopping on iteration 1931. Best iteration is:\n",
      "\t[1904]\tvalid_set's rmse: 36.6443\n"
     ]
    },
    {
     "name": "stdout",
     "output_type": "stream",
     "text": [
      "[1000]\tvalid_set's rmse: 37.1871\n"
     ]
    },
    {
     "name": "stderr",
     "output_type": "stream",
     "text": [
      "\tRan out of time, early stopping on iteration 2052. Best iteration is:\n",
      "\t[1837]\tvalid_set's rmse: 36.5583\n"
     ]
    },
    {
     "name": "stdout",
     "output_type": "stream",
     "text": [
      "[2000]\tvalid_set's rmse: 36.5679\n",
      "[1000]\tvalid_set's rmse: 39.3305\n",
      "[2000]\tvalid_set's rmse: 38.9471\n"
     ]
    },
    {
     "name": "stderr",
     "output_type": "stream",
     "text": [
      "\tRan out of time, early stopping on iteration 2126. Best iteration is:\n",
      "\t[1840]\tvalid_set's rmse: 38.909\n"
     ]
    },
    {
     "name": "stdout",
     "output_type": "stream",
     "text": [
      "[1000]\tvalid_set's rmse: 40.5725\n"
     ]
    },
    {
     "name": "stderr",
     "output_type": "stream",
     "text": [
      "\tRan out of time, early stopping on iteration 1937. Best iteration is:\n",
      "\t[1694]\tvalid_set's rmse: 40.1458\n"
     ]
    },
    {
     "name": "stdout",
     "output_type": "stream",
     "text": [
      "[1000]\tvalid_set's rmse: 36.4101\n",
      "[2000]\tvalid_set's rmse: 36.0051\n"
     ]
    },
    {
     "name": "stderr",
     "output_type": "stream",
     "text": [
      "\tRan out of time, early stopping on iteration 2361. Best iteration is:\n",
      "\t[2221]\tvalid_set's rmse: 35.9396\n"
     ]
    },
    {
     "name": "stdout",
     "output_type": "stream",
     "text": [
      "[1000]\tvalid_set's rmse: 41.5518\n",
      "[2000]\tvalid_set's rmse: 41.0615\n"
     ]
    },
    {
     "name": "stderr",
     "output_type": "stream",
     "text": [
      "\tRan out of time, early stopping on iteration 2572. Best iteration is:\n",
      "\t[2494]\tvalid_set's rmse: 40.9237\n"
     ]
    },
    {
     "name": "stdout",
     "output_type": "stream",
     "text": [
      "[1000]\tvalid_set's rmse: 36.8879\n"
     ]
    },
    {
     "name": "stderr",
     "output_type": "stream",
     "text": [
      "\t-37.8099\t = Validation score   (-root_mean_squared_error)\n",
      "\t53.14s\t = Training   runtime\n",
      "\t0.17s\t = Validation runtime\n",
      "Fitting model: RandomForestMSE_BAG_L1 ... Training model for up to 4.46s of the 204.54s of remaining time.\n",
      "\t-42.2051\t = Validation score   (-root_mean_squared_error)\n",
      "\t1.03s\t = Training   runtime\n",
      "\t0.26s\t = Validation runtime\n",
      "Fitting model: CatBoost_BAG_L1 ... Training model for up to 3.02s of the 203.1s of remaining time.\n",
      "\tFitting 8 child models (S1F1 - S1F8) | Fitting with SequentialLocalFoldFittingStrategy\n",
      "\tRan out of time, early stopping on iteration 101.\n",
      "\tRan out of time, early stopping on iteration 104.\n",
      "\tRan out of time, early stopping on iteration 104.\n",
      "\tRan out of time, early stopping on iteration 109.\n",
      "\tRan out of time, early stopping on iteration 112.\n",
      "\tRan out of time, early stopping on iteration 123.\n",
      "\tRan out of time, early stopping on iteration 134.\n",
      "\tRan out of time, early stopping on iteration 157.\n",
      "\t-55.7388\t = Validation score   (-root_mean_squared_error)\n",
      "\t2.87s\t = Training   runtime\n",
      "\t0.02s\t = Validation runtime\n",
      "Fitting model: ExtraTreesMSE_BAG_L1 ... Training model for up to 0.11s of the 200.19s of remaining time.\n",
      "\t-41.5409\t = Validation score   (-root_mean_squared_error)\n",
      "\t0.56s\t = Training   runtime\n",
      "\t0.26s\t = Validation runtime\n",
      "Completed 1/20 k-fold bagging repeats ...\n",
      "Fitting model: WeightedEnsemble_L2 ... Training model for up to 360.0s of the 199.22s of remaining time.\n",
      "\t-36.0874\t = Validation score   (-root_mean_squared_error)\n",
      "\t0.11s\t = Training   runtime\n",
      "\t0.0s\t = Validation runtime\n",
      "Fitting 9 L2 models ...\n",
      "Fitting model: LightGBMXT_BAG_L2 ... Training model for up to 199.11s of the 199.11s of remaining time.\n",
      "\tFitting 8 child models (S1F1 - S1F8) | Fitting with SequentialLocalFoldFittingStrategy\n",
      "\t-37.3131\t = Validation score   (-root_mean_squared_error)\n",
      "\t15.46s\t = Training   runtime\n",
      "\t0.04s\t = Validation runtime\n",
      "Fitting model: LightGBM_BAG_L2 ... Training model for up to 183.55s of the 183.55s of remaining time.\n",
      "\tFitting 8 child models (S1F1 - S1F8) | Fitting with SequentialLocalFoldFittingStrategy\n",
      "\t-36.4986\t = Validation score   (-root_mean_squared_error)\n",
      "\t10.48s\t = Training   runtime\n",
      "\t0.02s\t = Validation runtime\n",
      "Fitting model: RandomForestMSE_BAG_L2 ... Training model for up to 173.01s of the 173.0s of remaining time.\n",
      "\t-36.8127\t = Validation score   (-root_mean_squared_error)\n",
      "\t3.38s\t = Training   runtime\n",
      "\t0.29s\t = Validation runtime\n",
      "Fitting model: CatBoost_BAG_L2 ... Training model for up to 169.16s of the 169.16s of remaining time.\n",
      "\tFitting 8 child models (S1F1 - S1F8) | Fitting with SequentialLocalFoldFittingStrategy\n",
      "\t-36.3475\t = Validation score   (-root_mean_squared_error)\n",
      "\t16.83s\t = Training   runtime\n",
      "\t0.02s\t = Validation runtime\n",
      "Fitting model: ExtraTreesMSE_BAG_L2 ... Training model for up to 152.29s of the 152.28s of remaining time.\n",
      "\t-36.0451\t = Validation score   (-root_mean_squared_error)\n",
      "\t0.91s\t = Training   runtime\n",
      "\t0.29s\t = Validation runtime\n",
      "Fitting model: NeuralNetFastAI_BAG_L2 ... Training model for up to 150.94s of the 150.94s of remaining time.\n",
      "\tFitting 8 child models (S1F1 - S1F8) | Fitting with SequentialLocalFoldFittingStrategy\n",
      "\t-36.5095\t = Validation score   (-root_mean_squared_error)\n",
      "\t51.59s\t = Training   runtime\n",
      "\t0.09s\t = Validation runtime\n",
      "Fitting model: XGBoost_BAG_L2 ... Training model for up to 99.17s of the 99.17s of remaining time.\n",
      "\tFitting 8 child models (S1F1 - S1F8) | Fitting with SequentialLocalFoldFittingStrategy\n",
      "\t-36.8902\t = Validation score   (-root_mean_squared_error)\n",
      "\t15.73s\t = Training   runtime\n",
      "\t0.04s\t = Validation runtime\n",
      "Fitting model: NeuralNetTorch_BAG_L2 ... Training model for up to 83.34s of the 83.34s of remaining time.\n",
      "\tFitting 8 child models (S1F1 - S1F8) | Fitting with SequentialLocalFoldFittingStrategy\n",
      "\tRan out of time, stopping training early. (Stopping on epoch 54)\n",
      "\t-37.4823\t = Validation score   (-root_mean_squared_error)\n",
      "\t61.74s\t = Training   runtime\n",
      "\t0.06s\t = Validation runtime\n",
      "Fitting model: LightGBMLarge_BAG_L2 ... Training model for up to 21.52s of the 21.52s of remaining time.\n",
      "\tFitting 8 child models (S1F1 - S1F8) | Fitting with SequentialLocalFoldFittingStrategy\n",
      "\tRan out of time, early stopping on iteration 134. Best iteration is:\n",
      "\t[128]\tvalid_set's rmse: 39.5041\n",
      "\tRan out of time, early stopping on iteration 161. Best iteration is:\n",
      "\t[141]\tvalid_set's rmse: 40.1181\n",
      "\tRan out of time, early stopping on iteration 141. Best iteration is:\n",
      "\t[140]\tvalid_set's rmse: 35.8563\n",
      "\tRan out of time, early stopping on iteration 143. Best iteration is:\n",
      "\t[143]\tvalid_set's rmse: 35.5153\n",
      "\tRan out of time, early stopping on iteration 189. Best iteration is:\n",
      "\t[155]\tvalid_set's rmse: 32.344\n",
      "\tRan out of time, early stopping on iteration 172. Best iteration is:\n",
      "\t[149]\tvalid_set's rmse: 36.8872\n",
      "\tRan out of time, early stopping on iteration 207. Best iteration is:\n",
      "\t[154]\tvalid_set's rmse: 37.9053\n",
      "\tRan out of time, early stopping on iteration 250. Best iteration is:\n",
      "\t[142]\tvalid_set's rmse: 37.6418\n",
      "\t-37.043\t = Validation score   (-root_mean_squared_error)\n",
      "\t20.54s\t = Training   runtime\n",
      "\t0.04s\t = Validation runtime\n",
      "Completed 1/20 k-fold bagging repeats ...\n",
      "Fitting model: WeightedEnsemble_L3 ... Training model for up to 360.0s of the 0.77s of remaining time.\n",
      "\t-35.8336\t = Validation score   (-root_mean_squared_error)\n",
      "\t0.17s\t = Training   runtime\n",
      "\t0.0s\t = Validation runtime\n",
      "AutoGluon training complete, total runtime = 599.42s ... Best model: \"WeightedEnsemble_L3\"\n",
      "TabularPredictor saved. To load, use: predictor = TabularPredictor.load(\"AutogluonModels/ag-20230315_201158/\")\n"
     ]
    }
   ],
   "source": [
    "predictor_new_features = TabularPredictor(\n",
    "    label=\"count\", \n",
    "    learner_kwargs={\"ignored_columns\": [\"casual\", \"registered\"]}, \n",
    "    eval_metric=\"root_mean_squared_error\").fit(train_new_feat, time_limit=600, presets=\"best_quality\")"
   ]
  },
  {
   "cell_type": "code",
   "execution_count": 36,
   "metadata": {
    "collapsed": true,
    "jupyter": {
     "outputs_hidden": true
    },
    "tags": []
   },
   "outputs": [
    {
     "name": "stdout",
     "output_type": "stream",
     "text": [
      "*** Summary of fit() ***\n",
      "Estimated performance of each model:\n",
      "                     model   score_val  pred_time_val    fit_time  pred_time_val_marginal  fit_time_marginal  stack_level  can_infer  fit_order\n",
      "0      WeightedEnsemble_L3  -35.833622       2.580064  540.976624                0.000230           0.174571            3       True         18\n",
      "1     ExtraTreesMSE_BAG_L2  -36.045121       2.095387  396.778823                0.285874           0.905934            2       True         13\n",
      "2      WeightedEnsemble_L2  -36.087402       1.698668  393.092153                0.000204           0.105872            2       True          8\n",
      "3          CatBoost_BAG_L2  -36.347485       1.826319  412.707847                0.016806          16.834958            2       True         12\n",
      "4          LightGBM_BAG_L2  -36.498648       1.831804  406.353428                0.022290          10.480539            2       True         10\n",
      "5   NeuralNetFastAI_BAG_L2  -36.509514       1.903369  447.461320                0.093856          51.588431            2       True         14\n",
      "6   RandomForestMSE_BAG_L2  -36.812663       2.101411  399.255009                0.291898           3.382119            2       True         11\n",
      "7           XGBoost_BAG_L2  -36.890159       1.850529  411.605503                0.041016          15.732613            2       True         15\n",
      "8     LightGBMLarge_BAG_L2  -37.043021       1.846925  416.414787                0.037412          20.541898            2       True         17\n",
      "9        LightGBMXT_BAG_L1  -37.212274       1.015633  338.259553                1.015633         338.259553            1       True          3\n",
      "10       LightGBMXT_BAG_L2  -37.313058       1.848838  411.328408                0.039325          15.455518            2       True          9\n",
      "11   NeuralNetTorch_BAG_L2  -37.482271       1.869109  457.610073                0.059596          61.737183            2       True         16\n",
      "12         LightGBM_BAG_L1  -37.809907       0.168935   53.139781                0.168935          53.139781            1       True          4\n",
      "13    ExtraTreesMSE_BAG_L1  -41.540932       0.256228    0.555732                0.256228           0.555732            1       True          7\n",
      "14  RandomForestMSE_BAG_L1  -42.205093       0.257669    1.031215                0.257669           1.031215            1       True          5\n",
      "15         CatBoost_BAG_L1  -55.738773       0.015192    2.868159                0.015192           2.868159            1       True          6\n",
      "16   KNeighborsDist_BAG_L1 -119.362479       0.042021    0.006407                0.042021           0.006407            1       True          2\n",
      "17   KNeighborsUnif_BAG_L1 -123.917966       0.053836    0.012043                0.053836           0.012043            1       True          1\n",
      "Number of models trained: 18\n",
      "Types of models trained:\n",
      "{'StackerEnsembleModel_TabularNeuralNetTorch', 'WeightedEnsembleModel', 'StackerEnsembleModel_XGBoost', 'StackerEnsembleModel_NNFastAiTabular', 'StackerEnsembleModel_KNN', 'StackerEnsembleModel_LGB', 'StackerEnsembleModel_XT', 'StackerEnsembleModel_RF', 'StackerEnsembleModel_CatBoost'}\n",
      "Bagging used: True  (with 8 folds)\n",
      "Multi-layer stack-ensembling used: True  (with 3 levels)\n",
      "Feature Metadata (Processed):\n",
      "(raw dtype, special dtypes):\n",
      "('category', [])  : 2 | ['season', 'weather']\n",
      "('float', [])     : 3 | ['temp', 'atemp', 'windspeed']\n",
      "('int', [])       : 4 | ['humidity', 'datetime.month', 'datetime.day', 'datetime.hour']\n",
      "('int', ['bool']) : 3 | ['holiday', 'workingday', 'year']\n",
      "*** End of fit() summary ***\n"
     ]
    },
    {
     "name": "stderr",
     "output_type": "stream",
     "text": [
      "/Users/christina/.pyenv/versions/3.8.16/envs/venv/lib/python3.8/site-packages/autogluon/core/utils/plots.py:138: UserWarning: AutoGluon summary plots cannot be created because bokeh is not installed. To see plots, please do: \"pip install bokeh==2.0.1\"\n",
      "  warnings.warn('AutoGluon summary plots cannot be created because bokeh is not installed. To see plots, please do: \"pip install bokeh==2.0.1\"')\n"
     ]
    },
    {
     "data": {
      "text/plain": [
       "{'model_types': {'KNeighborsUnif_BAG_L1': 'StackerEnsembleModel_KNN',\n",
       "  'KNeighborsDist_BAG_L1': 'StackerEnsembleModel_KNN',\n",
       "  'LightGBMXT_BAG_L1': 'StackerEnsembleModel_LGB',\n",
       "  'LightGBM_BAG_L1': 'StackerEnsembleModel_LGB',\n",
       "  'RandomForestMSE_BAG_L1': 'StackerEnsembleModel_RF',\n",
       "  'CatBoost_BAG_L1': 'StackerEnsembleModel_CatBoost',\n",
       "  'ExtraTreesMSE_BAG_L1': 'StackerEnsembleModel_XT',\n",
       "  'WeightedEnsemble_L2': 'WeightedEnsembleModel',\n",
       "  'LightGBMXT_BAG_L2': 'StackerEnsembleModel_LGB',\n",
       "  'LightGBM_BAG_L2': 'StackerEnsembleModel_LGB',\n",
       "  'RandomForestMSE_BAG_L2': 'StackerEnsembleModel_RF',\n",
       "  'CatBoost_BAG_L2': 'StackerEnsembleModel_CatBoost',\n",
       "  'ExtraTreesMSE_BAG_L2': 'StackerEnsembleModel_XT',\n",
       "  'NeuralNetFastAI_BAG_L2': 'StackerEnsembleModel_NNFastAiTabular',\n",
       "  'XGBoost_BAG_L2': 'StackerEnsembleModel_XGBoost',\n",
       "  'NeuralNetTorch_BAG_L2': 'StackerEnsembleModel_TabularNeuralNetTorch',\n",
       "  'LightGBMLarge_BAG_L2': 'StackerEnsembleModel_LGB',\n",
       "  'WeightedEnsemble_L3': 'WeightedEnsembleModel'},\n",
       " 'model_performance': {'KNeighborsUnif_BAG_L1': -123.91796584199159,\n",
       "  'KNeighborsDist_BAG_L1': -119.3624793554422,\n",
       "  'LightGBMXT_BAG_L1': -37.21227377515072,\n",
       "  'LightGBM_BAG_L1': -37.80990660232718,\n",
       "  'RandomForestMSE_BAG_L1': -42.20509307231436,\n",
       "  'CatBoost_BAG_L1': -55.73877280433577,\n",
       "  'ExtraTreesMSE_BAG_L1': -41.54093157788019,\n",
       "  'WeightedEnsemble_L2': -36.087401875926204,\n",
       "  'LightGBMXT_BAG_L2': -37.31305750308272,\n",
       "  'LightGBM_BAG_L2': -36.498647738286465,\n",
       "  'RandomForestMSE_BAG_L2': -36.81266307643317,\n",
       "  'CatBoost_BAG_L2': -36.347485447898244,\n",
       "  'ExtraTreesMSE_BAG_L2': -36.045121316846846,\n",
       "  'NeuralNetFastAI_BAG_L2': -36.50951408542505,\n",
       "  'XGBoost_BAG_L2': -36.89015859571508,\n",
       "  'NeuralNetTorch_BAG_L2': -37.482270590044685,\n",
       "  'LightGBMLarge_BAG_L2': -37.04302050387037,\n",
       "  'WeightedEnsemble_L3': -35.833622387558044},\n",
       " 'model_best': 'WeightedEnsemble_L3',\n",
       " 'model_paths': {'KNeighborsUnif_BAG_L1': 'AutogluonModels/ag-20230315_201158/models/KNeighborsUnif_BAG_L1/',\n",
       "  'KNeighborsDist_BAG_L1': 'AutogluonModels/ag-20230315_201158/models/KNeighborsDist_BAG_L1/',\n",
       "  'LightGBMXT_BAG_L1': 'AutogluonModels/ag-20230315_201158/models/LightGBMXT_BAG_L1/',\n",
       "  'LightGBM_BAG_L1': 'AutogluonModels/ag-20230315_201158/models/LightGBM_BAG_L1/',\n",
       "  'RandomForestMSE_BAG_L1': 'AutogluonModels/ag-20230315_201158/models/RandomForestMSE_BAG_L1/',\n",
       "  'CatBoost_BAG_L1': 'AutogluonModels/ag-20230315_201158/models/CatBoost_BAG_L1/',\n",
       "  'ExtraTreesMSE_BAG_L1': 'AutogluonModels/ag-20230315_201158/models/ExtraTreesMSE_BAG_L1/',\n",
       "  'WeightedEnsemble_L2': 'AutogluonModels/ag-20230315_201158/models/WeightedEnsemble_L2/',\n",
       "  'LightGBMXT_BAG_L2': 'AutogluonModels/ag-20230315_201158/models/LightGBMXT_BAG_L2/',\n",
       "  'LightGBM_BAG_L2': 'AutogluonModels/ag-20230315_201158/models/LightGBM_BAG_L2/',\n",
       "  'RandomForestMSE_BAG_L2': 'AutogluonModels/ag-20230315_201158/models/RandomForestMSE_BAG_L2/',\n",
       "  'CatBoost_BAG_L2': 'AutogluonModels/ag-20230315_201158/models/CatBoost_BAG_L2/',\n",
       "  'ExtraTreesMSE_BAG_L2': 'AutogluonModels/ag-20230315_201158/models/ExtraTreesMSE_BAG_L2/',\n",
       "  'NeuralNetFastAI_BAG_L2': 'AutogluonModels/ag-20230315_201158/models/NeuralNetFastAI_BAG_L2/',\n",
       "  'XGBoost_BAG_L2': 'AutogluonModels/ag-20230315_201158/models/XGBoost_BAG_L2/',\n",
       "  'NeuralNetTorch_BAG_L2': 'AutogluonModels/ag-20230315_201158/models/NeuralNetTorch_BAG_L2/',\n",
       "  'LightGBMLarge_BAG_L2': 'AutogluonModels/ag-20230315_201158/models/LightGBMLarge_BAG_L2/',\n",
       "  'WeightedEnsemble_L3': 'AutogluonModels/ag-20230315_201158/models/WeightedEnsemble_L3/'},\n",
       " 'model_fit_times': {'KNeighborsUnif_BAG_L1': 0.012042999267578125,\n",
       "  'KNeighborsDist_BAG_L1': 0.006407022476196289,\n",
       "  'LightGBMXT_BAG_L1': 338.25955295562744,\n",
       "  'LightGBM_BAG_L1': 53.13978099822998,\n",
       "  'RandomForestMSE_BAG_L1': 1.031214952468872,\n",
       "  'CatBoost_BAG_L1': 2.8681585788726807,\n",
       "  'ExtraTreesMSE_BAG_L1': 0.555732011795044,\n",
       "  'WeightedEnsemble_L2': 0.10587191581726074,\n",
       "  'LightGBMXT_BAG_L2': 15.4555184841156,\n",
       "  'LightGBM_BAG_L2': 10.480538606643677,\n",
       "  'RandomForestMSE_BAG_L2': 3.3821191787719727,\n",
       "  'CatBoost_BAG_L2': 16.83495783805847,\n",
       "  'ExtraTreesMSE_BAG_L2': 0.9059338569641113,\n",
       "  'NeuralNetFastAI_BAG_L2': 51.588430881500244,\n",
       "  'XGBoost_BAG_L2': 15.732613325119019,\n",
       "  'NeuralNetTorch_BAG_L2': 61.73718333244324,\n",
       "  'LightGBMLarge_BAG_L2': 20.541897773742676,\n",
       "  'WeightedEnsemble_L3': 0.17457103729248047},\n",
       " 'model_pred_times': {'KNeighborsUnif_BAG_L1': 0.05383586883544922,\n",
       "  'KNeighborsDist_BAG_L1': 0.04202103614807129,\n",
       "  'LightGBMXT_BAG_L1': 1.0156331062316895,\n",
       "  'LightGBM_BAG_L1': 0.16893458366394043,\n",
       "  'RandomForestMSE_BAG_L1': 0.25766897201538086,\n",
       "  'CatBoost_BAG_L1': 0.015191793441772461,\n",
       "  'ExtraTreesMSE_BAG_L1': 0.256227970123291,\n",
       "  'WeightedEnsemble_L2': 0.00020384788513183594,\n",
       "  'LightGBMXT_BAG_L2': 0.03932499885559082,\n",
       "  'LightGBM_BAG_L2': 0.022290468215942383,\n",
       "  'RandomForestMSE_BAG_L2': 0.2918980121612549,\n",
       "  'CatBoost_BAG_L2': 0.01680612564086914,\n",
       "  'ExtraTreesMSE_BAG_L2': 0.2858738899230957,\n",
       "  'NeuralNetFastAI_BAG_L2': 0.0938558578491211,\n",
       "  'XGBoost_BAG_L2': 0.0410158634185791,\n",
       "  'NeuralNetTorch_BAG_L2': 0.05959582328796387,\n",
       "  'LightGBMLarge_BAG_L2': 0.037412166595458984,\n",
       "  'WeightedEnsemble_L3': 0.0002300739288330078},\n",
       " 'num_bag_folds': 8,\n",
       " 'max_stack_level': 3,\n",
       " 'model_hyperparams': {'KNeighborsUnif_BAG_L1': {'use_orig_features': True,\n",
       "   'max_base_models': 25,\n",
       "   'max_base_models_per_type': 5,\n",
       "   'save_bag_folds': True,\n",
       "   'use_child_oof': True},\n",
       "  'KNeighborsDist_BAG_L1': {'use_orig_features': True,\n",
       "   'max_base_models': 25,\n",
       "   'max_base_models_per_type': 5,\n",
       "   'save_bag_folds': True,\n",
       "   'use_child_oof': True},\n",
       "  'LightGBMXT_BAG_L1': {'use_orig_features': True,\n",
       "   'max_base_models': 25,\n",
       "   'max_base_models_per_type': 5,\n",
       "   'save_bag_folds': True},\n",
       "  'LightGBM_BAG_L1': {'use_orig_features': True,\n",
       "   'max_base_models': 25,\n",
       "   'max_base_models_per_type': 5,\n",
       "   'save_bag_folds': True},\n",
       "  'RandomForestMSE_BAG_L1': {'use_orig_features': True,\n",
       "   'max_base_models': 25,\n",
       "   'max_base_models_per_type': 5,\n",
       "   'save_bag_folds': True,\n",
       "   'use_child_oof': True},\n",
       "  'CatBoost_BAG_L1': {'use_orig_features': True,\n",
       "   'max_base_models': 25,\n",
       "   'max_base_models_per_type': 5,\n",
       "   'save_bag_folds': True},\n",
       "  'ExtraTreesMSE_BAG_L1': {'use_orig_features': True,\n",
       "   'max_base_models': 25,\n",
       "   'max_base_models_per_type': 5,\n",
       "   'save_bag_folds': True,\n",
       "   'use_child_oof': True},\n",
       "  'WeightedEnsemble_L2': {'use_orig_features': False,\n",
       "   'max_base_models': 25,\n",
       "   'max_base_models_per_type': 5,\n",
       "   'save_bag_folds': True},\n",
       "  'LightGBMXT_BAG_L2': {'use_orig_features': True,\n",
       "   'max_base_models': 25,\n",
       "   'max_base_models_per_type': 5,\n",
       "   'save_bag_folds': True},\n",
       "  'LightGBM_BAG_L2': {'use_orig_features': True,\n",
       "   'max_base_models': 25,\n",
       "   'max_base_models_per_type': 5,\n",
       "   'save_bag_folds': True},\n",
       "  'RandomForestMSE_BAG_L2': {'use_orig_features': True,\n",
       "   'max_base_models': 25,\n",
       "   'max_base_models_per_type': 5,\n",
       "   'save_bag_folds': True,\n",
       "   'use_child_oof': True},\n",
       "  'CatBoost_BAG_L2': {'use_orig_features': True,\n",
       "   'max_base_models': 25,\n",
       "   'max_base_models_per_type': 5,\n",
       "   'save_bag_folds': True},\n",
       "  'ExtraTreesMSE_BAG_L2': {'use_orig_features': True,\n",
       "   'max_base_models': 25,\n",
       "   'max_base_models_per_type': 5,\n",
       "   'save_bag_folds': True,\n",
       "   'use_child_oof': True},\n",
       "  'NeuralNetFastAI_BAG_L2': {'use_orig_features': True,\n",
       "   'max_base_models': 25,\n",
       "   'max_base_models_per_type': 5,\n",
       "   'save_bag_folds': True},\n",
       "  'XGBoost_BAG_L2': {'use_orig_features': True,\n",
       "   'max_base_models': 25,\n",
       "   'max_base_models_per_type': 5,\n",
       "   'save_bag_folds': True},\n",
       "  'NeuralNetTorch_BAG_L2': {'use_orig_features': True,\n",
       "   'max_base_models': 25,\n",
       "   'max_base_models_per_type': 5,\n",
       "   'save_bag_folds': True},\n",
       "  'LightGBMLarge_BAG_L2': {'use_orig_features': True,\n",
       "   'max_base_models': 25,\n",
       "   'max_base_models_per_type': 5,\n",
       "   'save_bag_folds': True},\n",
       "  'WeightedEnsemble_L3': {'use_orig_features': False,\n",
       "   'max_base_models': 25,\n",
       "   'max_base_models_per_type': 5,\n",
       "   'save_bag_folds': True}},\n",
       " 'leaderboard':                      model   score_val  pred_time_val    fit_time  \\\n",
       " 0      WeightedEnsemble_L3  -35.833622       2.580064  540.976624   \n",
       " 1     ExtraTreesMSE_BAG_L2  -36.045121       2.095387  396.778823   \n",
       " 2      WeightedEnsemble_L2  -36.087402       1.698668  393.092153   \n",
       " 3          CatBoost_BAG_L2  -36.347485       1.826319  412.707847   \n",
       " 4          LightGBM_BAG_L2  -36.498648       1.831804  406.353428   \n",
       " 5   NeuralNetFastAI_BAG_L2  -36.509514       1.903369  447.461320   \n",
       " 6   RandomForestMSE_BAG_L2  -36.812663       2.101411  399.255009   \n",
       " 7           XGBoost_BAG_L2  -36.890159       1.850529  411.605503   \n",
       " 8     LightGBMLarge_BAG_L2  -37.043021       1.846925  416.414787   \n",
       " 9        LightGBMXT_BAG_L1  -37.212274       1.015633  338.259553   \n",
       " 10       LightGBMXT_BAG_L2  -37.313058       1.848838  411.328408   \n",
       " 11   NeuralNetTorch_BAG_L2  -37.482271       1.869109  457.610073   \n",
       " 12         LightGBM_BAG_L1  -37.809907       0.168935   53.139781   \n",
       " 13    ExtraTreesMSE_BAG_L1  -41.540932       0.256228    0.555732   \n",
       " 14  RandomForestMSE_BAG_L1  -42.205093       0.257669    1.031215   \n",
       " 15         CatBoost_BAG_L1  -55.738773       0.015192    2.868159   \n",
       " 16   KNeighborsDist_BAG_L1 -119.362479       0.042021    0.006407   \n",
       " 17   KNeighborsUnif_BAG_L1 -123.917966       0.053836    0.012043   \n",
       " \n",
       "     pred_time_val_marginal  fit_time_marginal  stack_level  can_infer  \\\n",
       " 0                 0.000230           0.174571            3       True   \n",
       " 1                 0.285874           0.905934            2       True   \n",
       " 2                 0.000204           0.105872            2       True   \n",
       " 3                 0.016806          16.834958            2       True   \n",
       " 4                 0.022290          10.480539            2       True   \n",
       " 5                 0.093856          51.588431            2       True   \n",
       " 6                 0.291898           3.382119            2       True   \n",
       " 7                 0.041016          15.732613            2       True   \n",
       " 8                 0.037412          20.541898            2       True   \n",
       " 9                 1.015633         338.259553            1       True   \n",
       " 10                0.039325          15.455518            2       True   \n",
       " 11                0.059596          61.737183            2       True   \n",
       " 12                0.168935          53.139781            1       True   \n",
       " 13                0.256228           0.555732            1       True   \n",
       " 14                0.257669           1.031215            1       True   \n",
       " 15                0.015192           2.868159            1       True   \n",
       " 16                0.042021           0.006407            1       True   \n",
       " 17                0.053836           0.012043            1       True   \n",
       " \n",
       "     fit_order  \n",
       " 0          18  \n",
       " 1          13  \n",
       " 2           8  \n",
       " 3          12  \n",
       " 4          10  \n",
       " 5          14  \n",
       " 6          11  \n",
       " 7          15  \n",
       " 8          17  \n",
       " 9           3  \n",
       " 10          9  \n",
       " 11         16  \n",
       " 12          4  \n",
       " 13          7  \n",
       " 14          5  \n",
       " 15          6  \n",
       " 16          2  \n",
       " 17          1  }"
      ]
     },
     "execution_count": 36,
     "metadata": {},
     "output_type": "execute_result"
    }
   ],
   "source": [
    "predictor_new_features.fit_summary()"
   ]
  },
  {
   "cell_type": "code",
   "execution_count": 35,
   "metadata": {
    "collapsed": true,
    "jupyter": {
     "outputs_hidden": true
    },
    "tags": []
   },
   "outputs": [
    {
     "name": "stderr",
     "output_type": "stream",
     "text": [
      "Computing feature importance via permutation shuffling for 12 features using 5000 rows with 5 shuffle sets...\n",
      "[W ParallelNative.cpp:229] Warning: Cannot set number of intraop threads after parallel work has started or after set_num_threads call when using native parallel backend (function set_num_threads)\n",
      "[W ParallelNative.cpp:229] Warning: Cannot set number of intraop threads after parallel work has started or after set_num_threads call when using native parallel backend (function set_num_threads)\n",
      "[W ParallelNative.cpp:229] Warning: Cannot set number of intraop threads after parallel work has started or after set_num_threads call when using native parallel backend (function set_num_threads)\n",
      "[W ParallelNative.cpp:229] Warning: Cannot set number of intraop threads after parallel work has started or after set_num_threads call when using native parallel backend (function set_num_threads)\n",
      "[W ParallelNative.cpp:229] Warning: Cannot set number of intraop threads after parallel work has started or after set_num_threads call when using native parallel backend (function set_num_threads)\n",
      "[W ParallelNative.cpp:229] Warning: Cannot set number of intraop threads after parallel work has started or after set_num_threads call when using native parallel backend (function set_num_threads)\n",
      "[W ParallelNative.cpp:229] Warning: Cannot set number of intraop threads after parallel work has started or after set_num_threads call when using native parallel backend (function set_num_threads)\n",
      "[W ParallelNative.cpp:229] Warning: Cannot set number of intraop threads after parallel work has started or after set_num_threads call when using native parallel backend (function set_num_threads)\n",
      "\t303.43s\t= Expected runtime (60.69s per shuffle set)\n",
      "[W ParallelNative.cpp:229] Warning: Cannot set number of intraop threads after parallel work has started or after set_num_threads call when using native parallel backend (function set_num_threads)\n",
      "[W ParallelNative.cpp:229] Warning: Cannot set number of intraop threads after parallel work has started or after set_num_threads call when using native parallel backend (function set_num_threads)\n",
      "[W ParallelNative.cpp:229] Warning: Cannot set number of intraop threads after parallel work has started or after set_num_threads call when using native parallel backend (function set_num_threads)\n",
      "[W ParallelNative.cpp:229] Warning: Cannot set number of intraop threads after parallel work has started or after set_num_threads call when using native parallel backend (function set_num_threads)\n",
      "[W ParallelNative.cpp:229] Warning: Cannot set number of intraop threads after parallel work has started or after set_num_threads call when using native parallel backend (function set_num_threads)\n",
      "[W ParallelNative.cpp:229] Warning: Cannot set number of intraop threads after parallel work has started or after set_num_threads call when using native parallel backend (function set_num_threads)\n",
      "[W ParallelNative.cpp:229] Warning: Cannot set number of intraop threads after parallel work has started or after set_num_threads call when using native parallel backend (function set_num_threads)\n",
      "[W ParallelNative.cpp:229] Warning: Cannot set number of intraop threads after parallel work has started or after set_num_threads call when using native parallel backend (function set_num_threads)\n",
      "[W ParallelNative.cpp:229] Warning: Cannot set number of intraop threads after parallel work has started or after set_num_threads call when using native parallel backend (function set_num_threads)\n",
      "[W ParallelNative.cpp:229] Warning: Cannot set number of intraop threads after parallel work has started or after set_num_threads call when using native parallel backend (function set_num_threads)\n",
      "[W ParallelNative.cpp:229] Warning: Cannot set number of intraop threads after parallel work has started or after set_num_threads call when using native parallel backend (function set_num_threads)\n",
      "[W ParallelNative.cpp:229] Warning: Cannot set number of intraop threads after parallel work has started or after set_num_threads call when using native parallel backend (function set_num_threads)\n",
      "[W ParallelNative.cpp:229] Warning: Cannot set number of intraop threads after parallel work has started or after set_num_threads call when using native parallel backend (function set_num_threads)\n",
      "[W ParallelNative.cpp:229] Warning: Cannot set number of intraop threads after parallel work has started or after set_num_threads call when using native parallel backend (function set_num_threads)\n",
      "[W ParallelNative.cpp:229] Warning: Cannot set number of intraop threads after parallel work has started or after set_num_threads call when using native parallel backend (function set_num_threads)\n",
      "[W ParallelNative.cpp:229] Warning: Cannot set number of intraop threads after parallel work has started or after set_num_threads call when using native parallel backend (function set_num_threads)\n",
      "[W ParallelNative.cpp:229] Warning: Cannot set number of intraop threads after parallel work has started or after set_num_threads call when using native parallel backend (function set_num_threads)\n",
      "[W ParallelNative.cpp:229] Warning: Cannot set number of intraop threads after parallel work has started or after set_num_threads call when using native parallel backend (function set_num_threads)\n",
      "[W ParallelNative.cpp:229] Warning: Cannot set number of intraop threads after parallel work has started or after set_num_threads call when using native parallel backend (function set_num_threads)\n",
      "[W ParallelNative.cpp:229] Warning: Cannot set number of intraop threads after parallel work has started or after set_num_threads call when using native parallel backend (function set_num_threads)\n",
      "[W ParallelNative.cpp:229] Warning: Cannot set number of intraop threads after parallel work has started or after set_num_threads call when using native parallel backend (function set_num_threads)\n",
      "[W ParallelNative.cpp:229] Warning: Cannot set number of intraop threads after parallel work has started or after set_num_threads call when using native parallel backend (function set_num_threads)\n",
      "[W ParallelNative.cpp:229] Warning: Cannot set number of intraop threads after parallel work has started or after set_num_threads call when using native parallel backend (function set_num_threads)\n",
      "[W ParallelNative.cpp:229] Warning: Cannot set number of intraop threads after parallel work has started or after set_num_threads call when using native parallel backend (function set_num_threads)\n",
      "[W ParallelNative.cpp:229] Warning: Cannot set number of intraop threads after parallel work has started or after set_num_threads call when using native parallel backend (function set_num_threads)\n",
      "[W ParallelNative.cpp:229] Warning: Cannot set number of intraop threads after parallel work has started or after set_num_threads call when using native parallel backend (function set_num_threads)\n",
      "[W ParallelNative.cpp:229] Warning: Cannot set number of intraop threads after parallel work has started or after set_num_threads call when using native parallel backend (function set_num_threads)\n",
      "[W ParallelNative.cpp:229] Warning: Cannot set number of intraop threads after parallel work has started or after set_num_threads call when using native parallel backend (function set_num_threads)\n",
      "[W ParallelNative.cpp:229] Warning: Cannot set number of intraop threads after parallel work has started or after set_num_threads call when using native parallel backend (function set_num_threads)\n",
      "[W ParallelNative.cpp:229] Warning: Cannot set number of intraop threads after parallel work has started or after set_num_threads call when using native parallel backend (function set_num_threads)\n",
      "[W ParallelNative.cpp:229] Warning: Cannot set number of intraop threads after parallel work has started or after set_num_threads call when using native parallel backend (function set_num_threads)\n",
      "[W ParallelNative.cpp:229] Warning: Cannot set number of intraop threads after parallel work has started or after set_num_threads call when using native parallel backend (function set_num_threads)\n",
      "[W ParallelNative.cpp:229] Warning: Cannot set number of intraop threads after parallel work has started or after set_num_threads call when using native parallel backend (function set_num_threads)\n",
      "[W ParallelNative.cpp:229] Warning: Cannot set number of intraop threads after parallel work has started or after set_num_threads call when using native parallel backend (function set_num_threads)\n",
      "[W ParallelNative.cpp:229] Warning: Cannot set number of intraop threads after parallel work has started or after set_num_threads call when using native parallel backend (function set_num_threads)\n",
      "[W ParallelNative.cpp:229] Warning: Cannot set number of intraop threads after parallel work has started or after set_num_threads call when using native parallel backend (function set_num_threads)\n",
      "[W ParallelNative.cpp:229] Warning: Cannot set number of intraop threads after parallel work has started or after set_num_threads call when using native parallel backend (function set_num_threads)\n",
      "[W ParallelNative.cpp:229] Warning: Cannot set number of intraop threads after parallel work has started or after set_num_threads call when using native parallel backend (function set_num_threads)\n",
      "[W ParallelNative.cpp:229] Warning: Cannot set number of intraop threads after parallel work has started or after set_num_threads call when using native parallel backend (function set_num_threads)\n",
      "[W ParallelNative.cpp:229] Warning: Cannot set number of intraop threads after parallel work has started or after set_num_threads call when using native parallel backend (function set_num_threads)\n",
      "[W ParallelNative.cpp:229] Warning: Cannot set number of intraop threads after parallel work has started or after set_num_threads call when using native parallel backend (function set_num_threads)\n",
      "[W ParallelNative.cpp:229] Warning: Cannot set number of intraop threads after parallel work has started or after set_num_threads call when using native parallel backend (function set_num_threads)\n",
      "[W ParallelNative.cpp:229] Warning: Cannot set number of intraop threads after parallel work has started or after set_num_threads call when using native parallel backend (function set_num_threads)\n",
      "[W ParallelNative.cpp:229] Warning: Cannot set number of intraop threads after parallel work has started or after set_num_threads call when using native parallel backend (function set_num_threads)\n",
      "[W ParallelNative.cpp:229] Warning: Cannot set number of intraop threads after parallel work has started or after set_num_threads call when using native parallel backend (function set_num_threads)\n",
      "[W ParallelNative.cpp:229] Warning: Cannot set number of intraop threads after parallel work has started or after set_num_threads call when using native parallel backend (function set_num_threads)\n",
      "[W ParallelNative.cpp:229] Warning: Cannot set number of intraop threads after parallel work has started or after set_num_threads call when using native parallel backend (function set_num_threads)\n",
      "[W ParallelNative.cpp:229] Warning: Cannot set number of intraop threads after parallel work has started or after set_num_threads call when using native parallel backend (function set_num_threads)\n",
      "[W ParallelNative.cpp:229] Warning: Cannot set number of intraop threads after parallel work has started or after set_num_threads call when using native parallel backend (function set_num_threads)\n",
      "[W ParallelNative.cpp:229] Warning: Cannot set number of intraop threads after parallel work has started or after set_num_threads call when using native parallel backend (function set_num_threads)\n",
      "[W ParallelNative.cpp:229] Warning: Cannot set number of intraop threads after parallel work has started or after set_num_threads call when using native parallel backend (function set_num_threads)\n",
      "[W ParallelNative.cpp:229] Warning: Cannot set number of intraop threads after parallel work has started or after set_num_threads call when using native parallel backend (function set_num_threads)\n",
      "[W ParallelNative.cpp:229] Warning: Cannot set number of intraop threads after parallel work has started or after set_num_threads call when using native parallel backend (function set_num_threads)\n",
      "[W ParallelNative.cpp:229] Warning: Cannot set number of intraop threads after parallel work has started or after set_num_threads call when using native parallel backend (function set_num_threads)\n",
      "[W ParallelNative.cpp:229] Warning: Cannot set number of intraop threads after parallel work has started or after set_num_threads call when using native parallel backend (function set_num_threads)\n",
      "[W ParallelNative.cpp:229] Warning: Cannot set number of intraop threads after parallel work has started or after set_num_threads call when using native parallel backend (function set_num_threads)\n",
      "[W ParallelNative.cpp:229] Warning: Cannot set number of intraop threads after parallel work has started or after set_num_threads call when using native parallel backend (function set_num_threads)\n",
      "[W ParallelNative.cpp:229] Warning: Cannot set number of intraop threads after parallel work has started or after set_num_threads call when using native parallel backend (function set_num_threads)\n",
      "[W ParallelNative.cpp:229] Warning: Cannot set number of intraop threads after parallel work has started or after set_num_threads call when using native parallel backend (function set_num_threads)\n",
      "[W ParallelNative.cpp:229] Warning: Cannot set number of intraop threads after parallel work has started or after set_num_threads call when using native parallel backend (function set_num_threads)\n",
      "[W ParallelNative.cpp:229] Warning: Cannot set number of intraop threads after parallel work has started or after set_num_threads call when using native parallel backend (function set_num_threads)\n",
      "[W ParallelNative.cpp:229] Warning: Cannot set number of intraop threads after parallel work has started or after set_num_threads call when using native parallel backend (function set_num_threads)\n",
      "[W ParallelNative.cpp:229] Warning: Cannot set number of intraop threads after parallel work has started or after set_num_threads call when using native parallel backend (function set_num_threads)\n",
      "[W ParallelNative.cpp:229] Warning: Cannot set number of intraop threads after parallel work has started or after set_num_threads call when using native parallel backend (function set_num_threads)\n",
      "[W ParallelNative.cpp:229] Warning: Cannot set number of intraop threads after parallel work has started or after set_num_threads call when using native parallel backend (function set_num_threads)\n",
      "[W ParallelNative.cpp:229] Warning: Cannot set number of intraop threads after parallel work has started or after set_num_threads call when using native parallel backend (function set_num_threads)\n",
      "[W ParallelNative.cpp:229] Warning: Cannot set number of intraop threads after parallel work has started or after set_num_threads call when using native parallel backend (function set_num_threads)\n",
      "[W ParallelNative.cpp:229] Warning: Cannot set number of intraop threads after parallel work has started or after set_num_threads call when using native parallel backend (function set_num_threads)\n",
      "[W ParallelNative.cpp:229] Warning: Cannot set number of intraop threads after parallel work has started or after set_num_threads call when using native parallel backend (function set_num_threads)\n",
      "[W ParallelNative.cpp:229] Warning: Cannot set number of intraop threads after parallel work has started or after set_num_threads call when using native parallel backend (function set_num_threads)\n",
      "[W ParallelNative.cpp:229] Warning: Cannot set number of intraop threads after parallel work has started or after set_num_threads call when using native parallel backend (function set_num_threads)\n",
      "[W ParallelNative.cpp:229] Warning: Cannot set number of intraop threads after parallel work has started or after set_num_threads call when using native parallel backend (function set_num_threads)\n",
      "\t249.3s\t= Actual runtime (Completed 5 of 5 shuffle sets)\n"
     ]
    },
    {
     "data": {
      "text/html": [
       "<div>\n",
       "<style scoped>\n",
       "    .dataframe tbody tr th:only-of-type {\n",
       "        vertical-align: middle;\n",
       "    }\n",
       "\n",
       "    .dataframe tbody tr th {\n",
       "        vertical-align: top;\n",
       "    }\n",
       "\n",
       "    .dataframe thead th {\n",
       "        text-align: right;\n",
       "    }\n",
       "</style>\n",
       "<table border=\"1\" class=\"dataframe\">\n",
       "  <thead>\n",
       "    <tr style=\"text-align: right;\">\n",
       "      <th></th>\n",
       "      <th>importance</th>\n",
       "      <th>stddev</th>\n",
       "      <th>p_value</th>\n",
       "      <th>n</th>\n",
       "      <th>p99_high</th>\n",
       "      <th>p99_low</th>\n",
       "    </tr>\n",
       "  </thead>\n",
       "  <tbody>\n",
       "    <tr>\n",
       "      <th>hour</th>\n",
       "      <td>124.754601</td>\n",
       "      <td>1.691810</td>\n",
       "      <td>4.057467e-09</td>\n",
       "      <td>5</td>\n",
       "      <td>128.238062</td>\n",
       "      <td>121.271141</td>\n",
       "    </tr>\n",
       "    <tr>\n",
       "      <th>datetime</th>\n",
       "      <td>106.034625</td>\n",
       "      <td>1.796926</td>\n",
       "      <td>9.893382e-09</td>\n",
       "      <td>5</td>\n",
       "      <td>109.734520</td>\n",
       "      <td>102.334729</td>\n",
       "    </tr>\n",
       "    <tr>\n",
       "      <th>workingday</th>\n",
       "      <td>27.693126</td>\n",
       "      <td>0.736189</td>\n",
       "      <td>5.987441e-08</td>\n",
       "      <td>5</td>\n",
       "      <td>29.208949</td>\n",
       "      <td>26.177303</td>\n",
       "    </tr>\n",
       "    <tr>\n",
       "      <th>humidity</th>\n",
       "      <td>9.152617</td>\n",
       "      <td>0.517346</td>\n",
       "      <td>1.219765e-06</td>\n",
       "      <td>5</td>\n",
       "      <td>10.217839</td>\n",
       "      <td>8.087394</td>\n",
       "    </tr>\n",
       "    <tr>\n",
       "      <th>temp</th>\n",
       "      <td>7.782327</td>\n",
       "      <td>0.543858</td>\n",
       "      <td>2.843553e-06</td>\n",
       "      <td>5</td>\n",
       "      <td>8.902137</td>\n",
       "      <td>6.662517</td>\n",
       "    </tr>\n",
       "    <tr>\n",
       "      <th>atemp</th>\n",
       "      <td>4.773322</td>\n",
       "      <td>0.634827</td>\n",
       "      <td>3.667303e-05</td>\n",
       "      <td>5</td>\n",
       "      <td>6.080440</td>\n",
       "      <td>3.466204</td>\n",
       "    </tr>\n",
       "    <tr>\n",
       "      <th>weather</th>\n",
       "      <td>3.997250</td>\n",
       "      <td>0.627915</td>\n",
       "      <td>7.072671e-05</td>\n",
       "      <td>5</td>\n",
       "      <td>5.290136</td>\n",
       "      <td>2.704365</td>\n",
       "    </tr>\n",
       "    <tr>\n",
       "      <th>day</th>\n",
       "      <td>1.029900</td>\n",
       "      <td>0.105064</td>\n",
       "      <td>1.281773e-05</td>\n",
       "      <td>5</td>\n",
       "      <td>1.246228</td>\n",
       "      <td>0.813572</td>\n",
       "    </tr>\n",
       "    <tr>\n",
       "      <th>windspeed</th>\n",
       "      <td>0.537953</td>\n",
       "      <td>0.124654</td>\n",
       "      <td>3.225203e-04</td>\n",
       "      <td>5</td>\n",
       "      <td>0.794618</td>\n",
       "      <td>0.281289</td>\n",
       "    </tr>\n",
       "    <tr>\n",
       "      <th>month</th>\n",
       "      <td>0.494616</td>\n",
       "      <td>0.174684</td>\n",
       "      <td>1.592718e-03</td>\n",
       "      <td>5</td>\n",
       "      <td>0.854294</td>\n",
       "      <td>0.134939</td>\n",
       "    </tr>\n",
       "    <tr>\n",
       "      <th>season</th>\n",
       "      <td>0.341814</td>\n",
       "      <td>0.076468</td>\n",
       "      <td>2.815130e-04</td>\n",
       "      <td>5</td>\n",
       "      <td>0.499262</td>\n",
       "      <td>0.184366</td>\n",
       "    </tr>\n",
       "    <tr>\n",
       "      <th>holiday</th>\n",
       "      <td>0.309870</td>\n",
       "      <td>0.104051</td>\n",
       "      <td>1.320753e-03</td>\n",
       "      <td>5</td>\n",
       "      <td>0.524112</td>\n",
       "      <td>0.095628</td>\n",
       "    </tr>\n",
       "  </tbody>\n",
       "</table>\n",
       "</div>"
      ],
      "text/plain": [
       "            importance    stddev       p_value  n    p99_high     p99_low\n",
       "hour        124.754601  1.691810  4.057467e-09  5  128.238062  121.271141\n",
       "datetime    106.034625  1.796926  9.893382e-09  5  109.734520  102.334729\n",
       "workingday   27.693126  0.736189  5.987441e-08  5   29.208949   26.177303\n",
       "humidity      9.152617  0.517346  1.219765e-06  5   10.217839    8.087394\n",
       "temp          7.782327  0.543858  2.843553e-06  5    8.902137    6.662517\n",
       "atemp         4.773322  0.634827  3.667303e-05  5    6.080440    3.466204\n",
       "weather       3.997250  0.627915  7.072671e-05  5    5.290136    2.704365\n",
       "day           1.029900  0.105064  1.281773e-05  5    1.246228    0.813572\n",
       "windspeed     0.537953  0.124654  3.225203e-04  5    0.794618    0.281289\n",
       "month         0.494616  0.174684  1.592718e-03  5    0.854294    0.134939\n",
       "season        0.341814  0.076468  2.815130e-04  5    0.499262    0.184366\n",
       "holiday       0.309870  0.104051  1.320753e-03  5    0.524112    0.095628"
      ]
     },
     "execution_count": 35,
     "metadata": {},
     "output_type": "execute_result"
    }
   ],
   "source": [
    "predictor_new_features.feature_importance(data=train)"
   ]
  },
  {
   "cell_type": "code",
   "execution_count": 37,
   "metadata": {
    "collapsed": true,
    "jupyter": {
     "outputs_hidden": true
    },
    "tags": []
   },
   "outputs": [
    {
     "data": {
      "text/plain": [
       "<Axes: xlabel='model'>"
      ]
     },
     "execution_count": 37,
     "metadata": {},
     "output_type": "execute_result"
    },
    {
     "data": {
      "image/png": "[encoded data removed]",
      "text/plain": [
       "<Figure size 640x480 with 1 Axes>"
      ]
     },
     "metadata": {},
     "output_type": "display_data"
    }
   ],
   "source": [
    "predictor_new_features.leaderboard(silent=True).plot(kind=\"bar\", x=\"model\", y=\"score_val\")"
   ]
  },
  {
   "cell_type": "code",
   "execution_count": 38,
   "metadata": {
    "tags": []
   },
   "outputs": [
    {
     "data": {
      "text/plain": [
       "-35.833622387558044"
      ]
     },
     "execution_count": 38,
     "metadata": {},
     "output_type": "execute_result"
    }
   ],
   "source": [
    "new_feature_best_model_score = predictor_new_features.leaderboard(silent=True).score_val[0]\n",
    "new_feature_best_model_score"
   ]
  },
  {
   "cell_type": "code",
   "execution_count": 39,
   "metadata": {
    "tags": []
   },
   "outputs": [
    {
     "data": {
      "text/plain": [
       "'WeightedEnsemble_L3'"
      ]
     },
     "execution_count": 39,
     "metadata": {},
     "output_type": "execute_result"
    }
   ],
   "source": [
    "new_feature_best_model = predictor_new_features.leaderboard(silent=True).model[0]\n",
    "new_feature_best_model"
   ]
  },
  {
   "cell_type": "code",
   "execution_count": 40,
   "metadata": {
    "collapsed": true,
    "jupyter": {
     "outputs_hidden": true
    },
    "tags": []
   },
   "outputs": [
    {
     "data": {
      "text/plain": [
       "0    13.503189\n",
       "1     5.495862\n",
       "2     4.497952\n",
       "3     4.453490\n",
       "4     3.808284\n",
       "Name: count, dtype: float32"
      ]
     },
     "execution_count": 40,
     "metadata": {},
     "output_type": "execute_result"
    }
   ],
   "source": [
    "predictions_new_features = predictor_new_features.predict(test_new_feat)\n",
    "predictions_new_features.head()"
   ]
  },
  {
   "cell_type": "code",
   "execution_count": null,
   "metadata": {
    "collapsed": true,
    "jupyter": {
     "outputs_hidden": true
    },
    "tags": []
   },
   "outputs": [
    {
     "data": {
      "text/plain": [
       "count    6493.000000\n",
       "mean      177.780884\n",
       "std       160.791718\n",
       "min         1.615402\n",
       "25%        46.582214\n",
       "50%       139.934586\n",
       "75%       259.638916\n",
       "max       878.095520\n",
       "Name: count, dtype: float64"
      ]
     },
     "execution_count": 41,
     "metadata": {},
     "output_type": "execute_result"
    }
   ],
   "source": [
    "predictions_new_features.describe()"
   ]
  },
  {
   "cell_type": "code",
   "execution_count": 42,
   "metadata": {
    "tags": []
   },
   "outputs": [
    {
     "data": {
      "text/plain": [
       "0"
      ]
     },
     "execution_count": 42,
     "metadata": {},
     "output_type": "execute_result"
    }
   ],
   "source": [
    "predictions_new_features[predictions_new_features < 0].count()"
   ]
  },
  {
   "cell_type": "code",
   "execution_count": 43,
   "metadata": {
    "tags": []
   },
   "outputs": [],
   "source": [
    "predictions_new_features[predictions_new_features < 0] = 0"
   ]
  },
  {
   "cell_type": "code",
   "execution_count": 44,
   "metadata": {
    "tags": []
   },
   "outputs": [],
   "source": [
    "submission_new_features = pd.read_csv('/Users/christina/aws_ml_nano/cd0385-project-starter/project/bike-sharing-demand/sampleSubmission.csv', parse_dates=['datetime'])\n",
    "submission_new_features[\"count\"] = predictions_new_features\n",
    "submission_new_features.to_csv(\"submission_new_features.csv\", index=False)"
   ]
  },
  {
   "cell_type": "code",
   "execution_count": 45,
   "metadata": {
    "tags": []
   },
   "outputs": [
    {
     "name": "stdout",
     "output_type": "stream",
     "text": [
      "100%|█████████████████████████████████████████| 188k/188k [00:01<00:00, 166kB/s]\n",
      "Successfully submitted to Bike Sharing Demand"
     ]
    }
   ],
   "source": [
    "!kaggle competitions submit -c bike-sharing-demand -f submission_new_features.csv -m \"new features\""
   ]
  },
  {
   "cell_type": "code",
   "execution_count": 46,
   "metadata": {
    "tags": []
   },
   "outputs": [
    {
     "name": "stdout",
     "output_type": "stream",
     "text": [
      "fileName                     date                 description                        status    publicScore  privateScore  \n",
      "---------------------------  -------------------  ---------------------------------  --------  -----------  ------------  \n",
      "submission_new_features.csv  2023-03-15 20:41:00  new features                       complete  0.49843      0.49843       \n",
      "submission.csv               2023-03-15 20:07:22  first raw submission               complete  1.82268      1.82268       \n",
      "submission_new_hpo.csv       2023-03-08 00:18:14  new features with hyperparameters  complete  0.57948      0.57948       \n",
      "submission_new_features.csv  2023-03-08 00:16:26  new features                       complete  0.49657      0.49657       \n"
     ]
    }
   ],
   "source": [
    "!kaggle competitions submissions -c bike-sharing-demand | tail -n +1 | head -n 6"
   ]
  },
  {
   "cell_type": "markdown",
   "metadata": {},
   "source": [
    "#### New Score of `0.49462`"
   ]
  },
  {
   "cell_type": "code",
   "execution_count": 67,
   "metadata": {
    "tags": []
   },
   "outputs": [],
   "source": [
    "# new hpo\n",
    "import autogluon.core as ag\n",
    "\n",
    "nn_options = {\n",
    "    \"num_epochs\": 10,\n",
    "    \"learning_rate\": ag.space.Real(1e-5,1e+1, default=5e-4, log=True),\n",
    "    \"activation\": ag.space.Categorical(\"relu\", \"softrelu\",  \"leakyrelu\"),\n",
    "    \"layers\": ag.space.Categorical([100], [1000], [200, 100], [300, 200, 100]),\n",
    "    \"dropout_prob\": ag.space.Real(0.0, 0.5, default=0.1),\n",
    "}\n",
    "\n",
    "gbm_options = {\n",
    "    \"num_boost_round\": 100,\n",
    "    \"num_leaves\": ag.space.Int(lower=26, upper=66, default=36),\n",
    "}\n",
    "\n",
    "xgboost_options = {\n",
    "    \"eta\": ag.space.Real(1e-5, 1e+1, default=1e-1),\n",
    "    \"max_depth\": ag.space.Int(2, 10, 6),\n",
    "    \"sampling_method\": ag.space.Categorical(\"uniform\", \"gradient_based\")\n",
    "}\n",
    "\n",
    "forest_options = {\n",
    "    \"max_depth\": ag.space.Int(10, 100, None),\n",
    "    \"max_features\": ag.space.Categorical(\"log2\", \"sqrt\"),\n",
    "    \"min_samples_leaf\": ag.space.Int(1, 5, 1),\n",
    "    \"min_samples_split\": ag.space.Int(2, 10, 2),\n",
    "    \"n_estimators\": ag.space.Int(10, 1000, 100),\n",
    "}\n",
    "\n",
    "hyperparameters = {\n",
    "                   \"GBM\": gbm_options,\n",
    "                   \"NN\": nn_options,\n",
    "                   \"XGB\": xgboost_options,\n",
    "                   \"RF\": forest_options,\n",
    "                  }\n",
    "\n",
    "hyperparameter_tune_kwargs = {\n",
    "    \"num_trials\": 5,\n",
    "    \"scheduler\" : \"local\",\n",
    "    \"searcher\": \"auto\",\n",
    "}"
   ]
  },
  {
   "cell_type": "code",
   "execution_count": 47,
   "metadata": {
    "tags": []
   },
   "outputs": [],
   "source": [
    "# new hpo 2\n",
    "import autogluon.core as ag\n",
    "\n",
    "nn_options = {\n",
    "    \"num_epochs\": 10,\n",
    "    \"learning_rate\": ag.space.Real(1e-5, 10, default=5e-4, log=True),\n",
    "    \"activation\": ag.space.Categorical(\"relu\", \"softrelu\",  \"leakyrelu\"),\n",
    "    \"layers\": ag.space.Categorical([100], [1000], [200, 100], [300, 200, 100]),\n",
    "    \"dropout_prob\": ag.space.Real(0.0, 0.5, default=0.1),\n",
    "}\n",
    "\n",
    "gbm_options = {\n",
    "    \"num_boost_round\": 100,\n",
    "    \"num_leaves\": ag.space.Int(lower=26, upper=66, default=36),\n",
    "}\n",
    "\n",
    "hyperparameters2 = {\n",
    "                   \"GBM\": gbm_options,\n",
    "                   \"NN\": nn_options,\n",
    "                  }\n",
    "\n",
    "hyperparameter_tune_kwargs = {\n",
    "    \"num_trials\": 5,\n",
    "    \"scheduler\" : \"local\",\n",
    "    \"searcher\": \"auto\",\n",
    "}"
   ]
  },
  {
   "cell_type": "code",
   "execution_count": 66,
   "metadata": {
    "tags": []
   },
   "outputs": [],
   "source": [
    "# new hpo 3\n",
    "\n",
    "nn_options = {  # specifies non-default hyperparameter values for neural network models\n",
    "    'num_epochs': 10,  # number of training epochs (controls training time of NN models)\n",
    "    'learning_rate': ag.space.Real(1e-4, 1e-2, default=5e-4, log=True),  # learning rate used in training (real-valued hyperparameter searched on log-scale)\n",
    "    'activation': ag.space.Categorical('relu', 'softrelu', 'tanh'),  # activation function used in NN (categorical hyperparameter, default = first entry)\n",
    "    'dropout_prob': ag.space.Real(0.0, 0.5, default=0.1),  # dropout probability (real-valued hyperparameter)\n",
    "}\n",
    "\n",
    "gbm_options = {  # specifies non-default hyperparameter values for lightGBM gradient boosted trees\n",
    "    'num_boost_round': 100,  # number of boosting rounds (controls training time of GBM models)\n",
    "    'num_leaves': ag.space.Int(lower=40, upper=66, default=50),  # number of leaves in trees (integer hyperparameter)\n",
    "}\n",
    "\n",
    "cat_options = {\n",
    "    'learning_rate': ag.space.Real(1e-4, 1e-2, default=5e-4, log=True)\n",
    "}\n",
    "\n",
    "hyperparameters3 = {  # hyperparameters of each model type\n",
    "                    'FASTAI': nn_options,\n",
    "                    'GBM': gbm_options,\n",
    "                    'CAT': cat_options,\n",
    "                    # 'XGB': ,\n",
    "                    # 'RF': \n",
    "                    # 'NN_TORCH': nn_options,  # NOTE: comment this line out if you get errors on Mac OSX\n",
    "                  }  # When these keys are missing from hyperparameters dict, no models of that type are trained\n",
    "\n",
    "hyperparameter_tune_kwargs = {\n",
    "    \"num_trials\": 5,\n",
    "    \"scheduler\" : \"local\",\n",
    "    \"searcher\": \"auto\",\n",
    "}"
   ]
  },
  {
   "cell_type": "code",
   "execution_count": 48,
   "metadata": {
    "collapsed": true,
    "jupyter": {
     "outputs_hidden": true
    },
    "tags": []
   },
   "outputs": [
    {
     "name": "stderr",
     "output_type": "stream",
     "text": [
      "No path specified. Models will be saved in: \"AutogluonModels/ag-20230315_204518/\"\n",
      "Warning: hyperparameter tuning is currently experimental and may cause the process to hang.\n",
      "Beginning AutoGluon training ... Time limit = 1200s\n",
      "AutoGluon will save models to \"AutogluonModels/ag-20230315_204518/\"\n",
      "AutoGluon Version:  0.7.0\n",
      "Python Version:     3.8.16\n",
      "Operating System:   Darwin\n",
      "Platform Machine:   arm64\n",
      "Platform Version:   Darwin Kernel Version 22.2.0: Fri Nov 11 02:03:51 PST 2022; root:xnu-8792.61.2~4/RELEASE_ARM64_T6000\n",
      "Train Data Rows:    10886\n",
      "Train Data Columns: 14\n",
      "Label Column: count\n",
      "Preprocessing data ...\n",
      "AutoGluon infers your prediction problem is: 'regression' (because dtype of label-column == int and many unique label-values observed).\n",
      "\tLabel info (max, min, mean, stddev): (977, 1, 191.57413, 181.14445)\n",
      "\tIf 'regression' is not the correct problem_type, please manually specify the problem_type parameter during predictor init (You may specify problem_type as one of: ['binary', 'multiclass', 'regression'])\n",
      "Using Feature Generators to preprocess the data ...\n",
      "Dropping user-specified ignored columns: ['casual', 'registered']\n",
      "Fitting AutoMLPipelineFeatureGenerator...\n",
      "\tAvailable Memory:                    6939.6 MB\n",
      "\tTrain Data (Original)  Memory Usage: 0.66 MB (0.0% of available memory)\n",
      "\tInferring data type of each feature based on column values. Set feature_metadata_in to manually specify special dtypes of the features.\n",
      "\tStage 1 Generators:\n",
      "\t\tFitting AsTypeFeatureGenerator...\n",
      "\t\t\tNote: Converting 3 features to boolean dtype as they only contain 2 unique values.\n",
      "\tStage 2 Generators:\n",
      "\t\tFitting FillNaFeatureGenerator...\n",
      "\tStage 3 Generators:\n",
      "\t\tFitting IdentityFeatureGenerator...\n",
      "\t\tFitting CategoryFeatureGenerator...\n",
      "\t\t\tFitting CategoryMemoryMinimizeFeatureGenerator...\n",
      "\tStage 4 Generators:\n",
      "\t\tFitting DropUniqueFeatureGenerator...\n",
      "\tTypes of features in original data (raw dtype, special dtypes):\n",
      "\t\t('category', []) : 5 | ['season', 'holiday', 'workingday', 'weather', 'year']\n",
      "\t\t('float', [])    : 3 | ['temp', 'atemp', 'windspeed']\n",
      "\t\t('int', [])      : 4 | ['humidity', 'datetime.month', 'datetime.day', 'datetime.hour']\n",
      "\tTypes of features in processed data (raw dtype, special dtypes):\n",
      "\t\t('category', [])  : 2 | ['season', 'weather']\n",
      "\t\t('float', [])     : 3 | ['temp', 'atemp', 'windspeed']\n",
      "\t\t('int', [])       : 4 | ['humidity', 'datetime.month', 'datetime.day', 'datetime.hour']\n",
      "\t\t('int', ['bool']) : 3 | ['holiday', 'workingday', 'year']\n",
      "\t0.0s = Fit runtime\n",
      "\t12 features in original data used to generate 12 features in processed data.\n",
      "\tTrain Data (Processed) Memory Usage: 0.67 MB (0.0% of available memory)\n",
      "Data preprocessing and feature engineering runtime = 0.05s ...\n",
      "AutoGluon will gauge predictive performance using evaluation metric: 'root_mean_squared_error'\n",
      "\tThis metric's sign has been flipped to adhere to being higher_is_better. The metric score can be multiplied by -1 to get the metric value.\n",
      "\tTo change this, specify the eval_metric parameter of Predictor()\n",
      "Automatically generating train/validation split with holdout_frac=0.2, Train Rows: 8708, Val Rows: 2178\n",
      "\tWARNING: \"NN\" model has been deprecated in v0.4.0 and renamed to \"NN_MXNET\". Starting in v0.6.0, specifying \"NN\" or \"NN_MXNET\" will raise an exception. Consider instead specifying \"NN_TORCH\".\n",
      "Fitting 2 L1 models ...\n",
      "Hyperparameter tuning model: LightGBM ... Tuning model for up to 539.98s of the 1199.95s of remaining time.\n"
     ]
    },
    {
     "data": {
      "application/vnd.jupyter.widget-view+json": {
       "model_id": "839c21152a3342f8bd0d0a737588223e",
       "version_major": 2,
       "version_minor": 0
      },
      "text/plain": [
       "  0%|          | 0/5 [00:00<?, ?it/s]"
      ]
     },
     "metadata": {},
     "output_type": "display_data"
    },
    {
     "name": "stderr",
     "output_type": "stream",
     "text": [
      "Fitted model: LightGBM/T1 ...\n",
      "\t-45.4957\t = Validation score   (-root_mean_squared_error)\n",
      "\t1.25s\t = Training   runtime\n",
      "\t0.0s\t = Validation runtime\n",
      "Fitted model: LightGBM/T2 ...\n",
      "\t-44.2586\t = Validation score   (-root_mean_squared_error)\n",
      "\t0.99s\t = Training   runtime\n",
      "\t0.01s\t = Validation runtime\n",
      "Fitted model: LightGBM/T3 ...\n",
      "\t-44.156\t = Validation score   (-root_mean_squared_error)\n",
      "\t1.85s\t = Training   runtime\n",
      "\t0.01s\t = Validation runtime\n",
      "Fitted model: LightGBM/T4 ...\n",
      "\t-123.594\t = Validation score   (-root_mean_squared_error)\n",
      "\t0.95s\t = Training   runtime\n",
      "\t0.0s\t = Validation runtime\n",
      "Fitted model: LightGBM/T5 ...\n",
      "\t-48.4844\t = Validation score   (-root_mean_squared_error)\n",
      "\t1.39s\t = Training   runtime\n",
      "\t0.0s\t = Validation runtime\n",
      "Hyperparameter tuning model: NeuralNetMXNet ... Tuning model for up to 539.98s of the 1193.41s of remaining time.\n"
     ]
    },
    {
     "data": {
      "application/vnd.jupyter.widget-view+json": {
       "model_id": "7cb6efcdf1ac424f947dcc09081aed43",
       "version_major": 2,
       "version_minor": 0
      },
      "text/plain": [
       "  0%|          | 0/5 [00:00<?, ?it/s]"
      ]
     },
     "metadata": {},
     "output_type": "display_data"
    },
    {
     "name": "stderr",
     "output_type": "stream",
     "text": [
      "dlopen(/Users/christina/.pyenv/versions/3.8.16/envs/venv/lib/python3.8/site-packages/mxnet/libmxnet.so, 0x0006): tried: '/Users/christina/.pyenv/versions/3.8.16/envs/venv/lib/python3.8/site-packages/mxnet/libmxnet.so' (not a mach-o file), '/System/Volumes/Preboot/Cryptexes/OS/Users/christina/.pyenv/versions/3.8.16/envs/venv/lib/python3.8/site-packages/mxnet/libmxnet.so' (no such file), '/Users/christina/.pyenv/versions/3.8.16/envs/venv/lib/python3.8/site-packages/mxnet/libmxnet.so' (not a mach-o file)\n",
      "Traceback (most recent call last):\n",
      "  File \"/Users/christina/.pyenv/versions/3.8.16/envs/venv/lib/python3.8/site-packages/autogluon/core/models/abstract/model_trial.py\", line 43, in model_trial\n",
      "    model = fit_and_save_model(\n",
      "  File \"/Users/christina/.pyenv/versions/3.8.16/envs/venv/lib/python3.8/site-packages/autogluon/core/models/abstract/model_trial.py\", line 101, in fit_and_save_model\n",
      "    model.fit(**fit_args, time_limit=time_left)\n",
      "  File \"/Users/christina/.pyenv/versions/3.8.16/envs/venv/lib/python3.8/site-packages/autogluon/core/models/abstract/abstract_model.py\", line 703, in fit\n",
      "    out = self._fit(**kwargs)\n",
      "  File \"/Users/christina/.pyenv/versions/3.8.16/envs/venv/lib/python3.8/site-packages/autogluon/tabular/models/tabular_nn/mxnet/tabular_nn_mxnet.py\", line 135, in _fit\n",
      "    try_import_mxnet()\n",
      "  File \"/Users/christina/.pyenv/versions/3.8.16/envs/venv/lib/python3.8/site-packages/autogluon/core/utils/try_import.py\", line 38, in try_import_mxnet\n",
      "    import mxnet as mx\n",
      "  File \"/Users/christina/.pyenv/versions/3.8.16/envs/venv/lib/python3.8/site-packages/mxnet/__init__.py\", line 24, in <module>\n",
      "    from .context import Context, current_context, cpu, gpu, cpu_pinned\n",
      "  File \"/Users/christina/.pyenv/versions/3.8.16/envs/venv/lib/python3.8/site-packages/mxnet/context.py\", line 24, in <module>\n",
      "    from .base import classproperty, with_metaclass, _MXClassPropertyMetaClass\n",
      "  File \"/Users/christina/.pyenv/versions/3.8.16/envs/venv/lib/python3.8/site-packages/mxnet/base.py\", line 214, in <module>\n",
      "    _LIB = _load_lib()\n",
      "  File \"/Users/christina/.pyenv/versions/3.8.16/envs/venv/lib/python3.8/site-packages/mxnet/base.py\", line 205, in _load_lib\n",
      "    lib = ctypes.CDLL(lib_path[0], ctypes.RTLD_LOCAL)\n",
      "  File \"/Users/christina/.pyenv/versions/3.8.16/lib/python3.8/ctypes/__init__.py\", line 373, in __init__\n",
      "    self._handle = _dlopen(self._name, mode)\n",
      "OSError: dlopen(/Users/christina/.pyenv/versions/3.8.16/envs/venv/lib/python3.8/site-packages/mxnet/libmxnet.so, 0x0006): tried: '/Users/christina/.pyenv/versions/3.8.16/envs/venv/lib/python3.8/site-packages/mxnet/libmxnet.so' (not a mach-o file), '/System/Volumes/Preboot/Cryptexes/OS/Users/christina/.pyenv/versions/3.8.16/envs/venv/lib/python3.8/site-packages/mxnet/libmxnet.so' (no such file), '/Users/christina/.pyenv/versions/3.8.16/envs/venv/lib/python3.8/site-packages/mxnet/libmxnet.so' (not a mach-o file)\n",
      "dlopen(/Users/christina/.pyenv/versions/3.8.16/envs/venv/lib/python3.8/site-packages/mxnet/libmxnet.so, 0x0006): tried: '/Users/christina/.pyenv/versions/3.8.16/envs/venv/lib/python3.8/site-packages/mxnet/libmxnet.so' (not a mach-o file), '/System/Volumes/Preboot/Cryptexes/OS/Users/christina/.pyenv/versions/3.8.16/envs/venv/lib/python3.8/site-packages/mxnet/libmxnet.so' (no such file), '/Users/christina/.pyenv/versions/3.8.16/envs/venv/lib/python3.8/site-packages/mxnet/libmxnet.so' (not a mach-o file)\n",
      "Traceback (most recent call last):\n",
      "  File \"/Users/christina/.pyenv/versions/3.8.16/envs/venv/lib/python3.8/site-packages/autogluon/core/models/abstract/model_trial.py\", line 43, in model_trial\n",
      "    model = fit_and_save_model(\n",
      "  File \"/Users/christina/.pyenv/versions/3.8.16/envs/venv/lib/python3.8/site-packages/autogluon/core/models/abstract/model_trial.py\", line 101, in fit_and_save_model\n",
      "    model.fit(**fit_args, time_limit=time_left)\n",
      "  File \"/Users/christina/.pyenv/versions/3.8.16/envs/venv/lib/python3.8/site-packages/autogluon/core/models/abstract/abstract_model.py\", line 703, in fit\n",
      "    out = self._fit(**kwargs)\n",
      "  File \"/Users/christina/.pyenv/versions/3.8.16/envs/venv/lib/python3.8/site-packages/autogluon/tabular/models/tabular_nn/mxnet/tabular_nn_mxnet.py\", line 135, in _fit\n",
      "    try_import_mxnet()\n",
      "  File \"/Users/christina/.pyenv/versions/3.8.16/envs/venv/lib/python3.8/site-packages/autogluon/core/utils/try_import.py\", line 38, in try_import_mxnet\n",
      "    import mxnet as mx\n",
      "  File \"/Users/christina/.pyenv/versions/3.8.16/envs/venv/lib/python3.8/site-packages/mxnet/__init__.py\", line 24, in <module>\n",
      "    from .context import Context, current_context, cpu, gpu, cpu_pinned\n",
      "  File \"/Users/christina/.pyenv/versions/3.8.16/envs/venv/lib/python3.8/site-packages/mxnet/context.py\", line 24, in <module>\n",
      "    from .base import classproperty, with_metaclass, _MXClassPropertyMetaClass\n",
      "  File \"/Users/christina/.pyenv/versions/3.8.16/envs/venv/lib/python3.8/site-packages/mxnet/base.py\", line 214, in <module>\n",
      "    _LIB = _load_lib()\n",
      "  File \"/Users/christina/.pyenv/versions/3.8.16/envs/venv/lib/python3.8/site-packages/mxnet/base.py\", line 205, in _load_lib\n",
      "    lib = ctypes.CDLL(lib_path[0], ctypes.RTLD_LOCAL)\n",
      "  File \"/Users/christina/.pyenv/versions/3.8.16/lib/python3.8/ctypes/__init__.py\", line 373, in __init__\n",
      "    self._handle = _dlopen(self._name, mode)\n",
      "OSError: dlopen(/Users/christina/.pyenv/versions/3.8.16/envs/venv/lib/python3.8/site-packages/mxnet/libmxnet.so, 0x0006): tried: '/Users/christina/.pyenv/versions/3.8.16/envs/venv/lib/python3.8/site-packages/mxnet/libmxnet.so' (not a mach-o file), '/System/Volumes/Preboot/Cryptexes/OS/Users/christina/.pyenv/versions/3.8.16/envs/venv/lib/python3.8/site-packages/mxnet/libmxnet.so' (no such file), '/Users/christina/.pyenv/versions/3.8.16/envs/venv/lib/python3.8/site-packages/mxnet/libmxnet.so' (not a mach-o file)\n",
      "dlopen(/Users/christina/.pyenv/versions/3.8.16/envs/venv/lib/python3.8/site-packages/mxnet/libmxnet.so, 0x0006): tried: '/Users/christina/.pyenv/versions/3.8.16/envs/venv/lib/python3.8/site-packages/mxnet/libmxnet.so' (not a mach-o file), '/System/Volumes/Preboot/Cryptexes/OS/Users/christina/.pyenv/versions/3.8.16/envs/venv/lib/python3.8/site-packages/mxnet/libmxnet.so' (no such file), '/Users/christina/.pyenv/versions/3.8.16/envs/venv/lib/python3.8/site-packages/mxnet/libmxnet.so' (not a mach-o file)\n",
      "Traceback (most recent call last):\n",
      "  File \"/Users/christina/.pyenv/versions/3.8.16/envs/venv/lib/python3.8/site-packages/autogluon/core/models/abstract/model_trial.py\", line 43, in model_trial\n",
      "    model = fit_and_save_model(\n",
      "  File \"/Users/christina/.pyenv/versions/3.8.16/envs/venv/lib/python3.8/site-packages/autogluon/core/models/abstract/model_trial.py\", line 101, in fit_and_save_model\n",
      "    model.fit(**fit_args, time_limit=time_left)\n",
      "  File \"/Users/christina/.pyenv/versions/3.8.16/envs/venv/lib/python3.8/site-packages/autogluon/core/models/abstract/abstract_model.py\", line 703, in fit\n",
      "    out = self._fit(**kwargs)\n",
      "  File \"/Users/christina/.pyenv/versions/3.8.16/envs/venv/lib/python3.8/site-packages/autogluon/tabular/models/tabular_nn/mxnet/tabular_nn_mxnet.py\", line 135, in _fit\n",
      "    try_import_mxnet()\n",
      "  File \"/Users/christina/.pyenv/versions/3.8.16/envs/venv/lib/python3.8/site-packages/autogluon/core/utils/try_import.py\", line 38, in try_import_mxnet\n",
      "    import mxnet as mx\n",
      "  File \"/Users/christina/.pyenv/versions/3.8.16/envs/venv/lib/python3.8/site-packages/mxnet/__init__.py\", line 24, in <module>\n",
      "    from .context import Context, current_context, cpu, gpu, cpu_pinned\n",
      "  File \"/Users/christina/.pyenv/versions/3.8.16/envs/venv/lib/python3.8/site-packages/mxnet/context.py\", line 24, in <module>\n",
      "    from .base import classproperty, with_metaclass, _MXClassPropertyMetaClass\n",
      "  File \"/Users/christina/.pyenv/versions/3.8.16/envs/venv/lib/python3.8/site-packages/mxnet/base.py\", line 214, in <module>\n",
      "    _LIB = _load_lib()\n",
      "  File \"/Users/christina/.pyenv/versions/3.8.16/envs/venv/lib/python3.8/site-packages/mxnet/base.py\", line 205, in _load_lib\n",
      "    lib = ctypes.CDLL(lib_path[0], ctypes.RTLD_LOCAL)\n",
      "  File \"/Users/christina/.pyenv/versions/3.8.16/lib/python3.8/ctypes/__init__.py\", line 373, in __init__\n",
      "    self._handle = _dlopen(self._name, mode)\n",
      "OSError: dlopen(/Users/christina/.pyenv/versions/3.8.16/envs/venv/lib/python3.8/site-packages/mxnet/libmxnet.so, 0x0006): tried: '/Users/christina/.pyenv/versions/3.8.16/envs/venv/lib/python3.8/site-packages/mxnet/libmxnet.so' (not a mach-o file), '/System/Volumes/Preboot/Cryptexes/OS/Users/christina/.pyenv/versions/3.8.16/envs/venv/lib/python3.8/site-packages/mxnet/libmxnet.so' (no such file), '/Users/christina/.pyenv/versions/3.8.16/envs/venv/lib/python3.8/site-packages/mxnet/libmxnet.so' (not a mach-o file)\n",
      "dlopen(/Users/christina/.pyenv/versions/3.8.16/envs/venv/lib/python3.8/site-packages/mxnet/libmxnet.so, 0x0006): tried: '/Users/christina/.pyenv/versions/3.8.16/envs/venv/lib/python3.8/site-packages/mxnet/libmxnet.so' (not a mach-o file), '/System/Volumes/Preboot/Cryptexes/OS/Users/christina/.pyenv/versions/3.8.16/envs/venv/lib/python3.8/site-packages/mxnet/libmxnet.so' (no such file), '/Users/christina/.pyenv/versions/3.8.16/envs/venv/lib/python3.8/site-packages/mxnet/libmxnet.so' (not a mach-o file)\n",
      "Traceback (most recent call last):\n",
      "  File \"/Users/christina/.pyenv/versions/3.8.16/envs/venv/lib/python3.8/site-packages/autogluon/core/models/abstract/model_trial.py\", line 43, in model_trial\n",
      "    model = fit_and_save_model(\n",
      "  File \"/Users/christina/.pyenv/versions/3.8.16/envs/venv/lib/python3.8/site-packages/autogluon/core/models/abstract/model_trial.py\", line 101, in fit_and_save_model\n",
      "    model.fit(**fit_args, time_limit=time_left)\n",
      "  File \"/Users/christina/.pyenv/versions/3.8.16/envs/venv/lib/python3.8/site-packages/autogluon/core/models/abstract/abstract_model.py\", line 703, in fit\n",
      "    out = self._fit(**kwargs)\n",
      "  File \"/Users/christina/.pyenv/versions/3.8.16/envs/venv/lib/python3.8/site-packages/autogluon/tabular/models/tabular_nn/mxnet/tabular_nn_mxnet.py\", line 135, in _fit\n",
      "    try_import_mxnet()\n",
      "  File \"/Users/christina/.pyenv/versions/3.8.16/envs/venv/lib/python3.8/site-packages/autogluon/core/utils/try_import.py\", line 38, in try_import_mxnet\n",
      "    import mxnet as mx\n",
      "  File \"/Users/christina/.pyenv/versions/3.8.16/envs/venv/lib/python3.8/site-packages/mxnet/__init__.py\", line 24, in <module>\n",
      "    from .context import Context, current_context, cpu, gpu, cpu_pinned\n",
      "  File \"/Users/christina/.pyenv/versions/3.8.16/envs/venv/lib/python3.8/site-packages/mxnet/context.py\", line 24, in <module>\n",
      "    from .base import classproperty, with_metaclass, _MXClassPropertyMetaClass\n",
      "  File \"/Users/christina/.pyenv/versions/3.8.16/envs/venv/lib/python3.8/site-packages/mxnet/base.py\", line 214, in <module>\n",
      "    _LIB = _load_lib()\n",
      "  File \"/Users/christina/.pyenv/versions/3.8.16/envs/venv/lib/python3.8/site-packages/mxnet/base.py\", line 205, in _load_lib\n",
      "    lib = ctypes.CDLL(lib_path[0], ctypes.RTLD_LOCAL)\n",
      "  File \"/Users/christina/.pyenv/versions/3.8.16/lib/python3.8/ctypes/__init__.py\", line 373, in __init__\n",
      "    self._handle = _dlopen(self._name, mode)\n",
      "OSError: dlopen(/Users/christina/.pyenv/versions/3.8.16/envs/venv/lib/python3.8/site-packages/mxnet/libmxnet.so, 0x0006): tried: '/Users/christina/.pyenv/versions/3.8.16/envs/venv/lib/python3.8/site-packages/mxnet/libmxnet.so' (not a mach-o file), '/System/Volumes/Preboot/Cryptexes/OS/Users/christina/.pyenv/versions/3.8.16/envs/venv/lib/python3.8/site-packages/mxnet/libmxnet.so' (no such file), '/Users/christina/.pyenv/versions/3.8.16/envs/venv/lib/python3.8/site-packages/mxnet/libmxnet.so' (not a mach-o file)\n",
      "dlopen(/Users/christina/.pyenv/versions/3.8.16/envs/venv/lib/python3.8/site-packages/mxnet/libmxnet.so, 0x0006): tried: '/Users/christina/.pyenv/versions/3.8.16/envs/venv/lib/python3.8/site-packages/mxnet/libmxnet.so' (not a mach-o file), '/System/Volumes/Preboot/Cryptexes/OS/Users/christina/.pyenv/versions/3.8.16/envs/venv/lib/python3.8/site-packages/mxnet/libmxnet.so' (no such file), '/Users/christina/.pyenv/versions/3.8.16/envs/venv/lib/python3.8/site-packages/mxnet/libmxnet.so' (not a mach-o file)\n",
      "Traceback (most recent call last):\n",
      "  File \"/Users/christina/.pyenv/versions/3.8.16/envs/venv/lib/python3.8/site-packages/autogluon/core/models/abstract/model_trial.py\", line 43, in model_trial\n",
      "    model = fit_and_save_model(\n",
      "  File \"/Users/christina/.pyenv/versions/3.8.16/envs/venv/lib/python3.8/site-packages/autogluon/core/models/abstract/model_trial.py\", line 101, in fit_and_save_model\n",
      "    model.fit(**fit_args, time_limit=time_left)\n",
      "  File \"/Users/christina/.pyenv/versions/3.8.16/envs/venv/lib/python3.8/site-packages/autogluon/core/models/abstract/abstract_model.py\", line 703, in fit\n",
      "    out = self._fit(**kwargs)\n",
      "  File \"/Users/christina/.pyenv/versions/3.8.16/envs/venv/lib/python3.8/site-packages/autogluon/tabular/models/tabular_nn/mxnet/tabular_nn_mxnet.py\", line 135, in _fit\n",
      "    try_import_mxnet()\n",
      "  File \"/Users/christina/.pyenv/versions/3.8.16/envs/venv/lib/python3.8/site-packages/autogluon/core/utils/try_import.py\", line 38, in try_import_mxnet\n",
      "    import mxnet as mx\n",
      "  File \"/Users/christina/.pyenv/versions/3.8.16/envs/venv/lib/python3.8/site-packages/mxnet/__init__.py\", line 24, in <module>\n",
      "    from .context import Context, current_context, cpu, gpu, cpu_pinned\n",
      "  File \"/Users/christina/.pyenv/versions/3.8.16/envs/venv/lib/python3.8/site-packages/mxnet/context.py\", line 24, in <module>\n",
      "    from .base import classproperty, with_metaclass, _MXClassPropertyMetaClass\n",
      "  File \"/Users/christina/.pyenv/versions/3.8.16/envs/venv/lib/python3.8/site-packages/mxnet/base.py\", line 214, in <module>\n",
      "    _LIB = _load_lib()\n",
      "  File \"/Users/christina/.pyenv/versions/3.8.16/envs/venv/lib/python3.8/site-packages/mxnet/base.py\", line 205, in _load_lib\n",
      "    lib = ctypes.CDLL(lib_path[0], ctypes.RTLD_LOCAL)\n",
      "  File \"/Users/christina/.pyenv/versions/3.8.16/lib/python3.8/ctypes/__init__.py\", line 373, in __init__\n",
      "    self._handle = _dlopen(self._name, mode)\n",
      "OSError: dlopen(/Users/christina/.pyenv/versions/3.8.16/envs/venv/lib/python3.8/site-packages/mxnet/libmxnet.so, 0x0006): tried: '/Users/christina/.pyenv/versions/3.8.16/envs/venv/lib/python3.8/site-packages/mxnet/libmxnet.so' (not a mach-o file), '/System/Volumes/Preboot/Cryptexes/OS/Users/christina/.pyenv/versions/3.8.16/envs/venv/lib/python3.8/site-packages/mxnet/libmxnet.so' (no such file), '/Users/christina/.pyenv/versions/3.8.16/envs/venv/lib/python3.8/site-packages/mxnet/libmxnet.so' (not a mach-o file)\n",
      "No model was trained during hyperparameter tuning NeuralNetMXNet... Skipping this model.\n",
      "Fitting model: WeightedEnsemble_L2 ... Training model for up to 360.0s of the 1193.33s of remaining time.\n",
      "\t-43.4864\t = Validation score   (-root_mean_squared_error)\n",
      "\t0.05s\t = Training   runtime\n",
      "\t0.0s\t = Validation runtime\n",
      "AutoGluon training complete, total runtime = 6.74s ... Best model: \"WeightedEnsemble_L2\"\n",
      "TabularPredictor saved. To load, use: predictor = TabularPredictor.load(\"AutogluonModels/ag-20230315_204518/\")\n"
     ]
    }
   ],
   "source": [
    "predictor_new_hpo = TabularPredictor(label=\"count\", eval_metric=\"root_mean_squared_error\", learner_kwargs={\"ignored_columns\": [\"casual\", \"registered\"]}).fit(\n",
    "    train_new_feat, time_limit=20*60, hyperparameters=hyperparameters2, hyperparameter_tune_kwargs=hyperparameter_tune_kwargs\n",
    ")"
   ]
  },
  {
   "cell_type": "code",
   "execution_count": 49,
   "metadata": {
    "collapsed": true,
    "jupyter": {
     "outputs_hidden": true
    },
    "tags": []
   },
   "outputs": [
    {
     "name": "stdout",
     "output_type": "stream",
     "text": [
      "*** Summary of fit() ***\n",
      "Estimated performance of each model:\n",
      "                 model   score_val  pred_time_val  fit_time  pred_time_val_marginal  fit_time_marginal  stack_level  can_infer  fit_order\n",
      "0  WeightedEnsemble_L2  -43.486425       0.010851  2.894736                0.000158           0.053931            2       True          6\n",
      "1          LightGBM/T3  -44.156024       0.005488  1.849766                0.005488           1.849766            1       True          3\n",
      "2          LightGBM/T2  -44.258582       0.005205  0.991039                0.005205           0.991039            1       True          2\n",
      "3          LightGBM/T1  -45.495700       0.004017  1.245576                0.004017           1.245576            1       True          1\n",
      "4          LightGBM/T5  -48.484394       0.004313  1.393856                0.004313           1.393856            1       True          5\n",
      "5          LightGBM/T4 -123.593978       0.003316  0.949088                0.003316           0.949088            1       True          4\n",
      "Number of models trained: 6\n",
      "Types of models trained:\n",
      "{'WeightedEnsembleModel', 'LGBModel'}\n",
      "Bagging used: False \n",
      "Multi-layer stack-ensembling used: False \n",
      "Feature Metadata (Processed):\n",
      "(raw dtype, special dtypes):\n",
      "('category', [])  : 2 | ['season', 'weather']\n",
      "('float', [])     : 3 | ['temp', 'atemp', 'windspeed']\n",
      "('int', [])       : 4 | ['humidity', 'datetime.month', 'datetime.day', 'datetime.hour']\n",
      "('int', ['bool']) : 3 | ['holiday', 'workingday', 'year']\n",
      "*** End of fit() summary ***\n"
     ]
    },
    {
     "name": "stderr",
     "output_type": "stream",
     "text": [
      "/Users/christina/.pyenv/versions/3.8.16/envs/venv/lib/python3.8/site-packages/autogluon/core/utils/plots.py:138: UserWarning: AutoGluon summary plots cannot be created because bokeh is not installed. To see plots, please do: \"pip install bokeh==2.0.1\"\n",
      "  warnings.warn('AutoGluon summary plots cannot be created because bokeh is not installed. To see plots, please do: \"pip install bokeh==2.0.1\"')\n"
     ]
    },
    {
     "data": {
      "text/plain": [
       "{'model_types': {'LightGBM/T1': 'LGBModel',\n",
       "  'LightGBM/T2': 'LGBModel',\n",
       "  'LightGBM/T3': 'LGBModel',\n",
       "  'LightGBM/T4': 'LGBModel',\n",
       "  'LightGBM/T5': 'LGBModel',\n",
       "  'WeightedEnsemble_L2': 'WeightedEnsembleModel'},\n",
       " 'model_performance': {'LightGBM/T1': -45.49569950119281,\n",
       "  'LightGBM/T2': -44.258582054131715,\n",
       "  'LightGBM/T3': -44.15602353445856,\n",
       "  'LightGBM/T4': -123.59397793534573,\n",
       "  'LightGBM/T5': -48.48439432263587,\n",
       "  'WeightedEnsemble_L2': -43.48642518939267},\n",
       " 'model_best': 'WeightedEnsemble_L2',\n",
       " 'model_paths': {'LightGBM/T1': '/Users/christina/aws_ml_nano/cd0385-project-starter/project/AutogluonModels/ag-20230315_204518/models/LightGBM/T1/',\n",
       "  'LightGBM/T2': '/Users/christina/aws_ml_nano/cd0385-project-starter/project/AutogluonModels/ag-20230315_204518/models/LightGBM/T2/',\n",
       "  'LightGBM/T3': '/Users/christina/aws_ml_nano/cd0385-project-starter/project/AutogluonModels/ag-20230315_204518/models/LightGBM/T3/',\n",
       "  'LightGBM/T4': '/Users/christina/aws_ml_nano/cd0385-project-starter/project/AutogluonModels/ag-20230315_204518/models/LightGBM/T4/',\n",
       "  'LightGBM/T5': '/Users/christina/aws_ml_nano/cd0385-project-starter/project/AutogluonModels/ag-20230315_204518/models/LightGBM/T5/',\n",
       "  'WeightedEnsemble_L2': 'AutogluonModels/ag-20230315_204518/models/WeightedEnsemble_L2/'},\n",
       " 'model_fit_times': {'LightGBM/T1': 1.2455759048461914,\n",
       "  'LightGBM/T2': 0.9910390377044678,\n",
       "  'LightGBM/T3': 1.8497660160064697,\n",
       "  'LightGBM/T4': 0.9490878582000732,\n",
       "  'LightGBM/T5': 1.3938560485839844,\n",
       "  'WeightedEnsemble_L2': 0.05393099784851074},\n",
       " 'model_pred_times': {'LightGBM/T1': 0.0040171146392822266,\n",
       "  'LightGBM/T2': 0.005204916000366211,\n",
       "  'LightGBM/T3': 0.005487918853759766,\n",
       "  'LightGBM/T4': 0.003316164016723633,\n",
       "  'LightGBM/T5': 0.004312992095947266,\n",
       "  'WeightedEnsemble_L2': 0.00015807151794433594},\n",
       " 'num_bag_folds': 0,\n",
       " 'max_stack_level': 2,\n",
       " 'model_hyperparams': {'LightGBM/T1': {'learning_rate': 0.05,\n",
       "   'num_boost_round': 100,\n",
       "   'num_leaves': 36,\n",
       "   'feature_fraction': 1.0,\n",
       "   'min_data_in_leaf': 20},\n",
       "  'LightGBM/T2': {'learning_rate': 0.06994332504138305,\n",
       "   'num_boost_round': 100,\n",
       "   'num_leaves': 29,\n",
       "   'feature_fraction': 0.8872033759818312,\n",
       "   'min_data_in_leaf': 5},\n",
       "  'LightGBM/T3': {'learning_rate': 0.049883446878335284,\n",
       "   'num_boost_round': 100,\n",
       "   'num_leaves': 62,\n",
       "   'feature_fraction': 0.9618129346960314,\n",
       "   'min_data_in_leaf': 52},\n",
       "  'LightGBM/T4': {'learning_rate': 0.006163502781172814,\n",
       "   'num_boost_round': 100,\n",
       "   'num_leaves': 27,\n",
       "   'feature_fraction': 0.824383651636118,\n",
       "   'min_data_in_leaf': 14},\n",
       "  'LightGBM/T5': {'learning_rate': 0.035179640321040824,\n",
       "   'num_boost_round': 100,\n",
       "   'num_leaves': 43,\n",
       "   'feature_fraction': 0.9479312595206661,\n",
       "   'min_data_in_leaf': 26},\n",
       "  'WeightedEnsemble_L2': {'use_orig_features': False,\n",
       "   'max_base_models': 25,\n",
       "   'max_base_models_per_type': 5,\n",
       "   'save_bag_folds': True}},\n",
       " 'leaderboard':                  model   score_val  pred_time_val  fit_time  \\\n",
       " 0  WeightedEnsemble_L2  -43.486425       0.010851  2.894736   \n",
       " 1          LightGBM/T3  -44.156024       0.005488  1.849766   \n",
       " 2          LightGBM/T2  -44.258582       0.005205  0.991039   \n",
       " 3          LightGBM/T1  -45.495700       0.004017  1.245576   \n",
       " 4          LightGBM/T5  -48.484394       0.004313  1.393856   \n",
       " 5          LightGBM/T4 -123.593978       0.003316  0.949088   \n",
       " \n",
       "    pred_time_val_marginal  fit_time_marginal  stack_level  can_infer  \\\n",
       " 0                0.000158           0.053931            2       True   \n",
       " 1                0.005488           1.849766            1       True   \n",
       " 2                0.005205           0.991039            1       True   \n",
       " 3                0.004017           1.245576            1       True   \n",
       " 4                0.004313           1.393856            1       True   \n",
       " 5                0.003316           0.949088            1       True   \n",
       " \n",
       "    fit_order  \n",
       " 0          6  \n",
       " 1          3  \n",
       " 2          2  \n",
       " 3          1  \n",
       " 4          5  \n",
       " 5          4  }"
      ]
     },
     "execution_count": 49,
     "metadata": {},
     "output_type": "execute_result"
    }
   ],
   "source": [
    "#hpo2\n",
    "predictor_new_hpo.fit_summary()"
   ]
  },
  {
   "cell_type": "code",
   "execution_count": 173,
   "metadata": {
    "collapsed": true,
    "jupyter": {
     "outputs_hidden": true
    },
    "tags": []
   },
   "outputs": [
    {
     "name": "stderr",
     "output_type": "stream",
     "text": [
      "Computing feature importance via permutation shuffling for 14 features using 5000 rows with 5 shuffle sets...\n",
      "[W ParallelNative.cpp:229] Warning: Cannot set number of intraop threads after parallel work has started or after set_num_threads call when using native parallel backend (function set_num_threads)\n",
      "\t4.93s\t= Expected runtime (0.99s per shuffle set)\n",
      "[W ParallelNative.cpp:229] Warning: Cannot set number of intraop threads after parallel work has started or after set_num_threads call when using native parallel backend (function set_num_threads)\n",
      "[W ParallelNative.cpp:229] Warning: Cannot set number of intraop threads after parallel work has started or after set_num_threads call when using native parallel backend (function set_num_threads)\n",
      "[W ParallelNative.cpp:229] Warning: Cannot set number of intraop threads after parallel work has started or after set_num_threads call when using native parallel backend (function set_num_threads)\n",
      "[W ParallelNative.cpp:229] Warning: Cannot set number of intraop threads after parallel work has started or after set_num_threads call when using native parallel backend (function set_num_threads)\n",
      "[W ParallelNative.cpp:229] Warning: Cannot set number of intraop threads after parallel work has started or after set_num_threads call when using native parallel backend (function set_num_threads)\n",
      "[W ParallelNative.cpp:229] Warning: Cannot set number of intraop threads after parallel work has started or after set_num_threads call when using native parallel backend (function set_num_threads)\n",
      "[W ParallelNative.cpp:229] Warning: Cannot set number of intraop threads after parallel work has started or after set_num_threads call when using native parallel backend (function set_num_threads)\n",
      "[W ParallelNative.cpp:229] Warning: Cannot set number of intraop threads after parallel work has started or after set_num_threads call when using native parallel backend (function set_num_threads)\n",
      "[W ParallelNative.cpp:229] Warning: Cannot set number of intraop threads after parallel work has started or after set_num_threads call when using native parallel backend (function set_num_threads)\n",
      "\t2.02s\t= Actual runtime (Completed 5 of 5 shuffle sets)\n"
     ]
    },
    {
     "data": {
      "text/html": [
       "<div>\n",
       "<style scoped>\n",
       "    .dataframe tbody tr th:only-of-type {\n",
       "        vertical-align: middle;\n",
       "    }\n",
       "\n",
       "    .dataframe tbody tr th {\n",
       "        vertical-align: top;\n",
       "    }\n",
       "\n",
       "    .dataframe thead th {\n",
       "        text-align: right;\n",
       "    }\n",
       "</style>\n",
       "<table border=\"1\" class=\"dataframe\">\n",
       "  <thead>\n",
       "    <tr style=\"text-align: right;\">\n",
       "      <th></th>\n",
       "      <th>importance</th>\n",
       "      <th>stddev</th>\n",
       "      <th>p_value</th>\n",
       "      <th>n</th>\n",
       "      <th>p99_high</th>\n",
       "      <th>p99_low</th>\n",
       "    </tr>\n",
       "  </thead>\n",
       "  <tbody>\n",
       "    <tr>\n",
       "      <th>registered</th>\n",
       "      <td>217.032241</td>\n",
       "      <td>3.112769</td>\n",
       "      <td>5.076365e-09</td>\n",
       "      <td>5</td>\n",
       "      <td>223.441476</td>\n",
       "      <td>210.623006</td>\n",
       "    </tr>\n",
       "    <tr>\n",
       "      <th>casual</th>\n",
       "      <td>58.237935</td>\n",
       "      <td>1.252262</td>\n",
       "      <td>2.563719e-08</td>\n",
       "      <td>5</td>\n",
       "      <td>60.816360</td>\n",
       "      <td>55.659511</td>\n",
       "    </tr>\n",
       "    <tr>\n",
       "      <th>hour</th>\n",
       "      <td>1.507786</td>\n",
       "      <td>0.037150</td>\n",
       "      <td>4.418757e-08</td>\n",
       "      <td>5</td>\n",
       "      <td>1.584278</td>\n",
       "      <td>1.431294</td>\n",
       "    </tr>\n",
       "    <tr>\n",
       "      <th>datetime</th>\n",
       "      <td>1.299049</td>\n",
       "      <td>0.090993</td>\n",
       "      <td>2.869954e-06</td>\n",
       "      <td>5</td>\n",
       "      <td>1.486405</td>\n",
       "      <td>1.111693</td>\n",
       "    </tr>\n",
       "    <tr>\n",
       "      <th>workingday</th>\n",
       "      <td>0.475575</td>\n",
       "      <td>0.039384</td>\n",
       "      <td>5.592866e-06</td>\n",
       "      <td>5</td>\n",
       "      <td>0.556668</td>\n",
       "      <td>0.394482</td>\n",
       "    </tr>\n",
       "    <tr>\n",
       "      <th>month</th>\n",
       "      <td>0.200136</td>\n",
       "      <td>0.006319</td>\n",
       "      <td>1.191117e-07</td>\n",
       "      <td>5</td>\n",
       "      <td>0.213148</td>\n",
       "      <td>0.187125</td>\n",
       "    </tr>\n",
       "    <tr>\n",
       "      <th>day</th>\n",
       "      <td>0.200023</td>\n",
       "      <td>0.027060</td>\n",
       "      <td>3.923239e-05</td>\n",
       "      <td>5</td>\n",
       "      <td>0.255740</td>\n",
       "      <td>0.144306</td>\n",
       "    </tr>\n",
       "    <tr>\n",
       "      <th>season</th>\n",
       "      <td>0.171566</td>\n",
       "      <td>0.009179</td>\n",
       "      <td>9.795725e-07</td>\n",
       "      <td>5</td>\n",
       "      <td>0.190466</td>\n",
       "      <td>0.152666</td>\n",
       "    </tr>\n",
       "    <tr>\n",
       "      <th>humidity</th>\n",
       "      <td>0.084056</td>\n",
       "      <td>0.028748</td>\n",
       "      <td>1.414022e-03</td>\n",
       "      <td>5</td>\n",
       "      <td>0.143248</td>\n",
       "      <td>0.024864</td>\n",
       "    </tr>\n",
       "    <tr>\n",
       "      <th>atemp</th>\n",
       "      <td>0.080486</td>\n",
       "      <td>0.014800</td>\n",
       "      <td>1.312242e-04</td>\n",
       "      <td>5</td>\n",
       "      <td>0.110960</td>\n",
       "      <td>0.050013</td>\n",
       "    </tr>\n",
       "    <tr>\n",
       "      <th>temp</th>\n",
       "      <td>0.078639</td>\n",
       "      <td>0.007066</td>\n",
       "      <td>7.738538e-06</td>\n",
       "      <td>5</td>\n",
       "      <td>0.093188</td>\n",
       "      <td>0.064090</td>\n",
       "    </tr>\n",
       "    <tr>\n",
       "      <th>windspeed</th>\n",
       "      <td>0.024476</td>\n",
       "      <td>0.012945</td>\n",
       "      <td>6.696601e-03</td>\n",
       "      <td>5</td>\n",
       "      <td>0.051129</td>\n",
       "      <td>-0.002178</td>\n",
       "    </tr>\n",
       "    <tr>\n",
       "      <th>weather</th>\n",
       "      <td>0.010387</td>\n",
       "      <td>0.005875</td>\n",
       "      <td>8.384117e-03</td>\n",
       "      <td>5</td>\n",
       "      <td>0.022484</td>\n",
       "      <td>-0.001709</td>\n",
       "    </tr>\n",
       "    <tr>\n",
       "      <th>holiday</th>\n",
       "      <td>0.002989</td>\n",
       "      <td>0.003158</td>\n",
       "      <td>5.086340e-02</td>\n",
       "      <td>5</td>\n",
       "      <td>0.009491</td>\n",
       "      <td>-0.003513</td>\n",
       "    </tr>\n",
       "  </tbody>\n",
       "</table>\n",
       "</div>"
      ],
      "text/plain": [
       "            importance    stddev       p_value  n    p99_high     p99_low\n",
       "registered  217.032241  3.112769  5.076365e-09  5  223.441476  210.623006\n",
       "casual       58.237935  1.252262  2.563719e-08  5   60.816360   55.659511\n",
       "hour          1.507786  0.037150  4.418757e-08  5    1.584278    1.431294\n",
       "datetime      1.299049  0.090993  2.869954e-06  5    1.486405    1.111693\n",
       "workingday    0.475575  0.039384  5.592866e-06  5    0.556668    0.394482\n",
       "month         0.200136  0.006319  1.191117e-07  5    0.213148    0.187125\n",
       "day           0.200023  0.027060  3.923239e-05  5    0.255740    0.144306\n",
       "season        0.171566  0.009179  9.795725e-07  5    0.190466    0.152666\n",
       "humidity      0.084056  0.028748  1.414022e-03  5    0.143248    0.024864\n",
       "atemp         0.080486  0.014800  1.312242e-04  5    0.110960    0.050013\n",
       "temp          0.078639  0.007066  7.738538e-06  5    0.093188    0.064090\n",
       "windspeed     0.024476  0.012945  6.696601e-03  5    0.051129   -0.002178\n",
       "weather       0.010387  0.005875  8.384117e-03  5    0.022484   -0.001709\n",
       "holiday       0.002989  0.003158  5.086340e-02  5    0.009491   -0.003513"
      ]
     },
     "execution_count": 173,
     "metadata": {},
     "output_type": "execute_result"
    }
   ],
   "source": [
    "predictor_new_hpo.feature_importance(data=train_new_feat)"
   ]
  },
  {
   "cell_type": "code",
   "execution_count": 50,
   "metadata": {
    "collapsed": true,
    "jupyter": {
     "outputs_hidden": true
    },
    "tags": []
   },
   "outputs": [
    {
     "data": {
      "text/plain": [
       "<Axes: xlabel='model'>"
      ]
     },
     "execution_count": 50,
     "metadata": {},
     "output_type": "execute_result"
    },
    {
     "data": {
      "image/png": "[encoded data removed]",
      "text/plain": [
       "<Figure size 640x480 with 1 Axes>"
      ]
     },
     "metadata": {},
     "output_type": "display_data"
    }
   ],
   "source": [
    "predictor_new_hpo.leaderboard(silent=True).plot(kind=\"bar\", x=\"model\", y=\"score_val\")"
   ]
  },
  {
   "cell_type": "code",
   "execution_count": 51,
   "metadata": {
    "tags": []
   },
   "outputs": [
    {
     "data": {
      "text/plain": [
       "-43.48642518939267"
      ]
     },
     "execution_count": 51,
     "metadata": {},
     "output_type": "execute_result"
    }
   ],
   "source": [
    "hpo_best_model_score = predictor_new_hpo.leaderboard(silent=True).score_val[0]\n",
    "hpo_best_model_score"
   ]
  },
  {
   "cell_type": "code",
   "execution_count": 52,
   "metadata": {
    "tags": []
   },
   "outputs": [
    {
     "data": {
      "text/plain": [
       "'WeightedEnsemble_L2'"
      ]
     },
     "execution_count": 52,
     "metadata": {},
     "output_type": "execute_result"
    }
   ],
   "source": [
    "hpo_best_model = predictor_new_hpo.leaderboard(silent=True).model[0]\n",
    "hpo_best_model"
   ]
  },
  {
   "cell_type": "code",
   "execution_count": 54,
   "metadata": {
    "tags": []
   },
   "outputs": [
    {
     "data": {
      "text/plain": [
       "0    17.183256\n",
       "1     9.089851\n",
       "2     4.937253\n",
       "3     4.937253\n",
       "4     4.937253\n",
       "Name: count, dtype: float32"
      ]
     },
     "execution_count": 54,
     "metadata": {},
     "output_type": "execute_result"
    }
   ],
   "source": [
    "#hpo2\n",
    "predictions_new_hpo = predictor_new_hpo.predict(test_new_feat)\n",
    "predictions_new_hpo.head()"
   ]
  },
  {
   "cell_type": "code",
   "execution_count": 56,
   "metadata": {
    "tags": []
   },
   "outputs": [
    {
     "data": {
      "text/plain": [
       "count    6493.000000\n",
       "mean      182.854645\n",
       "std       160.421509\n",
       "min        -2.774205\n",
       "25%        48.479568\n",
       "50%       148.598038\n",
       "75%       265.589752\n",
       "max       857.163940\n",
       "Name: count, dtype: float64"
      ]
     },
     "execution_count": 56,
     "metadata": {},
     "output_type": "execute_result"
    }
   ],
   "source": [
    "#hpo2\n",
    "predictions_new_hpo.describe()"
   ]
  },
  {
   "cell_type": "code",
   "execution_count": 57,
   "metadata": {
    "tags": []
   },
   "outputs": [
    {
     "data": {
      "text/plain": [
       "17"
      ]
     },
     "execution_count": 57,
     "metadata": {},
     "output_type": "execute_result"
    }
   ],
   "source": [
    "predictions_new_hpo[predictions_new_hpo < 0].count()"
   ]
  },
  {
   "cell_type": "code",
   "execution_count": 58,
   "metadata": {
    "tags": []
   },
   "outputs": [],
   "source": [
    "predictions_new_hpo[predictions_new_hpo < 0] = 0"
   ]
  },
  {
   "cell_type": "code",
   "execution_count": 59,
   "metadata": {
    "tags": []
   },
   "outputs": [],
   "source": [
    "submission_new_hpo = pd.read_csv('/Users/christina/aws_ml_nano/cd0385-project-starter/project/bike-sharing-demand/sampleSubmission.csv', parse_dates=['datetime'])\n",
    "submission_new_hpo[\"count\"] = predictions_new_hpo\n",
    "submission_new_hpo.to_csv(\"submission_new_hpo.csv\", index=False)"
   ]
  },
  {
   "cell_type": "code",
   "execution_count": 60,
   "metadata": {
    "tags": []
   },
   "outputs": [
    {
     "name": "stdout",
     "output_type": "stream",
     "text": [
      "100%|█████████████████████████████████████████| 188k/188k [00:01<00:00, 121kB/s]\n",
      "Successfully submitted to Bike Sharing Demand"
     ]
    }
   ],
   "source": [
    "!kaggle competitions submit -c bike-sharing-demand -f submission_new_hpo.csv -m \"new features with hyperparameters\""
   ]
  },
  {
   "cell_type": "code",
   "execution_count": 61,
   "metadata": {
    "tags": []
   },
   "outputs": [
    {
     "name": "stdout",
     "output_type": "stream",
     "text": [
      "fileName                     date                 description                        status    publicScore  privateScore  \n",
      "---------------------------  -------------------  ---------------------------------  --------  -----------  ------------  \n",
      "submission_new_hpo.csv       2023-03-15 20:49:20  new features with hyperparameters  complete  0.58178      0.58178       \n",
      "submission_new_features.csv  2023-03-15 20:41:00  new features                       complete  0.49843      0.49843       \n",
      "submission.csv               2023-03-15 20:07:22  first raw submission               complete  1.82268      1.82268       \n",
      "submission_new_hpo.csv       2023-03-08 00:18:14  new features with hyperparameters  complete  0.57948      0.57948       \n"
     ]
    }
   ],
   "source": [
    "!kaggle competitions submissions -c bike-sharing-demand | tail -n +1 | head -n 6"
   ]
  },
  {
   "cell_type": "markdown",
   "metadata": {
    "tags": []
   },
   "source": [
    "#### New Score of `0.58178`"
   ]
  },
  {
   "cell_type": "code",
   "execution_count": 62,
   "metadata": {
    "tags": []
   },
   "outputs": [
    {
     "data": {
      "image/png": "[encoded data removed]",
      "text/plain": [
       "<Figure size 800x600 with 1 Axes>"
      ]
     },
     "metadata": {},
     "output_type": "display_data"
    }
   ],
   "source": [
    "fig = pd.DataFrame(\n",
    "    {\n",
    "        \"model\": [\"initial\", \"add_features\", \"hpo\"],\n",
    "        \"score\": [initial_best_model_score, new_feature_best_model_score, hpo_best_model_score]\n",
    "    }\n",
    ").plot(x=\"model\", y=\"score\", figsize=(8, 6)).get_figure()\n",
    "fig.savefig('model_train_score.png')"
   ]
  },
  {
   "cell_type": "code",
   "execution_count": 63,
   "metadata": {
    "tags": []
   },
   "outputs": [
    {
     "data": {
      "image/png": "[encoded data removed]",
      "text/plain": [
       "<Figure size 800x600 with 1 Axes>"
      ]
     },
     "metadata": {},
     "output_type": "display_data"
    }
   ],
   "source": [
    "fig = pd.DataFrame(\n",
    "    {\n",
    "        \"test_eval\": [\"initial\", \"add_features\", \"hpo\"],\n",
    "        \"score\": [1.79873, 0.49462, 0.58178]\n",
    "    }\n",
    ").plot(x=\"test_eval\", y=\"score\", figsize=(8, 6)).get_figure()\n",
    "fig.savefig('model_test_score.png')"
   ]
  },
  {
   "cell_type": "markdown",
   "metadata": {},
   "source": [
    "### Hyperparameter table"
   ]
  },
  {
   "cell_type": "code",
   "execution_count": 68,
   "metadata": {
    "tags": []
   },
   "outputs": [
    {
     "data": {
      "text/html": [
       "<div>\n",
       "<style scoped>\n",
       "    .dataframe tbody tr th:only-of-type {\n",
       "        vertical-align: middle;\n",
       "    }\n",
       "\n",
       "    .dataframe tbody tr th {\n",
       "        vertical-align: top;\n",
       "    }\n",
       "\n",
       "    .dataframe thead th {\n",
       "        text-align: right;\n",
       "    }\n",
       "</style>\n",
       "<table border=\"1\" class=\"dataframe\">\n",
       "  <thead>\n",
       "    <tr style=\"text-align: right;\">\n",
       "      <th></th>\n",
       "      <th>model</th>\n",
       "      <th>hpo1</th>\n",
       "      <th>hpo2</th>\n",
       "      <th>hpo3</th>\n",
       "      <th>score</th>\n",
       "    </tr>\n",
       "  </thead>\n",
       "  <tbody>\n",
       "    <tr>\n",
       "      <th>0</th>\n",
       "      <td>initial</td>\n",
       "      <td>default</td>\n",
       "      <td>default</td>\n",
       "      <td>default</td>\n",
       "      <td>1.79873</td>\n",
       "    </tr>\n",
       "    <tr>\n",
       "      <th>1</th>\n",
       "      <td>add_features</td>\n",
       "      <td>default</td>\n",
       "      <td>default</td>\n",
       "      <td>default</td>\n",
       "      <td>0.49462</td>\n",
       "    </tr>\n",
       "    <tr>\n",
       "      <th>2</th>\n",
       "      <td>hpo</td>\n",
       "      <td>{'GBM': {'num_boost_round': 100, 'num_leaves': Int: lower=26, upper=66}, 'NN': {'num_epochs': 10, 'learning_rate': Real: lower=1e-05, upper=10.0, 'activation': ['relu', 'softrelu', 'leakyrelu'], 'layers': [[100], [1000], [200, 100], [300, 200, 100]], 'dropout_prob': Real: lower=0.0, upper=0.5}, 'XGB': {'eta': Real: lower=1e-05, upper=10.0, 'max_depth': Int: lower=2, upper=10, 'sampling_method': ['uniform', 'gradient_based']}, 'RF': {'max_depth': Int: lower=10, upper=100, 'max_features': ['log2', 'sqrt'], 'min_samples_leaf': Int: lower=1, upper=5, 'min_samples_split': Int: lower=2, upper=10...</td>\n",
       "      <td>{'GBM': {'num_boost_round': 100, 'num_leaves': Int: lower=26, upper=66}, 'NN': {'num_epochs': 10, 'learning_rate': Real: lower=1e-05, upper=10, 'activation': ['relu', 'softrelu', 'leakyrelu'], 'layers': [[100], [1000], [200, 100], [300, 200, 100]], 'dropout_prob': Real: lower=0.0, upper=0.5}}</td>\n",
       "      <td>{'FASTAI': {'num_epochs': 10, 'learning_rate': Real: lower=0.0001, upper=0.01, 'activation': ['relu', 'softrelu', 'tanh'], 'dropout_prob': Real: lower=0.0, upper=0.5}, 'GBM': {'num_boost_round': 100, 'num_leaves': Int: lower=40, upper=66}, 'CAT': {'learning_rate': Real: lower=0.0001, upper=0.01}}</td>\n",
       "      <td>0.58178</td>\n",
       "    </tr>\n",
       "  </tbody>\n",
       "</table>\n",
       "</div>"
      ],
      "text/plain": [
       "          model  \\\n",
       "0       initial   \n",
       "1  add_features   \n",
       "2           hpo   \n",
       "\n",
       "                                                                                                                                                                                                                                                                                                                                                                                                                                                                                                                                                                                                                      hpo1  \\\n",
       "0                                                                                                                                                                                                                                                                                                                                                                                                                                                                                                                                                                                                                  default   \n",
       "1                                                                                                                                                                                                                                                                                                                                                                                                                                                                                                                                                                                                                  default   \n",
       "2  {'GBM': {'num_boost_round': 100, 'num_leaves': Int: lower=26, upper=66}, 'NN': {'num_epochs': 10, 'learning_rate': Real: lower=1e-05, upper=10.0, 'activation': ['relu', 'softrelu', 'leakyrelu'], 'layers': [[100], [1000], [200, 100], [300, 200, 100]], 'dropout_prob': Real: lower=0.0, upper=0.5}, 'XGB': {'eta': Real: lower=1e-05, upper=10.0, 'max_depth': Int: lower=2, upper=10, 'sampling_method': ['uniform', 'gradient_based']}, 'RF': {'max_depth': Int: lower=10, upper=100, 'max_features': ['log2', 'sqrt'], 'min_samples_leaf': Int: lower=1, upper=5, 'min_samples_split': Int: lower=2, upper=10...   \n",
       "\n",
       "                                                                                                                                                                                                                                                                                                    hpo2  \\\n",
       "0                                                                                                                                                                                                                                                                                                default   \n",
       "1                                                                                                                                                                                                                                                                                                default   \n",
       "2  {'GBM': {'num_boost_round': 100, 'num_leaves': Int: lower=26, upper=66}, 'NN': {'num_epochs': 10, 'learning_rate': Real: lower=1e-05, upper=10, 'activation': ['relu', 'softrelu', 'leakyrelu'], 'layers': [[100], [1000], [200, 100], [300, 200, 100]], 'dropout_prob': Real: lower=0.0, upper=0.5}}   \n",
       "\n",
       "                                                                                                                                                                                                                                                                                                        hpo3  \\\n",
       "0                                                                                                                                                                                                                                                                                                    default   \n",
       "1                                                                                                                                                                                                                                                                                                    default   \n",
       "2  {'FASTAI': {'num_epochs': 10, 'learning_rate': Real: lower=0.0001, upper=0.01, 'activation': ['relu', 'softrelu', 'tanh'], 'dropout_prob': Real: lower=0.0, upper=0.5}, 'GBM': {'num_boost_round': 100, 'num_leaves': Int: lower=40, upper=66}, 'CAT': {'learning_rate': Real: lower=0.0001, upper=0.01}}   \n",
       "\n",
       "     score  \n",
       "0  1.79873  \n",
       "1  0.49462  \n",
       "2  0.58178  "
      ]
     },
     "execution_count": 68,
     "metadata": {},
     "output_type": "execute_result"
    }
   ],
   "source": [
    "pd.DataFrame({\n",
    "    \"model\": [\"initial\", \"add_features\", \"hpo\"],\n",
    "    \"hpo1\": [\"default\", \"default\", hyperparameters],\n",
    "    \"hpo2\": [\"default\", \"default\", hyperparameters2],\n",
    "    \"hpo3\": [\"default\", \"default\", hyperparameters3],\n",
    "    \"score\": [1.79873, 0.49462, 0.58178]\n",
    "})"
   ]
  },
  {
   "cell_type": "code",
   "execution_count": null,
   "metadata": {},
   "outputs": [],
   "source": []
  }
 ],
 "metadata": {
  "kernelspec": {
   "display_name": "Python 3 (ipykernel)",
   "language": "python",
   "name": "python3"
  },
  "language_info": {
   "codemirror_mode": {
    "name": "ipython",
    "version": 3
   },
   "file_extension": ".py",
   "mimetype": "text/x-python",
   "name": "python",
   "nbconvert_exporter": "python",
   "pygments_lexer": "ipython3",
   "version": "3.8.16"
  }
 },
 "nbformat": 4,
 "nbformat_minor": 4
}
